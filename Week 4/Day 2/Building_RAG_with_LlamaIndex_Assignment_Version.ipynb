{
  "cells": [
    {
      "cell_type": "markdown",
      "metadata": {
        "id": "x5TTdyIoo3i7"
      },
      "source": [
        "# Creating a LlamaIndex RAG Pipeline with NL2SQL and Metadata Filtering!\n",
        "\n",
        "We'll be putting together a system for querying both qualitative and quantitative data using LlamaIndex.\n",
        "\n",
        "The acitvities will be broken down as follows:\n",
        "\n",
        "- 🤝 Breakout Room #1\n",
        "  - Task 1: Load Dependencies\n",
        "  - Task 2: Set Env Variables and Set Up WandB Callback\n",
        "  - Task 3: Initialize Settings\n",
        "  - Task 4: Semantic RAG Pipeline with Metadata Filtering\n",
        "- 🤝 Breakout Room #2\n",
        "  - Task 1: Quantitative RAG Pipeline with NL2SQL Tooling\n",
        "  - Task 2: Combined RAG Pipeline\n",
        "\n",
        "Before we get started, however, a quick note on terminology."
      ]
    },
    {
      "cell_type": "markdown",
      "metadata": {
        "id": "vcvGuykZSV_8"
      },
      "source": [
        "### A note on terminology:\n",
        "\n",
        "You'll notice that there are quite a few similarities between LangChain and LlamaIndex. LlamaIndex can largely be thought of as an extension to LangChain, in some ways - but they moved some of the language around. Let's spend a few moments disambiguating the language.\n",
        "\n",
        "- `QueryEngine` -> `LCEL Chain`:\n",
        "  -  `QueryEngine` is just LlamaIndex's way of indicating something is an LLM \"chain\" on top of a retrieval system\n",
        "- `OpenAIAgent` vs. `Agent`:\n",
        "  - The two agents have the same fundamental pattern: Decide which of a list of tools to use to answer a user's query.\n",
        "  - `OpenAIAgent` (LlamaIndex's primary agent) does not need to rely on an agent excecutor due to the fact that it is leveraging OpenAI's [functional api](https://openai.com/blog/function-calling-and-other-api-updates) which allows the agent to interface \"directly\" with the tools instead of operating through an intermediary application process.\n",
        "\n",
        "There is, however, a much large terminological difference when it comes to discussing data.\n",
        "\n",
        "##### Nodes vs. Documents\n",
        "\n",
        "As you're aware of from the previous weeks assignments, there's an idea of `documents` in NLP which refers to text objects that exist within a corpus of documents.\n",
        "\n",
        "LlamaIndex takes this a step further and reclassifies `documents` as `nodes`. Confusingly, it refers to the `Source Document` as simply `Documents`.\n",
        "\n",
        "The `Document` -> `node` structure is, almost exactly, equivalent to the `Source Document` -> `Document` structure found in LangChain - but the new terminology comes with some clarity about different structure-indices.\n",
        "\n",
        "We won't be leveraging those structured indicies today, but we will be leveraging a \"benefit\" of the `node` structure that exists as a default in LlamaIndex, which is the ability to quickly filter nodes based on their metadata.\n",
        "\n",
        "![image](https://i.imgur.com/B1QDjs5.png)"
      ]
    },
    {
      "cell_type": "markdown",
      "metadata": {
        "id": "re0q6syjUVt0"
      },
      "source": [
        "# 🤝 Breakout Room #1"
      ]
    },
    {
      "cell_type": "markdown",
      "metadata": {
        "id": "Msvju70DSV_8"
      },
      "source": [
        "## BOILERPLATE\n",
        "\n",
        "This is only relevant when running the code in a Jupyter Notebook."
      ]
    },
    {
      "cell_type": "code",
      "execution_count": 1,
      "metadata": {
        "id": "7VF57GcmSV_9"
      },
      "outputs": [],
      "source": [
        "import nest_asyncio\n",
        "\n",
        "nest_asyncio.apply()\n",
        "\n",
        "import logging\n",
        "import sys\n",
        "\n",
        "logging.basicConfig(stream=sys.stdout, level=logging.INFO)\n",
        "logging.getLogger().addHandler(logging.StreamHandler(stream=sys.stdout))"
      ]
    },
    {
      "cell_type": "markdown",
      "metadata": {
        "id": "6zQBPs6zSV_9"
      },
      "source": [
        "## Load Dependencies"
      ]
    },
    {
      "cell_type": "markdown",
      "metadata": {
        "id": "WhEbxl3nSV_9"
      },
      "source": [
        "Let's grab our core `llama-index` library, as well as OpenAI's Python SDK.\n",
        "\n",
        "We'll be leveraging OpenAI's suite of APIs to power our RAG pipelines today.\n",
        "\n",
        "> NOTE: You can safely ignore any pip errors that occur during the running of these cells."
      ]
    },
    {
      "cell_type": "code",
      "execution_count": 2,
      "metadata": {
        "colab": {
          "base_uri": "https://localhost:8080/"
        },
        "id": "b3oyvtl2SV_9",
        "outputId": "3341b636-d1a3-4920-db19-ec06b9ee5f7a"
      },
      "outputs": [],
      "source": [
        "!pip install -qU llama-index openai"
      ]
    },
    {
      "cell_type": "markdown",
      "metadata": {
        "id": "uqTXRTrLPatl"
      },
      "source": [
        "We'll be collecting our semantic data from Wikipedia - and so will need the [Wikipedia Reader](https://github.com/run-llama/llama_index/tree/main/llama-index-integrations/readers/llama-index-readers-wikipedia)!"
      ]
    },
    {
      "cell_type": "code",
      "execution_count": 3,
      "metadata": {
        "colab": {
          "base_uri": "https://localhost:8080/"
        },
        "id": "f9kXf7pPSV_-",
        "outputId": "7e106548-e671-4def-dd24-0b6fa0cf4324"
      },
      "outputs": [],
      "source": [
        "!pip install -qU wikipedia llama-index-readers-wikipedia"
      ]
    },
    {
      "cell_type": "markdown",
      "metadata": {
        "id": "Qq_rWHZEPrCO"
      },
      "source": [
        "Our vector database today will be powered by [QDrant](https://qdrant.tech/) and so we'll need that package as well!"
      ]
    },
    {
      "cell_type": "code",
      "execution_count": 4,
      "metadata": {
        "colab": {
          "base_uri": "https://localhost:8080/"
        },
        "id": "iMCA8HFGEPF_",
        "outputId": "ea5eec65-3fef-4539-eca6-d42cf4eacd04"
      },
      "outputs": [],
      "source": [
        "!pip install -qU llama-index-vector-stores-qdrant qdrant-client"
      ]
    },
    {
      "cell_type": "markdown",
      "metadata": {
        "id": "wNHDqna1P1NQ"
      },
      "source": [
        "Finally, we'll need to grab a few dependencies related to our quantitative data!"
      ]
    },
    {
      "cell_type": "code",
      "execution_count": 5,
      "metadata": {
        "colab": {
          "base_uri": "https://localhost:8080/"
        },
        "id": "BrT8a3c0SV__",
        "outputId": "2474e86a-3310-463f-8ce1-6fe82a1dd4f2"
      },
      "outputs": [],
      "source": [
        "!pip install -q -U sqlalchemy pandas"
      ]
    },
    {
      "cell_type": "markdown",
      "metadata": {
        "id": "SS3I4FUabE-g"
      },
      "source": [
        "We'll can use [Weights and Biases](https://docs.wandb.ai/guides/prompts) (WandB) as a visibility platform, as well as storing our index!"
      ]
    },
    {
      "cell_type": "code",
      "execution_count": 6,
      "metadata": {
        "colab": {
          "base_uri": "https://localhost:8080/"
        },
        "id": "9UcQpjG9Ovlk",
        "outputId": "3354d9eb-88b7-439d-c62e-ddf7d9ee30ac"
      },
      "outputs": [],
      "source": [
        "!pip install -qU wandb llama-index-callbacks-wandb"
      ]
    },
    {
      "cell_type": "code",
      "execution_count": 7,
      "metadata": {
        "colab": {
          "base_uri": "https://localhost:8080/"
        },
        "id": "4OHSwkDySV_-",
        "outputId": "71faaaea-a126-47ce-e86e-dbd8655314ed"
      },
      "outputs": [],
      "source": [
        "import os\n",
        "import getpass\n",
        "\n",
        "os.environ[\"WANDB_API_KEY\"] = getpass.getpass(\"WandB API Key: \")"
      ]
    },
    {
      "cell_type": "markdown",
      "metadata": {
        "id": "Ut8E447rQBjY"
      },
      "source": [
        "We'll also need to set a callback handler for WandB to ensure smooth operation of our traces!"
      ]
    },
    {
      "cell_type": "code",
      "execution_count": 8,
      "metadata": {
        "colab": {
          "base_uri": "https://localhost:8080/",
          "height": 69
        },
        "id": "MoV2JINuSV_-",
        "outputId": "5ee85453-3505-48a6-efa1-98788ce63dc2"
      },
      "outputs": [
        {
          "name": "stdout",
          "output_type": "stream",
          "text": [
            "ERROR:wandb.jupyter:Failed to detect the name of this notebook, you can set it manually with the WANDB_NOTEBOOK_NAME environment variable to enable code saving.\n",
            "Failed to detect the name of this notebook, you can set it manually with the WANDB_NOTEBOOK_NAME environment variable to enable code saving.\n"
          ]
        },
        {
          "name": "stderr",
          "output_type": "stream",
          "text": [
            "\u001b[34m\u001b[1mwandb\u001b[0m: Streaming LlamaIndex events to W&B at https://wandb.ai/bullyellis/llama-index-rag/runs/k2a92ipe\n",
            "\u001b[34m\u001b[1mwandb\u001b[0m: `WandbCallbackHandler` is currently in beta.\n",
            "\u001b[34m\u001b[1mwandb\u001b[0m: Please report any issues to https://github.com/wandb/wandb/issues with the tag `llamaindex`.\n"
          ]
        }
      ],
      "source": [
        "import llama_index\n",
        "from llama_index.core import set_global_handler\n",
        "\n",
        "set_global_handler(\"wandb\", run_args={\"project\": \"llama-index-rag\"})\n",
        "wandb_callback = llama_index.core.global_handler"
      ]
    },
    {
      "cell_type": "markdown",
      "metadata": {
        "id": "ibtguieHP6n1"
      },
      "source": [
        "## Task 2: Set Env Variables and Set Up WandB Callback\n",
        "\n",
        "Let's set our API keys for both OpenAI and WandB!"
      ]
    },
    {
      "cell_type": "code",
      "execution_count": 9,
      "metadata": {
        "colab": {
          "base_uri": "https://localhost:8080/"
        },
        "id": "7IBgMTPTSV_9",
        "outputId": "74082918-7877-4153-f706-cc030b5f3b74"
      },
      "outputs": [],
      "source": [
        "import os\n",
        "import getpass\n",
        "\n",
        "os.environ[\"OPENAI_API_KEY\"] = getpass.getpass(\"OpenAI API Key: \")"
      ]
    },
    {
      "cell_type": "markdown",
      "metadata": {
        "id": "UQwigweOSV_-"
      },
      "source": [
        "### Task 3: Settings\n",
        "\n",
        "LlamaIndex lets us set global settings which we can use to influence the default behaviour of our components.\n",
        "\n",
        "Let's set our LLM and our Embedding Model!"
      ]
    },
    {
      "cell_type": "code",
      "execution_count": 10,
      "metadata": {
        "id": "6KOy21KPSV_-"
      },
      "outputs": [],
      "source": [
        "from llama_index.llms.openai import OpenAI\n",
        "from llama_index.embeddings.openai import OpenAIEmbedding\n",
        "from llama_index.core import Settings\n",
        "\n",
        "Settings.llm = OpenAI(model=\"gpt-3.5-turbo\")\n",
        "Settings.embed_model = OpenAIEmbedding(model=\"text-embedding-3-small\")"
      ]
    },
    {
      "cell_type": "markdown",
      "metadata": {
        "id": "eiOdw7EQSV_-"
      },
      "source": [
        "## `Index` Creation\n",
        "\n",
        "In order for us to perform RAG in the traditional sense - we need an `Index`.\n",
        "\n",
        "So what is an `Index`? Well - let's see how LlamaIndex defines it:\n",
        "\n",
        "> In LlamaIndex terms, an `Index` is a data structure composed of Document objects, designed to enable querying by an LLM. Your Index is designed to be complementary to your querying strategy.\n",
        "\n",
        "Okay, so we know that we have a boatload of Wikipedia content - and we know that we want to be able to query the `Index` and receive documents that are related to our query - so let's use an `Index` built on the idea of embedding-vectors.\n",
        "\n",
        "Introducing: `VectorStoreIndex`!\n",
        "\n",
        "Again, let's see how LlamaIndex defines this:\n",
        "\n",
        "> A `VectorStoreIndex` is by far the most frequent type of `Index` you'll encounter. The Vector Store Index takes your Documents and splits them up into Nodes. It then creates `vector` embeddings of the text of every node, ready to be queried by an LLM.\n",
        "\n",
        "Alright, that sounds awesome - let's make one!"
      ]
    },
    {
      "cell_type": "markdown",
      "metadata": {
        "id": "iDEtQQWnSV_-"
      },
      "source": [
        "### Data Collection\n",
        "\n",
        "We're just going to be pulling information straight from Wikipedia using the built in `WikipediaReader`.\n",
        "\n",
        "> NOTE: Setting `auto_suggest=False` ensures we run into fewer auto-correct based errors."
      ]
    },
    {
      "cell_type": "code",
      "execution_count": 11,
      "metadata": {
        "id": "OrzzrnYMSV_-"
      },
      "outputs": [],
      "source": [
        "from llama_index.readers.wikipedia import WikipediaReader\n",
        "\n",
        "movie_list = [\n",
        "    \"Dune (2021 film)\",\n",
        "    \"Dune: Part Two\",\n",
        "    \"The Lord of the Rings: The Fellowship of the Ring\",\n",
        "    \"The Lord of the Rings: The Two Towers\",\n",
        "]\n",
        "\n",
        "wiki_docs = WikipediaReader().load_data(pages=movie_list, auto_suggest=False)"
      ]
    },
    {
      "cell_type": "code",
      "execution_count": 19,
      "metadata": {},
      "outputs": [
        {
          "data": {
            "text/plain": [
              "Document(id_='52659577', embedding=None, metadata={}, excluded_embed_metadata_keys=[], excluded_llm_metadata_keys=[], relationships={}, text='Dune (titled onscreen as Dune: Part One) is a 2021 American epic science fiction film directed and co-produced by Denis Villeneuve, who co-wrote the screenplay with Jon Spaihts, and Eric Roth. It is the first of a two-part adaptation of the 1965 novel of the same name by Frank Herbert. Set in the distant future, the film follows Paul Atreides as his family, the noble House Atreides, is thrust into a war for the deadly and inhospitable desert planet Arrakis. The ensemble cast includes Timothée Chalamet, Rebecca Ferguson, Oscar Isaac, Josh Brolin, Stellan Skarsgård, Dave Bautista, Stephen McKinley Henderson, Zendaya, Chang Chen, Sharon Duncan-Brewster, Charlotte Rampling, Jason Momoa, and Javier Bardem.\\nThe film is the third adaptation of Dune, following David Lynch\\'s 1984 film and John Harrison\\'s 2000 television miniseries. After an unsuccessful attempt by Paramount Pictures to produce a new adaptation, Legendary Pictures acquired the Dune film and television rights in 2016, with Villeneuve signing on as director in February 2017. Production contracts were secured only for the first film, relying on its success before a sequel would be produced. Principal photography took place from March to July 2019 at locations including Budapest, Jordan, Norway, and Abu Dhabi.\\nDune was scheduled for a late 2020 release but was delayed due to the COVID-19 pandemic. The film premiered at the 78th Venice International Film Festival on September 3, 2021, before its international release on September 15, 2021; it was then released in United States theaters and streaming on HBO Max on October 22, 2021. Dune was a box office success, grossing over $407 million on a $165 million budget, making it the tenth-highest-grossing film of 2021. It was well received by critics and audiences with praise for Villeneuve\\'s direction, screenplay, production values, Hans Zimmer\\'s musical score, cinematography, and managing to retain core elements from the source material. The film won six awards at the 94th Academy Awards and was nominated in four other categories, in addition to receiving numerous other accolades. A sequel, Dune: Part Two, was released on March 1, 2024.\\n\\n\\n== Plot ==\\nIn the distant future, Duke Leto Atreides, ruler of the planet Caladan, is assigned by the Padishah Emperor Shaddam IV to replace Baron Vladimir Harkonnen as the fiefholder of Arrakis, a harsh desert planet and the sole source of \"spice\", a valuable psychotropic substance that imparts heightened vitality and awareness. Spice is also key to interstellar travel, giving Spacing Guild Navigators the ability to guide starships to traverse space instantaneously and safely. Emperor Shaddam, fearful of Leto\\'s rising power, plots for House Harkonnen to retake Arrakis, secretly aided by his Sardaukar troops, and destroy House Atreides. Leto is suspicious of the Emperor but weighs the risks against the power of controlling Arrakis and making an alliance with its mysterious natives, the Fremen.\\nLeto\\'s concubine, Lady Jessica, is an acolyte of the Bene Gesserit—an exclusive sisterhood whose members possess advanced physical and mental abilities. As part of a centuries-long breeding program, they instructed her to bear a daughter whose son would become the Kwisatz Haderach—a Bene Gesserit and messianic superbeing with the clairvoyance necessary to guide humanity to a better future. Jessica disobeyed and bore a son, Paul, who is trained by Leto\\'s aides, Duncan Idaho, Gurney Halleck, the Suk doctor Wellington Yueh, and the Mentat Thufir Hawat; she teaches him Bene Gesserit disciplines. Paul confides in Jessica and Duncan about troubling visions of the future. The Reverend Mother and Imperial Truthsayer Gaius Helen Mohiam visits Caladan and subjects him to a deadly Gom Jabbar test to assess his humanity and impulse control, which he passes. At a secret meeting on Giedi Prime, Mohiam insists Baron Harkonnen spare Paul and Jessica in his coup, to which he duplicitously agrees.\\nHouse Atreides arrives at Arrakeen, the principal stronghold on Arrakis. Duncan\\'s advance party has made contact with the Fremen. The natives revere Paul and Jessica, which she explains is due to the Bene Gesserit sowing beliefs on Arrakis centuries earlier. Leto negotiates with Fremen chieftain Stilgar and meets the Imperial Judge of the Change, Dr. Kynes, a planetologist who lives among the Fremen. Kynes briefs them on the dangers of spice harvesting, and the giant sandworms that travel under the desert and render unwise the use of protective shields. During a flight, they rescue a stranded spice-harvesting crew from a sandworm, and Paul\\'s exposure to the spice triggers intense premonitions.\\nAn attempt to assassinate Paul with a hunter-seeker fails. Yueh betrays the Atreides and disables Arrakeen\\'s shields, allowing the Harkonnens and Sardaukar to invade. He incapacitates Leto, planning to exchange him for his wife, who is the Baron\\'s prisoner. Yueh replaces one of Leto\\'s teeth with a poison gas capsule with which the Duke can assassinate the Baron. After the Baron double-crosses and murders Yueh, Leto releases the gas, killing himself and the Baron\\'s Mentat, Piter De Vries, but the Baron survives. Though the Baron has arranged to have Paul and Jessica dropped deep in the desert to die, a compassionate Yueh has left them with a fremkit with survival supplies. Jessica uses a Bene Gesserit technique called \"the Voice\" to overpower and kill their captors. Overnighting in the desert, Paul—surrounded by spice—has visions of a bloody holy war fought across the universe in his name.\\nAfter conquering Arrakis, Baron Harkonnen appoints his nephew Rabban to oversee the planet and orders him to restart spice production to recoup the invasion\\'s cost. Meanwhile, Duncan and Kynes find Jessica and Paul, who disclose his plan to marry one of Emperor Shaddam\\'s daughters to avert a potential civil war arising from the Emperor\\'s betrayal. However, they are discovered by Sardaukar soldiers armed with a lasgun. Duncan sacrifices himself, enabling Paul and Jessica\\'s escape. Kynes also tries to escape but is caught and mortally wounded, and lures a sandworm to her location to devour herself and the Sardaukar. Deep in the desert, Paul and Jessica encounter Stilgar\\'s Fremen tribe, including Chani, the young woman from Paul\\'s visions. Opposed to Stilgar\\'s lenience towards them, Fremen warrior Jamis challenges Paul to a ritual duel to the death, which Paul wins. Despite Jessica\\'s wishes, Paul joins the Fremen, determined to fulfill his father\\'s goal of allying with them to bring Arrakis peace.\\n\\n\\n== Cast ==\\nTimothée Chalamet as Paul Atreides, ducal heir of House Atreides\\nRebecca Ferguson as Lady Jessica, Paul\\'s Bene Gesserit mother and consort to Leto\\nOscar Isaac as Duke Leto Atreides, Paul\\'s father and the leader of House Atreides\\nJosh Brolin as Gurney Halleck, weapons master of House Atreides and one of Paul\\'s mentors\\nStellan Skarsgård as Baron Vladimir Harkonnen, leader of House Harkonnen, enemy to House Atreides, and former steward of Arrakis\\nDave Bautista as Glossu Rabban, nephew of Baron Harkonnen\\nSharon Duncan-Brewster as Dr. Liet Kynes, Imperial ecologist and Judge of the Change on Arrakis\\nStephen McKinley Henderson as Thufir Hawat, the Mentat of House Atreides\\nZendaya as Chani, a mysterious young Fremen woman who appears in Paul\\'s visions\\nChang Chen as Dr. Wellington Yueh, a Suk doctor in the employ of House Atreides\\nCharlotte Rampling as Reverend Mother Mohiam, the Emperor\\'s Bene Gesserit Truthsayer\\nJason Momoa as Duncan Idaho, the swordmaster of House Atreides and one of Paul\\'s mentors\\nJavier Bardem as Stilgar, the leader of the Fremen tribe at Sietch Tabr\\nDavid Dastmalchian as Piter De Vries, the Mentat of House Harkonnen\\nBabs Olusanmokun as Jamis, a Fremen from Sietch Tabr\\nGolda Rosheuvel as Shadout Mapes, a Fremen working as a housekeeper for House Atreides\\nRoger Yuan as Lieutenant Lanville, Gurney Halleck\\'s second-in-command\\nAdditionally, Benjamin Clementine portrays the Herald of the Change, the head of an Imperial delegation to Caladan. Marianne Faithfull, Jean Gilpin, and Ellen Dubin voice the ancestral Bene Gesserit whose voices are heard by Paul in his visions. Joe Walker, the film\\'s editor, provides the narration for Paul\\'s filmbook guides for Arrakis.\\n\\n\\n== Production ==\\n\\n\\n=== Background ===\\n\\nFollowing the publication of Frank Herbert\\'s novel Dune in 1965, it was considered as having potential for a possible film adaptation. Since 1971, various producers have held film adaptation rights for the novel. Attempts to make an adaptation based on the book were considered to be \"unfilmable\" due to its breadth of content. The book\\'s status among fans meant that deviations without strong justification could potentially harm the film\\'s reputation.\\nAlejandro Jodorowsky acquired the rights in the 1970s to make a fourteen-hour adaptation of the book, but the project ultimately failed to secure sufficient funds. This development effort became the subject of the documentary film Jodorowsky\\'s Dune (2013). David Lynch\\'s Dune, produced by Raffaella De Laurentiis in 1984, was intended as a three-hour film but was cut to 137 minutes; it was poorly received and Lynch himself ended up disowning it. In 1996, producer Richard P. Rubinstein acquired the rights to the novel. Frank Herbert\\'s Dune, a live-action miniseries produced by Rubinstein and directed by John Harrison, aired on the Sci Fi Channel in 2000; it was a ratings hit and was generally better received than Lynch\\'s film. Some reviewers criticized the miniseries for lacking the spectacle afforded to a feature film production, as well as for staying too faithful to the book and being bogged down by exposition. Prospects to make a successful adaptation of Dune improved after the critical and commercial success of the film series adaptations of The Lord of the Rings and Harry Potter, both of which maintained most of the works\\' key characters and plots while managing the limited running time. In 2008, Paramount Pictures hired Peter Berg to direct an adaptation. Berg left the project in October 2009, with director Pierre Morel being hired in January 2010. Paramount later cancelled the project in March 2011, as they could not come to key agreements, with their rights reverting to Rubinstein.\\n\\n\\n=== Development ===\\n\\nIn 2011, Mary Parent, vice chair of worldwide production for Legendary Pictures, and her producer partner Cale Boyter, acquired adaptation rights for Dune. Legendary obtained film and TV rights for Dune in November 2016. Canadian filmmaker Denis Villeneuve expressed interest in the project in September 2016, saying that \"a longstanding dream of mine is to adapt Dune, but it\\'s a long process to get the rights, and I don\\'t think I will succeed\". By December, Villeneuve was in talks with the studio to direct the film. His enthusiasm to direct a Dune film earned Parent\\'s respect, with Parent hiring Villeneuve after hearing him describe his vision for the film. He chose to complete Arrival (2016) and Blade Runner 2049 (2017) first, as he wanted to spend more time to develop Dune and co-write it himself, employing his past experience directing science fiction films during development. Villeneuve signed on to direct the film by January 2017, approximately one week after earning a nomination Academy Award for Best Director for Arrival. By that February, Villeneuve was officially confirmed as the director.\\nSome of Villeneuve\\'s previous collaborators on Arrival and Blade Runner 2049 returned for Dune, including film editor Joe Walker, production designer Patrice Vermette, visual effects supervisor Paul Lambert, sound designer and editor Theo Green, sound editor Mark Mangini, and special effects supervisor Gerd Nefzer. Other previous collaborators were slated to work on Dune but dropped out before production began, including visual effects supervisor John Nelson and cinematographer Roger Deakins, who was replaced in December 2018 with Greig Fraser. Dune was produced by Villeneuve, Parent, and Cale Boyter, with Tanya Lapointe, Brian Herbert, Byron Merritt, Kim Herbert, Thomas Tull, Jon Spaihts, Richard P. Rubinstein, John Harrison, and Herbert W. Gain serving as executive producers and Kevin J. Anderson as creative consultant. Game of Thrones language creator David J. Peterson was confirmed as a constructed language developer for the film in April 2019.\\n\\n\\n=== Writing ===\\nIn March 2018, Villeneuve stated that his goal was to adapt the novel into a two-part film series. He secured a two-movie deal with Warner Bros. Pictures, in the same style as the two-part adaptation of Stephen King\\'s It in 2017 and in 2019. He chose to make two films as he felt that the novel was too large and complex for one. Subsequent dealings secured the production of the first film and new production deals were made to start production for the second. Eric Roth was hired to co-write the screenplay in April,  with Legendary CEO Joshua Grode affirming that the studio planned on making a sequel. Roth, who had read the book as a child, had a neutral opinion of it, which allowed him to have an \"objective view of it\". He wrote a 50-page treatment for the film and focused on appealing to groups of people who enjoyed the book, did not remember nor care for the book, and those who were not familiar with it at all. Villeneuve completed a first draft of the script by May 2018, Producer Brian Herbert stated that the fourth draft of the screenplay, submitted in July, would cover the first half of the events from the novel, while Jon Spaihts was later hired as co-writer alongside Roth and Villeneuve in September. Though the book features many elements inspired from Arab and Islamic culture, Spaihts stated the team minimized incorporating them as he felt Arab culture became integrated into the world, resulting in the need to \"invent more and borrow less\" due to potentially overemphasizing them. Eventually, Roth worked on the film again after completing his work on Killers of the Flower Moon (2023), providing feedback after a screening of the film and aiding in rewrites prior to reshoots.\\nWhen writing his script, Villeneuve chose not to take inspiration from Lynch\\'s Dune, wanting instead to directly refer to the book despite affirming his respect for Lynch and the film. He described his reaction to the film as being \"half-satisfied\", and felt he would make the film with a \"different sensibility\". Similarly, he chose not to incorporate concepts Jodorowsky envisioned for his Dune film, as he felt it would be \"very presumptuous and arrogant\". He was not intimidated by previous film adaptations as he felt his love for Dune allowed him to focus on his own vision. He compared his experience of making the film to archaeology, describing the process as \"going back in time and finding those images mixed with emotions, and bringing them back to life\".\\nIn adapting the book for a contemporary audience, Villeneuve considered his screenplay \"a coming-of-age story, but also a call for action for the youth\" and noted the book\\'s social commentary regarding capitalism and the exploitation of natural resources such as oil. In doing so, Villeneuve wanted to recreate the experience he had felt when he initially read the book as a teen. He adjusted and modified many parts of the novel for the film, and wanted to keep \"the atmosphere and poetry ... intact\". This included eliminating internal monologues and epigraphs used in the book and simplifying the \"pseudo-antiquated\" dialogue. Instead, he emphasized Paul and Jessica\\'s relationship as the main focus of the story, and gave them a secret hand gesture language they could use to communicate silently to each other. The film also minimizes the political aspects of the Dune world in order to retain the book\\'s scale and exploration of power dynamics while also focus on Paul\\'s growth. The inclusion of the informative holographic filmbook videos for Paul was adapted from the book, with Villeneuve wanting it to convey Paul\\'s \"appetite for learning\" and his desire to learn about the Arrakis and Fremen culture.\\nSome characters were given less prominence, such as Baron Harkonnen, members of his court, and the Mentats Thufir Hawat and Piter De Vries, but established enough so that they can be used in the future. Villeneuve sought to depict the Baron as a complex antagonist rather than as a caricature, feeling the novel presented him as being the latter, and took inspiration from Colonel Kurtz. Another major change was altering some of the arcs of the female characters in the book to give them more respect and prominence, as Villeneuve felt femininity was a crucial theme in the book. Ferguson stated that while Villeneuve respected Herbert\\'s characterization in the book, Villeneuve\\'s modifications had helped improve the quality of female characters by expanding the role of Lady Jessica as a soldier and member of the Bene Gesserit. As such, the studio labeled this role a \"warrior priestess\", in contrast to the joking label of \"space nun\" that Villeneuve felt was implied by the book. \\n\\n\\n=== Casting ===\\n\\nVilleneuve began the casting process by first determining who would portray Paul Atreides. He approached actors on an individual basis and felt the final cast was close to his \"dream list\". For Paul, Villeneuve desired an actor who had \"an old soul in the body of a teenager\".  He identified Timothée Chalamet as the ideal choice for the role, later admitting that he had no alternate choices in mind. Chalamet, who previously auditioned for a role in Villeneuve\\'s Prisoners (2013), also desired to collaborate with Villeneuve and appear in Dune. He travelled to the Cannes Film Festival to discuss the role with Villeneuve. Chalamet entered final negotiations to play the role of Paul in July 2018. Rebecca Ferguson entered negotiations that September to play the role of Paul\\'s mother, Lady Jessica, with Chalamet already confirmed for the role of Paul. Ferguson was initially dismissive as the role, as she felt it was too similar to her Mission: Impossible role as Ilsa Faust. Ferguson did not want to be typecast as a \"strong female character\". However, she was convinced after hearing Villeneuve\\'s ideas and reading the book, saying she enjoyed the \"simplicity of wanting to save something you have created and all of these shades\". She had been cast by January 2019.\\nCasting director Francine Maisler had compiled over 30–50 audition tapes from actors for Villeneuve to decide from when casting secondary roles. Dave Bautista was offered the role of Glossu Rabban following a phone call from Villeneuve. He was an avid fan of Villeneuve and wanted to contact him, but was surprised when Villeneuve contacted him first and says he is proud of being offered the role. Villeneuve wanted Stellan Skarsgård to portray Baron Vladimir Harkonnen as he had found Skarsgård intimidating, and personally contacted Charlotte Rampling in order to portray Gaius Helen Mohiam, who accepted as she enjoyed Villeneuve\\'s work. Oscar Isaac contacted Villeneuve about starring in the film once he heard it was in development. Villeneuve cast him as Duke Leto, with Isaac commenting the role suited him physically. Zendaya auditioned for the role of Chani alongside five other actresses. She was chosen as she was considered to have the best performance with Chalamet. Bautista, Skarsgård, Rampling, Isaac, and Zendaya all joined the cast in January 2019.\\nIn the next month, Javier Bardem, Josh Brolin, Jason Momoa, and David Dastmalchian were cast as Stilgar, Gurney Halleck, Duncan Idaho, and Piter de Vries, respectively. Villeneuve directly called Bardem and offered him the role, who was shocked as he wanted to portray Stilgar, comparing it to his personal love for Aragorn in The Lord of the Rings. Meanwhile, Brolin amusingly commented that he pretended to read the script prior to accepting the role, while Momoa received his casting call when he was snowboarding down a mountain. He later contacted Villeneuve on a Skype call to confirm his involvement. Dastmalchian\\'s casting was similar to Brolin and Momoa\\'s, as he received a call while he was in his Los Angeles home, and accepted the role without reading the script due to his confidence in Villeneuve. Stephen McKinley Henderson joined in March, with Chang Chen entering negotiations. Maisler chose Henderson after admiring his work in New York theaters, and curated a list of the \"most talented\" Chinese actors for the role of Dr. Yueh. Despite initial difficulties contacting Chen, they eventually contacted his manager in China. Afterwards, Chen accepted his role as Dr. Yueh. The decision to cast Benjamin Clementine as the Herald of the Change occurred after Maisler enjoyed his performance in the Tiny Desk Concerts.\\nDuncan-Brewster auditioned for the role in London through Jina Jay, a casting director working with Maisler at the time, saying that she \"exudes an intelligence and a power and an inner strength\". When Maisler presented a shortlist for potential cast members, Villeneuve selected Duncan-Brewster. Her casting was confirmed in April 2020. The idea to change Kynes\\' gender was suggested by Jon Spaihts, which Villeneuve promptly accepted. According to Duncan-Brewster, Villeneuve opted for the change as he felt it was not necessary to adhere to all of the elements in the book in order to remain faithful to the character\\'s nature.\\n\\n\\n=== Design ===\\n\\n\\n==== Set and props ====\\nThe set design was done by production designer Patrice Vermette. Vermette based the set design for Dune by the need \"to ground the story into realistic settings to help the audience believe in the extraordinary elements\". He sought to make the sets as realistic and immersive as possible, using minimal set extensions and no greenscreens. Prior to the creation of any sets or visual effects, Villeneuve and a group of specific people, worked together to define the visual language for the film.\\nVermette created a \"visual bible\" to guide the development of set design and keep it consistent with the film\\'s visual effects design, intending to help \"extrapolate the world\". He also re-read the novel, as he felt that \"the book gives a lot of clues or cues that will help you navigate it to design things, but it\\'s quite nonspecific\", adding that he wanted to support Villeneuve\\'s original vision of the novel when he read it as a young teenager, and base the design around Herbert\\'s original novel. The team\\'s early mood boards for the visual language of the film consisted of Mesopotamian ziggurat architecture, Egyptian references, World War II bunkers, Brazilian and Soviet brutalist architecture, minimalist megastructures and dams designed by Superstudio, and imagery of glaciers taking over mountains.\\nThe design for the ornithopters was conceived by Villeneuve and storyboard artist Sam Hudecki. Villeneuve wanted the ornithopter be \"muscular\"; he wanted it to resemble a dragonfly and helicopter, but also appear realistic and adhere to basic laws of science. This fit in with his overall perception of the Dune world being retro-futuristic and analog. He also wanted the cockpits to be designed so that the actors could see the landscape. Two functional ornithopter models, 48- and 75-feet long, were created for filming by London propmakers, with operable doors and interior cockpit areas. They weighed over 11 tons and required an Antonov cargo plane to transport them to filming locations in Hungary and Jordan. One ornithopter used in filming had customizable pieces allowing for more space. Cranes were used to make the models fly.\\nMany practical sets were created on the soundstages and backlots of the Origo Film Studios in Budapest, Hungary, serving as interiors for the three planets. When designing Caladan, Vermette sought to give the planet \"a feeling of melancholia\". He wanted Caladan to resemble autumn in Canada, his home country, as he thought that it represented \"the end of a cycle... or the beginning of a new one\". He identified \"dramatic coastal mountain ranges\" and forests containing Norwegian pines as defining features of the planet. Meanwhile, the interior sets of Caladan were inspired by medieval Japanese aesthetics, particularly that of Paul\\'s training room, containing intricate screens and diffused lighting. Props were created by set decorator Richard Roberts, including custom-made furniture, lighting, textiles produced in Denmark, and other items designed to look antique.\\nThe original design for the sandworm was deemed \"prehistoric\", inspired by whales with baleen in their mouths. The sandworm\\'s skin texture was based on tree bark and mud flats. Vermette spoke of the challenges involved in creating the set designs used for the sandworms, stating \"It was a creature that commanded respect, and it\\'s almost seen as a deity in the world of the Fremen. So that\\'s why the first time you see the depiction of the sand worm on the mural, it\\'s presented with sun coming out of its mouth\".\\nThe design for Arrakeen was influenced by the book\\'s description of Arrakis\\'s climate, with Vermette calling it \"the biggest residency ever built by humankind\" and \"a response as a colonial entity that took over the planet for the exploitation of ... spice\". He designed the city in a \"rock bowl\" shape to protect its infrastructure from sandworms, and built buildings at an angle to protect them from high wind speeds. The walls were thickened to make the interiors cooler. The team was inspired by WWII bunkers, bunkers, Mayan temples, and Brazilian modernism. The history and culture of the Fremen was depicted in various murals throughout the residence, with Vermette comparing it to that of a church after envisioning Fremen artists doing so in order to depict the colonization of Arrakis. One practical set was the environmental lab in which Sardaukar soldiers descend from the air. The circular dome was 20 feet high, with the spokes being created by a special kind of cloth fabric, giving the illusion of shadows and providing proper lighting for the act. Agriculturally controlled sand was placed on the ground as filming took place during Budapest\\'s raining season.\\n\\n\\n==== Costumes ====\\nOver 1000 looks for Arrakis, Caladan, and Giedi Prime were designed by the team for the film. The costume design was done by Jacqueline West and Bob Morgan. Villeneuve wanted the costumes to be \"grounded\" in history while avoiding conventional futuristic views in science fiction films. West performed \"psychological studies\" of characters and historical research to associate their houses with historical \"symbolic analogs\", facilitating her costume design process. She took primary inspiration from the Middle Ages, particularly envisioning what it would look like in the future. She associated the Fremen with the French Resistance and the Sardaukar with the Nazis when designing the costumes. Additionally, she took inspiration from Giotto, Francisco Goya, Caravaggio, and British art historian John Berger, while emulating styles from the fashion of Balenciaga, the Bedouin, and Tuareg people.\\nWest associated the Spacing Guild with the Avignon Papacy, connected their persecution of the Templars to that of House Atreides; she noted that the Emperor and his allies betrayed House Atreides. Reference pictures consisted of medieval popes and modernized it when designing their costumes. The Bene Gesserit sorceresses\\' costumes were based on tarot cards and chess pieces, while the Harkonnen armor was designed to resemble a bug\\'s shell, using medieval drawings of \"insects, spiders, ants, praying mantises and lizards\" as reference. Meanwhile, the Atreides\\' costumes were based on the Romanovs, describing their costumes as having a \"simplicity ... that was regal\". Lady Jessica\\'s dresses in the first half of the film were inspired by the works of Cristóbal Balenciaga, while the turmeric-toned gown she wears while landing on Arrakis was influenced by Middle Eastern clothing and paintings of women in North Africa.\\nWest cited the films Lawrence of Arabia (1962), Doctor Zhivago (1965), and Fahrenheit 451 (1966) as further inspirations for costume diversity. She also researched Roman and Greek mythology, feeling that the Atreides-Harkonnen feud was similar to a \"real Greek and Roman tragedy\". She dyed the gauze for Fremen cloth in desert colors, inspired by the sand and rocks in Jordanian filming locations. A prototype for the stillsuit was designed by West and Jose Fernandez at Ironhead Studios in Los Angeles. The prototype was then taken to Origo Studios, where a factory was set up to design additional suits within two weeks. He hired European artisans to create concept designs and over 150 individual pieces for the suits. Over 250 stillsuits were used when filming in Jordan. The suits were designed to be flexible and comfortably fit the actor\\'s body, while also remaining accurate to the book. They created \"micro-sandwiches\" of acrylic fibers and porous cottons, which absorbed the moisture and allowed the actors to remain cool inside the suits. Tubing also ran through the micro-sandwiches for increased flexibility. Zippers and buttons were not used as they were deemed \"archaic\".\\n\\n\\n=== Filming ===\\nPrincipal photography began on March 18, 2019, at Origo Film Studios in Budapest, Hungary, with Greig Fraser serving as cinematographer. The film was shot for the IMAX format with an IMAX-certified Arri Alexa LF camera and an IMAX-certified Alexa Mini LF prototype, equipped with Panavision\\'s large-format lenses in the Ultra Vista and H-series lineup. Select scenes had aspect ratios opened up to 1.90:1 on all IMAX screens, and to 1.43:1 on select IMAX screens outfitted with IMAX\\'s dual-laser projection system. The finished footage was transferred to 35mm film stock, then scanned back to 4K, in order to achieve a more film-like look. Filming occurred in Wadi Rum, Jordan, which doubled for Arrakis. The Liwa Oasis in the United Arab Emirates also served as a key backdrop for Arrakis, with filming there occurring across 11 days. Local businesses, freelancers from Twofour54, and crews consisting of over 100 people offered assistance during the shoot. Scenes featuring the rock formations functioning as the Fremens\\' heat shelters were filmed at the Rub\\' al Khali desert. Stadlandet, Norway doubled for the planet Caladan. Filming wrapped on July 26, 2019. Additional filming took place in Budapest by August 2020, which did not alter the film\\'s then-December 2020 release date.\\nParts of the Arrakeen invasion, such as shots of Gurney, extras, and practical explosions up to approximately five kilometers high, were filmed on backlots in Budapest. Duke Leto\\'s death scene was the final scene filmed by Isaac, in which he decided to film it nude as he felt it was similar to Christ\\'s crucifixion. He also came up with the idea of including the bull\\'s head, identifying it as an \"omen\". Ornithopter interiors were filmed on hilltops outside Budapest, with a 25-foot high and 360° sand-colored ramp circling a large gimbal, allowing Fraser to film with natural sunlight. Supervising stunt coordinator and second unit director Tom Struthers developed unique combat styles for major factions. When working on the action sequence between Idaho and the Sardaukars, he based Idaho\\'s combat style from Greek and Roman warfare techniques, and the Sardaukar\\'s from Russian soldiers in WWII wanting to \"mow down the enemy\".  Chalamet learned the sandwalking technique, designed by choreographer Benjamin Millepied, prior to filming Arrakis scenes in order to convey Paul\\'s natural adeptness at it and \"responsibility to show Jessica in that moment\". Footage of helicopters flying over the UAE were filmed with six high-resolution cameras, being utilized as reference footage for ornithopters.\\n\\n\\n=== Post-production ===\\n\\nDNEG contributed to over 28 scenes in the film, creating 1,200 VFX shots out of the 1,700 total, with vendors including Wylie Co. and Rodeo FX. Many shots used various chroma key processes. Visual effects supervisor Paul Lambert used \"sandscreens\" for filming scenes in Arrakis and Arrakeen; instead of using green-based backgrounds, the visual effects team used sand-colored ones that matched the establishing desert shots intended for backgrounds. The sandscreens were used in capturing scenes of the ornithopter, with the VFX team using the helicopter footage and replacing them with the ornithopter models, facilitating capture of sand displacement. This was also filmed by encapsulating ornithopter models in black boxes with fans blowing dust. The wings were inserted using computer-generated imagery (CGI). Similar processes were used to film scenes in other settings, as it facilitated compositing the foreground and background imagery: Caladan scenes used \"grayscreens\" and those with a \"slight blue tint\" for interior and exterior scenes, respectively, Salusa Secundus scenes used bluescreens. Approximately 18 tons of sand and dust were used on set, with the effect of blowing sand being created by using a V8 engine with a fan on the back of a tractor.\\nThe sandworms were created through CGI. The VFX team found a lot of difficulty in deciding how the sandworm would move. The team spent over a year in figuring out the movements of the sandworm, and researched the body movements of various animals, such as worms and snakes. The sand ripples created by the worms were inspired by implicit visual cues of the shark from Jaws (1975). The special-effects supervisor Gerd Nefzer designed a vibrating 8x8 foot steel plate and placed it under the sand. This resulted in the formation of various patterns, used to signify an approaching sandworm. The vibrating areas were also later enhanced to cover a larger area. The team initially considered using rigged explosives to capture the motion of the sandworms breaking the surface in the desert, but rejected the idea as this was impractical to perform in the Middle East. Instead, they used the Houdini software to have sand emulate the motion of water. Villeneuve did not want the associated sound design to appear as a studio production. Sound designers Mark Mangini and Theo Green used a \"fake documentary realism\" approach to capture natural sounds and manipulate them for use in the film, such as recording the sounds of shifting sands in Death Valley using hydrophones.\\nThe Montreal and Vancouver facilities of DNEG were used for the Arrakeen invasion sequence. It involved combining practical and digital effects. The Montreal VFX supervisor Brian Connor created a digital Arrakeen space port, while the Vancouver team simulated explosions. Practical explosions filmed in Budapest backlots were later enhanced by the VFX team: the special effects team had rigs of practical light shining through the fog from explosions, allowing them to blend practical and digital shots easier. Lambert created the Holtzman shields\\' visual effects by combining past and future frames after experimenting with various visual filters on an action sequence from Seven Samurai (1954), resulting in a \"shimmering\" look Villeneuve approved. They also added colors; they used blue for bouncing objects and red for penetrations. The scene of Paul\\'s future vision was filmed using motion-capture (mo-cap), and the team replicated mo-cap to add many fighters. Animation supervisor Robyn Luckham helped with the scene as the team did not know much about mo-cap. They also added explosions in the foreground, sandworms in the background, sand displacement throughout, and used more simulations to render the scene in real-time. \\nThe team created a detailed practical stuffy model for the desert mouse, Muad\\'Dib, and filmed it in Jordan for appropriate desert lighting. The animation team used footage of idling animals as reference, and animated the mouse so it \"expends effort when absolutely necessary\". The creosote bush hologram was created by projecting different \"slices\" of light on Chalamet\\'s face during plate photography based on his filming location using a projector. Wylie then completed the scene by adding the hologram around him. For the hunter-seeker, a stick on set was used as reference, being later replaced with proper models via CGI. Practical rigs were attached to Skarsgård\\'s body to create the effect of the Baron\\'s levitation. The levitation was occasionally done practically with a seesaw rig. However, the suspensor device attached to his back was inserted using CGI.\\n\\n\\n== Music ==\\n\\nHans Zimmer affirmed he would be scoring Dune near the start of the film\\'s production in March 2019. Zimmer previously worked with Villeneuve on Blade Runner 2049 (2017). At the time, Zimmer rejected director Christopher Nolan\\'s request to compose the score for his then-upcoming film Tenet (2020), citing his personal love for the book. Zimmer did not want the soundtrack to sound like his previous works and used instruments atypical of a Western orchestra. He avoided watching Lynch\\'s Dune so as not to be influenced by Toto\\'s music, instead spending a week in a Utah desert to incorporate its sounds into the score. The music was performed using an eclectic set of instruments, including some created specifically for the soundtrack. Performers for the score include guitarist Guthrie Govan and vocalist Loire Cotler. Additional music was composed by Steve Mazzaro and David Fleming, both of whom worked in collaboration with Zimmer to keep his pieces on theme. The soundtrack pieces include bagpipes for the House Atreides theme, which was suggested as Villeneuve\\'s idea of something \"ancient and organic\". Zimmer found 30 bagpipe players around Edinburgh during the COVID-19 pandemic and recorded them playing in a church.\\nFor the first Dune trailer, Zimmer supervised a 32-person choir via FaceTime (necessitated by pandemic restrictions) for the recording of a cover of Pink Floyd\\'s song \"Eclipse\". Choir members gathered in groups of four over eight separate sessions in Santa Monica at Zimmer\\'s Remote Control studio while Zimmer conducted from home.\\nThree soundtrack albums were released for the film by WaterTower Music, including The Dune Sketchbook (Music from the Soundtrack), Dune (Original Motion Picture Soundtrack), and The Art and Soul of Dune on September 3, September 17, and October 22, 2021, respectively. Villeneuve said Zimmer spent \"months and months creating new instruments, defining, creating, and seeking new sounds, pushing the envelope\" and praised his work on the film. Two singles were released on July 22, titled \"Paul\\'s Dream\" and \"Ripples in the Sand\". The film\\'s score was nominated for the Best Score Soundtrack for Visual Media at the 2022 Grammy Awards.\\n\\n\\n== Marketing ==\\nIn April 2020, Vanity Fair published a two-part extensive first-look report on Dune. Empire provided additional first looks in October ahead of the film\\'s trailer release. A teaser trailer was released on September 9 featuring a remix of the Pink Floyd song \"Eclipse\" (1973) combined with Zimmer\\'s score. Zack Sharf of IndieWire gave the trailer a positive review, and wrote \"It\\'s full of eye-popping set design\", in addition to stating, \"The two [Denis Villeneuve and Greig Fraser] have brought a tangibility to Frank Herbert\\'s world that should make Dune a visceral experience for moviegoers.\" Miles Surrey from The Ringer also gave the trailer a positive review, and felt the trailer \"undoubtedly looks promising,\" and noted that, though the source material has been \"notoriously unadaptable,\" he felt \"the curse could be broken,\" due to the cast and Villeneuve\\'s direction. Similarly, Deadline Hollywood\\'s Dino-Ray Ramos also praised the trailer for its scale, writing that it contained \"sci-fi prestige and the epic scale that includes mind-boggling action, elegant cinematography and fantastical nuances that still leave room for grounded and very human storytelling\".\\nThe first ten minutes of the film were screened in select IMAX theaters worldwide on July 21 and 22, 2021, in an event that also included a behind-the-scenes look at the film and the debut of the film\\'s theatrical trailer, on July 22. Angela Wattercutter of Wired stated that the trailer \"is begging you to see it in theaters\". Jennifer Yuma from Variety praised the cast and visuals, and praised its scope, calling the trailer \"epic\". Similarly, Aaron Couch from The Hollywood Reporter also praised the cast and thought the film was an \"ambitious sci-fi adaptation\". Anthony Breznican from Vanity Fair also gave the trailer a positive review and stated, \"It will seem more mysterious to those unfamiliar with the story, but like Chani does herself in those dream missives to Paul, it hints at big, impressive things to come\". Vulture\\'s Zoe Haylock was also impressed by the trailer, and advocated watching the film in theaters, praising the visuals as \"transcendental natural settings\". Writing for Entertainment Weekly, Christian Holub felt the trailer \"sets the stage cleanly\".\\nOn February 26, 2019, Funcom entered into an exclusive partnership with Legendary Entertainment to develop games related to the upcoming Dune films. \\nAn artbook, The Art and Soul of Dune, was released alongside the film on October 22, 2021. The book was written by the executive producer Tanya Lapointe, and it included a soundtrack album of the same name composed by Zimmer. The book was available in both a standard and deluxe edition. In September 2020, McFarlane Toys started a line of 7-inch figures modeled after characters from the film. A 12-inch figure of Baron Harkonnen was introduced at the same time. The action figures were released in December 2020.Legendary Comics announced Dune: The Official Movie Graphic Novel via Kickstarter and published the comic in December 2022 by writer Lilah Sturges and art by Drew Johnson.\\n\\n\\n== Release ==\\n\\n\\n=== Theatrical and streaming ===\\nDune was originally scheduled to be released on November 20, 2020, but was pushed back to December 18, 2020. The film was then delayed by the COVID-19 pandemic, this time to October 1, 2021, taking over the release date slot of The Batman, where it was theatrically released in 3D. In late June 2021, Warner Bros. delayed the film\\'s American release date again by three weeks to October 22, 2021, to avoid competition with No Time to Die. Over a month prior to its North American release, the film began its theatrical roll-out in most international markets, beginning on September 15 with France, Germany, Russia, Switzerland, Sweden, Norway, Spain and Belgium.  A week ahead of the United States release, Warner Bros. announced that the film\\'s availability on HBO Max would start on the evening of October 21, 2021, correlating with typical early Thursday theatrical showings for films released on Fridays (although the studio had not been doing early Thursday previews for most of the rest of their hybrid theatrical/HBO Max releases. The other exception being The Suicide Squad, which had the same strategy for its early Thursday previews/HBO Max release).\\nLike all 2021 Warner Bros. films, Dune was streamed simultaneously on HBO Max for a period of one month. The film was then removed from the service and followed the normal home media release schedule, similar to the process Warner Bros. used for Wonder Woman 1984 (2020). Many production companies and directors expressed dissatisfaction with the decision, including Villeneuve and Legendary Pictures. In a column published in Variety, Villeneuve expressed concerns about the film\\'s financial success and piracy.\\nDune had its world premiere at the 78th Venice International Film Festival on September 3, 2021. It also screened at the Toronto International Film Festival with an IMAX premiere screening at the Ontario Place Cinesphere on September 11, 2021. Jason Momoa tested positive for COVID-19 after attending the film\\'s London premiere on October 15, 2021. On October 17, the film was leaked online ahead of its planned US and HBO Max release. The film returned for a theatrical run at IMAX theaters from December 3, 2021. From January 24, 2024, screenings included an exclusive preview of Dune: Part Two ahead of its March 2024 release.\\n\\n\\n=== Home media ===\\nThe film was released digitally on December 3, 2021, while Blu-ray, DVD and Ultra HD Blu-ray versions of the film were released on January 11, 2022, by Warner Bros. Home Entertainment. After its release on home media, Dune ranked first on the \"NPD VideoScan First Alert\" chart for combined Blu-ray and DVD sales as well as the dedicated Blu-ray sales chart. According to The Numbers, it sold a combined 215,375 Blu-ray and DVD units in the first week for $3.6 million. It retained the top position on both the charts of the NPD Group for the following two weeks before being displaced by Ghostbusters: Afterlife. In addition, it was the most rented title from Redbox kiosks for three weeks as well. It was the highest-selling movie for the month of January according to the \"NPD VideoScan First Alert\" chart.\\n\\n\\n== Reception ==\\n\\n\\n=== Box office ===\\nDune grossed $108.9 million in the United States and Canada, and $297.1 million in other countries, for a worldwide total of $406 million during its initial release. Deadline Hollywood reported that a total box office gross of $300 million, the combined cost of production and marketing, \"will make many happy from an image-standpoint, even if breakeven is far north of that\".\\nIn the US and Canada, the film made $41 million in its opening weekend from 4,125 theaters, surpassing its projected opening weekend estimates of $30–35 million and besting the debut of Godzilla vs. Kong ($31.6 million) for the highest opening weekend for Warner Bros. during the pandemic era. Of that opening weekend take, $17.5 million came from its first day ticket sales, including $5.1 million from Thursday night previews. Dune also had the best opening of Villeneuve\\'s career. The film fell 62% in its second weekend to $15.5 million, though it remained atop the domestic box office. In its third weekend it dropped by 51% to earn $7.6 million, and was displaced by Eternals from the top rank. On November 25, 2021, Dune became the second Warner Bros. film of the pandemic era to cross $100 million in the US and Canada, following Godzilla vs. Kong.\\nThe film was released in 14 markets outside the US and Canada on September 15, 2021. It grossed $37.9 million, with the largest markets being Russia and CIS ($8.9 million), France ($7.2 million), Germany ($4.4 million), Taiwan ($3.4 million), Italy ($2.5 million) and Spain ($2.4 million). After adding an additional $26.3 million from 32 countries in its second weekend, the film had a 10-day running total of $76.5 million.\\nIn China, Dune opened to a $21.6 million weekend according to estimates by Warner Brothers, ranking second on the country\\'s box office behind The Battle at Lake Changjin. In its fourth week of release outside the US and Canada, the film made $21.4 million in 75 countries, a drop of 54% from the previous weekend. It also fell by 78% to about $5 million in China, dropping to the third rank. The film crossed the $300 million global mark on November 2. During the fifth weekend it earned $11.1 million, a drop of 52%. This included $2.1 million in China where it dropped to the fifth rank.\\nAfter its return to IMAX for a week on December 2, the film earned an estimated $1.8 million during the weekend, a drop of 13% from the previous weekend, primarily due to earning around $1 million from IMAX. In Australia it debuted atop the box office chart, earning $3.4 million in the opening weekend. The $400 million global mark was crossed on February 14, 2022, with the largest running-total countries outside the US and Canada being China ($39.5 million), France ($32.6 million), the UK ($30 million), Germany ($22.5 million) and Russia ($21.3 million).\\n\\n\\n=== Streaming viewership ===\\nAccording to Samba TV, the film was watched in over 1.9 million US households during its first three days of release, which grew to 2.3 million within its first week of release. 3.9 million US households watched the film within its first 30 days of release. According to TV Time, it was the most-watched film overall in the United States from the first to the third week of its release consecutively, before dropping to the sixth rank in its fourth week. The film rose to the third rank on TV Time\\'s chart in the final week of its availability. It was the ninth-most-streamed-film of 2021 according to the service. By March 20, the film was streamed in 5.3 million households in the US, including 996,000 since the Oscar nomination announcements on February 8.\\nAfter its release on PVOD services, Dune debuted at the second position on iTunes and Vudu charts and was ranked seventh on Google Play. The following week it fell to the seventh position on iTunes and the third position on Vudu, while maintaining its ranking on Google Play. After falling out of the charts for two weeks, it found renewed interest as it rose to the tenth position on iTunes, seventh position on Google Play, and the fifth position on Vudu. In the following week, it fell out of the iTunes and Google Play charts again, while dropping to the tenth position on the Vudu chart.\\nThe film was the highest-selling title on Redbox\\'s digital service for the week of January 24–30, 2022. It was also the top-ranked film on iTunes during the same week. Following the Academy Awards nominations, it reentered the top 10 charts for iTunes, Google Play and Vudu.\\n\\n\\n=== Critical response ===\\nOn the review aggregator website Rotten Tomatoes, 83% of 514 critics\\' reviews are positive, with an average rating of 7.6/10. The website\\'s consensus reads: \"Dune occasionally struggles with its unwieldy source material, but those issues are largely overshadowed by the scope and ambition of this visually thrilling adaptation.\" Metacritic gave the film a weighted average score of 74 out of 100, based on 68 critics, indicating \"generally favorable reviews\". Audiences polled by CinemaScore gave the film an average grade of \"A−\" on an A+ to F scale, while those at PostTrak gave it an 84% positive score (with an average rating of 4.5 out of 5 stars) and 66% saying they would definitely recommend it. Following its premiere at the Venice Film Festival in September 2021, early reception was generally positive, receiving praise for its ambition, story, scope, worldbuilding, performances (particularly those of Chalamet and Ferguson) and production values, although some critics considered the story to be incomplete and dull. Its writing and scope continued to be praised following its release, while others criticized the runtime, pacing, and adaptation of the source material.\\nBen Travis of Empire, Robbie Collin from The Daily Telegraph, and Xan Brooks at The Guardian rated the film five out of five stars. Travis praised the writing and direction, feeling it helped properly establish elements of worldbuilding. He also lauded Fraser\\'s cinematography and Zimmer\\'s score, calling the film \"blockbuster filmmaking in the Christopher Nolan mould\", and praising Chalamet and Ferguson\\'s performances. However, he felt that the \"emotional strings\" did not work as well. Brooks agreed with the sentiment that it was a high-quality blockbuster film and found it \"the missing link bridging the multiplex and the arthouse\", citing the worldbuilding, ensemble cast, and set pieces as positive elements. Collins also praised the writing and Chalamet and Ferguson\\'s performances, feeling the exposition was written well. However, he highlighted the production design and the sandworms, calling the latter \"threateningly alien, but also enticing, even addictive\" and commenting \"the sets ring with the desolate grandeur of ancient ruins\".\\nIn a positive yet more critical review, Justin Chang of the Los Angeles Times felt the film used thematic elements from the novel well, and also lauded the production values albeit labelling the visual aesthetic as monochromatic. Chang further went on to praise the plot for increasing the role of women in the story and tension regarding anticipation of action sequences, which he thought were directed well. However, he disliked the \"abrupt, unsatisfying\" ending and wanted Villeneuve\\'s style to align with David Lynch\\'s style, which he considered to contain \"feverish, pustular imagery\".  Leah Greenblatt of Entertainment Weekly, who graded the film a B, wrote that Dune had little exposition and also appreciated the worldbuilding and visual aesthetic. However, she did not appreciate the jokes and felt the script gradually adjusted \"and soon settles into a kind of grim grandeur\", highlighting Chalamet and Isaac\\'s performances. The New York Times\\'s Manohla Dargis also admired the production values and worldbuilding, adding the exposition and pacing was appropriate to establish the latter. However, while she felt Villeneuve had attempted to be faithful to the source material, she also opined that Villeneuve was trying to satisfy the demands of the contemporary film industry. Her major issues were also with the ending and what she deemed to be a \"white man leading a fateful charge\", though she refrained from labelling it a white savior narrative.\\nCritic Owen Gleiberman\\'s review in Variety was more negative: he appreciated the film\\'s extensive focus on worldbuilding, but felt it had also undermined the storytelling. He found the title of \"Dune Part I [sic]\" to be \"presumptuous\", regarding it to be analogous to how other film franchises advertise future installments. Gleiberman felt the film\\'s spectacles, including the sandworm and ornithopter sequences, disengage him from the story, saying \"as the movie begins to run out of tricks, it turns woozy and amorphous\". Reviewing the film for TheWrap, Steve Pond noted the film\\'s darker tone had remained consistent, and cited the production design and scope as positive elements. Pond enjoyed the action sequences on Arrakis and appreciated that Villeneuve \"finds some dark poetry in the way he plays up the story\\'s mystical elements\". However, he was mixed on the film\\'s dark tone, regarding it as a tonal deviation from his previous films but also allowing it to be \"giant mood piece that can be exhilarating in its dark beauty\". Roxana Hadadi\\'s review in Vulture critiqued the way the film flattened the cultural and religious complexities of the book and opted for a more generic portrayal of people of color without specific representation from Middle Eastern or North African (MENA) actors.\\nOther commentators and academics also perceived the film to have neglected and appropriated Arabian and Islamic elements which influenced Dune, and to have excluded MENA actors. Serena Rasoul, founder of Muslim Casting, wanted more MENA representation and labelled the lack of MENA actors an \"erasure\". However, she also acknowledged the cast\\'s overall diversity and did not call the film Orientalist. On the other hand, Ph.D. student in History at Princeton University Haris Durrari deemed it to be Orientalist as he opined it reduced Arab influences to \"exotic aesthetics\" and \"broad abstractions\". Meanwhile, Ali Karjoo-Ravary, an Assistant Professor of Islamic Studies at Bucknell University, felt that the casting of African actors excluded MENA actors, and that characters portrayed by African people felt \"ultimately empty\" as they had died or were not as developed as Paul and Lady Jessica.\\n\\n\\n=== Accolades ===\\n\\nDune was nominated for ten Academy Awards (winning six), three Golden Globe Awards (winning one), eleven British Academy Film Awards (winning five), ten Critics\\' Choice Movie Awards (winning three), two AACTA International Awards (winning one), ten Satellite Awards (winning five), one Grammy Award, one Hollywood Music in Media Awards (won), four People\\'s Choice Awards, one Screen Actors Guild Awards, three Dorian Awards (winning one), and one Nickelodeon Kids\\' Choice Award (won), among others. It was also ranked as one of the top ten films of 2021 by the American Film Institute.\\n\\n\\n== Analysis ==\\nKara Kennedy concluded that some parts are very faithful to the source material while others are heavily adjusted, such as the opening of the story and the portrayal of the Harkonnen. Frank Jacob found that the film has a stronger Orientalization of the Fremen than Lynch\\'s film adaptation, shown through elements such as Chani appearing like the Afghan Girl on the cover of National Geographic in 1985. Edwardo Pérez explored the depiction of the Fremen, masculinity and femininity, and issues of cultural appropriation in the film. He perceived Paul\\'s \"feminine\" Bene Gesserit skills and \"masculine\" military training as contributing to his initial \"androgynous\" and timid nature, later becoming masculine after killing Jamis. According to him, this alongside Duke Leto\\'s sympathy during Paul\\'s concerns about being leader showed that one must acknowledge their masculine and feminine nature for success by pursuing leadership passively.\\nYosr Dridi found screenplay changes made to adjust the source material for a \"culturally-aware and race-conscious 21st century audience\" as eliminating the Arab and Oriental elements for the story, and focusing more on Fremen culture and society rather than the elements of geopolitical worldbuilding from the book, noting how Princess Irulan\\'s original historical epigraphs in the book being replaced with Chani\\'s narration. However, Dridi stated that the film framed Fremen society through Paul\\'s perspective, which constrained the Oriental in \"dominating frameworks\" and disliking the usage of few Arabic words from the Fremen lexicon in the film. Misha Grifka Wander has shown how the film downplays ecology and elements from MENA cultures in favor of the chosen one storytelling trope. Doru Pop discussed the controversies and changes made in the adaptation of Dune to film and Isaac Asimov\\'s Foundation to a television series, particularly the gender and racial changes to key characters. Ion Indolean looked at how Villeneuve cinematographically expresses the story of Paul using elements of the space opera genre and follows in the steps of director Ridley Scott in Blade Runner (1982) and Alien (1979).\\n\\n\\n== Sequels and spin-offs ==\\nVilleneuve intended to make a two-part adaptation of the novel, and by November 2019, Jon Spaihts left his position as showrunner on Dune: Prophecy to focus on writing the sequel film. Villeneuve felt that Warner Bros.\\' decision in December 2020 to simultaneously release their 2021 films through HBO Max alongside a theatrical release due to the impact of the COVID-19 pandemic on cinema could compromise the film\\'s financial performance, resulting in the cancellation of the sequel, though Warner Bros. assured him a sequel would be greenlit as long as the film performed well on HBO Max.\\nFollowing the film\\'s success, Warner Bros. and Legendary Pictures officially greenlit Dune: Part Two in October 2021. Villeneuve\\'s main concern was to finish the production, which would benefit from all the work on the first part. Main characters reprise their role from the first film, with additional casting lasting from March to July 2022, and concluding by January 2023. Preliminary filming began in Italy by early July 2022, and concluded that December. The film was released on March 1, 2024. Dune: Part Two\\'s world premiere took place at Odeon Luxe Leicester Square in London on February 15.\\nVilleneuve expressed interest in making a third film based on Dune Messiah, the second novel in the series, adding that the possibility for the film depended on the success of Dune: Part Two. Spaihts also reiterated in March 2022 that Villeneuve had plans for a third film as well as the television spin-off series Dune: Prophecy. In August 2023, Villeneuve declared his intentions for the film to serve as the conclusion of his Dune trilogy. Villeneuve began developing a script by 2023. In February 2024, Villeneuve said the script was \"almost finished\" but also wanted to take time to ensure his satisfaction, citing Hollywood\\'s tendency of focusing on release dates over quality. Ahead of Dune: Part Two\\'s release, Hans Zimmer revealed he was already writing music for a third film.\\nIn June 2019, Legendary Television announced it is producing a spin-off series, Dune: The Sisterhood, for WarnerMedia\\'s streaming service, HBO Max. The series serves as a prequel to the film and centers on the Bene Gesserit. Initially, Villeneuve was going to direct the series\\' pilot, with Spaihts writing the screenplay and Dana Calvo as showrunner for the series. In November 2019, Spaihts left the series as writer to focus on the sequel film. Spaihts and Villeneuve remain as executive producers along with Brian Herbert, Byron Merritt, and Kim Herbert. In July 2021, Diane Ademu-John took over as showrunner. Spaihts and Villeneuve confirmed in March 2022 that the show is still in development. In April 2022, it was announced that Johan Renck will direct the first two episodes. Travis Fimmel joined the cast in November 2022. In February 2023, it was announced that production was put on hiatus as Renck exited the project. The series was retitled Dune: Prophecy in November 2023.\\n\\n\\n== References ==\\n\\n\\n== Further reading ==\\nBritt, Ryan. (2023). The Spice Must Flow: The Story of Dune, from Cult Novels to Visionary Sci-Fi Movies. Penguin Random House LLC. ISBN 978-0593472996.\\nKennedy, Kara (2024), Adaptations of Dune: Frank Herbert\\'s Story on Screen. Blue Key. ISBN 978-1-953609-99-1.\\nJacob, Frank. (2022). The Orientalist Semiotics of Dune: Religious and Historical References within Frank Herbert\\'s Universe. Büchner. ISBN 978-3-96317-302-8.\\n\\n\\n== External links ==\\n\\nOfficial website\\nDune at IMDb \\nOfficial screenplay', start_char_idx=None, end_char_idx=None, text_template='{metadata_str}\\n\\n{content}', metadata_template='{key}: {value}', metadata_seperator='\\n')"
            ]
          },
          "execution_count": 19,
          "metadata": {},
          "output_type": "execute_result"
        }
      ],
      "source": [
        "wiki_docs[0]"
      ]
    },
    {
      "cell_type": "markdown",
      "metadata": {
        "id": "-6FRQ4hfSV_-"
      },
      "source": [
        "### Initializing our `VectorStoreIndex` with QDrant\n",
        "\n",
        "QDrant is a locally hostable and open-source vector database solution.\n",
        "\n",
        "It offers powerful features like metadata filtering out of the box, and will suit our needs well today!\n",
        "\n",
        "We'll start by creating our local `:memory:` client (in-memory and not meant for production use-cases) and our collection."
      ]
    },
    {
      "cell_type": "code",
      "execution_count": 13,
      "metadata": {
        "colab": {
          "base_uri": "https://localhost:8080/"
        },
        "id": "b1ut96aSEVwY",
        "outputId": "126e308b-c9ba-4991-e26a-aea10f6243e4"
      },
      "outputs": [
        {
          "data": {
            "text/plain": [
              "True"
            ]
          },
          "execution_count": 13,
          "metadata": {},
          "output_type": "execute_result"
        }
      ],
      "source": [
        "from llama_index.vector_stores.qdrant import QdrantVectorStore\n",
        "from qdrant_client import QdrantClient, models\n",
        "\n",
        "client = QdrantClient(location=\":memory:\")\n",
        "\n",
        "client.create_collection(\n",
        "    collection_name=\"movie_wikis\",\n",
        "    vectors_config=models.VectorParams(size=1536, distance=models.Distance.COSINE)\n",
        ")"
      ]
    },
    {
      "cell_type": "markdown",
      "metadata": {
        "id": "Fa3mbrfGnkCk"
      },
      "source": [
        "Then we'll create our `VectorStore` and `StorageContext` which will allow us to create an empty `VectorStoreIndex` which we will be able to add nodes to later!"
      ]
    },
    {
      "cell_type": "code",
      "execution_count": 14,
      "metadata": {
        "colab": {
          "base_uri": "https://localhost:8080/"
        },
        "id": "lZ5xilm1SV_-",
        "outputId": "dd021273-3fe5-45e1-f1c3-b39698189759"
      },
      "outputs": [
        {
          "name": "stderr",
          "output_type": "stream",
          "text": [
            "\u001b[34m\u001b[1mwandb\u001b[0m: Logged trace tree to W&B.\n"
          ]
        }
      ],
      "source": [
        "from llama_index.core import VectorStoreIndex\n",
        "from llama_index.core import StorageContext\n",
        "\n",
        "vector_store = QdrantVectorStore(client=client, collection_name=\"movie_wikis\")\n",
        "\n",
        "storage_context = StorageContext.from_defaults(vector_store=vector_store)\n",
        "\n",
        "index = VectorStoreIndex.from_documents(\n",
        "    [],\n",
        "    storage_context=storage_context,\n",
        ")"
      ]
    },
    {
      "cell_type": "markdown",
      "metadata": {
        "id": "6qtzVDelSV_-"
      },
      "source": [
        "### Node Construction\n",
        "\n",
        "Now we will loop through our documents and metadata and construct nodes.\n",
        "\n",
        "We'll make sure to explicitly associate our nodes with their respective movie so we can filter by the movie title in the upcoming cells.\n",
        "\n",
        "You might be thinking to yourself - wait, we never indicated which embedding model this should use - but remember"
      ]
    },
    {
      "cell_type": "code",
      "execution_count": 15,
      "metadata": {
        "colab": {
          "base_uri": "https://localhost:8080/"
        },
        "id": "LP4INgSGSV_-",
        "outputId": "9cb343a0-989a-4768-946d-c891911d004b"
      },
      "outputs": [
        {
          "name": "stdout",
          "output_type": "stream",
          "text": [
            "INFO:httpx:HTTP Request: POST https://api.openai.com/v1/embeddings \"HTTP/1.1 200 OK\"\n",
            "HTTP Request: POST https://api.openai.com/v1/embeddings \"HTTP/1.1 200 OK\"\n"
          ]
        },
        {
          "name": "stderr",
          "output_type": "stream",
          "text": [
            "\u001b[34m\u001b[1mwandb\u001b[0m: Logged trace tree to W&B.\n"
          ]
        },
        {
          "name": "stdout",
          "output_type": "stream",
          "text": [
            "INFO:httpx:HTTP Request: POST https://api.openai.com/v1/embeddings \"HTTP/1.1 200 OK\"\n",
            "HTTP Request: POST https://api.openai.com/v1/embeddings \"HTTP/1.1 200 OK\"\n"
          ]
        },
        {
          "name": "stderr",
          "output_type": "stream",
          "text": [
            "\u001b[34m\u001b[1mwandb\u001b[0m: Logged trace tree to W&B.\n"
          ]
        },
        {
          "name": "stdout",
          "output_type": "stream",
          "text": [
            "INFO:httpx:HTTP Request: POST https://api.openai.com/v1/embeddings \"HTTP/1.1 200 OK\"\n",
            "HTTP Request: POST https://api.openai.com/v1/embeddings \"HTTP/1.1 200 OK\"\n"
          ]
        },
        {
          "name": "stderr",
          "output_type": "stream",
          "text": [
            "\u001b[34m\u001b[1mwandb\u001b[0m: Logged trace tree to W&B.\n"
          ]
        },
        {
          "name": "stdout",
          "output_type": "stream",
          "text": [
            "INFO:httpx:HTTP Request: POST https://api.openai.com/v1/embeddings \"HTTP/1.1 200 OK\"\n",
            "HTTP Request: POST https://api.openai.com/v1/embeddings \"HTTP/1.1 200 OK\"\n"
          ]
        },
        {
          "name": "stderr",
          "output_type": "stream",
          "text": [
            "\u001b[34m\u001b[1mwandb\u001b[0m: Logged trace tree to W&B.\n"
          ]
        }
      ],
      "source": [
        "from llama_index.core import SimpleDirectoryReader\n",
        "from llama_index.core.ingestion import IngestionPipeline\n",
        "from llama_index.core.node_parser import TokenTextSplitter\n",
        "from llama_index.core.extractors import TitleExtractor\n",
        "\n",
        "pipeline = IngestionPipeline(transformations=[TokenTextSplitter()])\n",
        "\n",
        "for movie, wiki_doc in zip(movie_list, wiki_docs):\n",
        "  nodes = pipeline.run(documents=[wiki_doc])\n",
        "  for node in nodes:\n",
        "      node.metadata = {\"title\" : movie}\n",
        "  index.insert_nodes(nodes)"
      ]
    },
    {
      "cell_type": "markdown",
      "metadata": {
        "id": "biVzC-I4UAmB"
      },
      "source": [
        "####❓ Question #1:\n",
        "\n",
        "What `metadata` fields will the nodes in our index have?\n",
        "\n",
        "> You will need to write code to find this information\n",
        "\n",
        "#### ANSWER: \n",
        "It has the `title` metadata field.\n",
        "USed node[0].metadata to find out"
      ]
    },
    {
      "cell_type": "code",
      "execution_count": 16,
      "metadata": {
        "id": "mt1lhxEnUKxO"
      },
      "outputs": [
        {
          "data": {
            "text/plain": [
              "{'title': 'The Lord of the Rings: The Two Towers'}"
            ]
          },
          "execution_count": 16,
          "metadata": {},
          "output_type": "execute_result"
        }
      ],
      "source": [
        "nodes[0].metadata"
      ]
    },
    {
      "cell_type": "markdown",
      "metadata": {
        "id": "Sfbon1BwSLFS"
      },
      "source": [
        "### Persisting and Loading Stored Index with Weights and Biases\n",
        "\n",
        "Now we can utilize a powerful feature of Weights and Biases - index and artifact versioning!\n",
        "\n",
        "We can persist our index to WandB to be used and loaded later!"
      ]
    },
    {
      "cell_type": "code",
      "execution_count": 17,
      "metadata": {
        "colab": {
          "base_uri": "https://localhost:8080/"
        },
        "id": "PHJd00J3G48_",
        "outputId": "0a74079d-8776-4fa6-f03c-8ead3892d094"
      },
      "outputs": [
        {
          "name": "stderr",
          "output_type": "stream",
          "text": [
            "\u001b[34m\u001b[1mwandb\u001b[0m: Adding directory to artifact (/mnt/c/code/AIE2/Week 4/Day 2/wandb/run-20240427_122643-k2a92ipe/files/storage)... Done. 0.0s\n"
          ]
        }
      ],
      "source": [
        "wandb_callback.persist_index(index, index_name=\"movie-index-qdrant\")"
      ]
    },
    {
      "cell_type": "markdown",
      "metadata": {
        "id": "jvpHLt8UShKa"
      },
      "source": [
        "Now we can load our index from WandB, which is a truly powerful tool!"
      ]
    },
    {
      "cell_type": "code",
      "execution_count": 18,
      "metadata": {
        "colab": {
          "base_uri": "https://localhost:8080/"
        },
        "id": "FDZLmqTDHDrZ",
        "outputId": "7b3dd1ec-2614-4017-d7a9-9295251ddce0"
      },
      "outputs": [
        {
          "name": "stderr",
          "output_type": "stream",
          "text": [
            "\u001b[34m\u001b[1mwandb\u001b[0m:   4 of 4 files downloaded.  \n"
          ]
        }
      ],
      "source": [
        "from llama_index.core import load_index_from_storage\n",
        "\n",
        "storage_context = wandb_callback.load_storage_context(\n",
        "    artifact_url=\"bullyellis/llama-index-rag/movie-index-qdrant:v0\"\n",
        ")"
      ]
    },
    {
      "cell_type": "markdown",
      "metadata": {
        "id": "kVVW70zyapx1"
      },
      "source": [
        "####❓ Question #2:\n",
        "\n",
        "Provide a screenshot of your index version history as shown in WandB.\n",
        "\n",
        "You can find your screenshot by doing the following:\n",
        "![image](https://i.imgur.com/anrwPCp.png)"
      ]
    },
    {
      "cell_type": "markdown",
      "metadata": {},
      "source": []
    },
    {
      "cell_type": "markdown",
      "metadata": {
        "id": "kCSHKnb0mIte"
      },
      "source": [
        "## Simple RAG - QueryEngine\n",
        "\n",
        "Now that we're created our `VectorStoreIndex`, powered by a QDrant VectorStore, we can wrap it in a simple `QueryEngine` using the `as_query_engine()` method - which will connect a few things together for us:"
      ]
    },
    {
      "cell_type": "code",
      "execution_count": 20,
      "metadata": {
        "id": "3ipb8j6dfLcO"
      },
      "outputs": [],
      "source": [
        "simple_rag = index.as_query_engine()"
      ]
    },
    {
      "cell_type": "markdown",
      "metadata": {
        "id": "zgJZGr5FqAME"
      },
      "source": [
        "Before we test this out - let's see what information we can find out about from our new `QueryEngine`!"
      ]
    },
    {
      "cell_type": "code",
      "execution_count": 21,
      "metadata": {
        "colab": {
          "base_uri": "https://localhost:8080/"
        },
        "id": "L-3v4ntaqFmd",
        "outputId": "15bd6ea0-f39f-480a-d715-0659dc8b058a"
      },
      "outputs": [
        {
          "name": "stdout",
          "output_type": "stream",
          "text": [
            "Context information is below.\n",
            "---------------------\n",
            "{context_str}\n",
            "---------------------\n",
            "Given the context information and not prior knowledge, answer the query.\n",
            "Query: {query_str}\n",
            "Answer: \n",
            "\n",
            "~~~~~~~~~~~~~~~~~~\n",
            "\n",
            "The original query is as follows: {query_str}\n",
            "We have provided an existing answer: {existing_answer}\n",
            "We have the opportunity to refine the existing answer (only if needed) with some more context below.\n",
            "------------\n",
            "{context_msg}\n",
            "------------\n",
            "Given the new context, refine the original answer to better answer the query. If the context isn't useful, return the original answer.\n",
            "Refined Answer: \n",
            "\n",
            "~~~~~~~~~~~~~~~~~~\n",
            "\n"
          ]
        }
      ],
      "source": [
        "for k, v in simple_rag.get_prompts().items():\n",
        "  print(v.get_template())\n",
        "  print(\"\\n~~~~~~~~~~~~~~~~~~\\n\")"
      ]
    },
    {
      "cell_type": "markdown",
      "metadata": {
        "id": "N1YoR45tnv8h"
      },
      "source": [
        "Let's see how it does!"
      ]
    },
    {
      "cell_type": "code",
      "execution_count": 22,
      "metadata": {
        "colab": {
          "base_uri": "https://localhost:8080/"
        },
        "id": "FgpQhKobfQ7y",
        "outputId": "494ef50d-b7a8-4800-8735-ac4adddf0926"
      },
      "outputs": [
        {
          "name": "stdout",
          "output_type": "stream",
          "text": [
            "INFO:httpx:HTTP Request: POST https://api.openai.com/v1/embeddings \"HTTP/1.1 200 OK\"\n",
            "HTTP Request: POST https://api.openai.com/v1/embeddings \"HTTP/1.1 200 OK\"\n",
            "INFO:httpx:HTTP Request: POST https://api.openai.com/v1/chat/completions \"HTTP/1.1 200 OK\"\n",
            "HTTP Request: POST https://api.openai.com/v1/chat/completions \"HTTP/1.1 200 OK\"\n"
          ]
        },
        {
          "name": "stderr",
          "output_type": "stream",
          "text": [
            "\u001b[34m\u001b[1mwandb\u001b[0m: Logged trace tree to W&B.\n"
          ]
        }
      ],
      "source": [
        "response = simple_rag.query(\"Who is the evil Wizard in the story?\")"
      ]
    },
    {
      "cell_type": "code",
      "execution_count": 23,
      "metadata": {
        "colab": {
          "base_uri": "https://localhost:8080/",
          "height": 35
        },
        "id": "654d4vdfhnVq",
        "outputId": "ec3608c4-134a-4ac6-a654-9e65fa71ceb0"
      },
      "outputs": [
        {
          "data": {
            "text/plain": [
              "'The evil wizard in the story is Saruman the White.'"
            ]
          },
          "execution_count": 23,
          "metadata": {},
          "output_type": "execute_result"
        }
      ],
      "source": [
        "response.response"
      ]
    },
    {
      "cell_type": "markdown",
      "metadata": {
        "id": "D8rRiijvpVoQ"
      },
      "source": [
        "That makes sense!\n",
        "\n",
        "Let's ask a question that's slightly more...ambiguous."
      ]
    },
    {
      "cell_type": "code",
      "execution_count": 24,
      "metadata": {
        "colab": {
          "base_uri": "https://localhost:8080/"
        },
        "id": "_m0H1tbLiqME",
        "outputId": "533148c8-05cf-44ef-ec52-28fe7539f5ca"
      },
      "outputs": [
        {
          "name": "stdout",
          "output_type": "stream",
          "text": [
            "INFO:httpx:HTTP Request: POST https://api.openai.com/v1/embeddings \"HTTP/1.1 200 OK\"\n",
            "HTTP Request: POST https://api.openai.com/v1/embeddings \"HTTP/1.1 200 OK\"\n",
            "INFO:httpx:HTTP Request: POST https://api.openai.com/v1/chat/completions \"HTTP/1.1 200 OK\"\n",
            "HTTP Request: POST https://api.openai.com/v1/chat/completions \"HTTP/1.1 200 OK\"\n"
          ]
        },
        {
          "name": "stderr",
          "output_type": "stream",
          "text": [
            "\u001b[34m\u001b[1mwandb\u001b[0m: Logged trace tree to W&B.\n"
          ]
        }
      ],
      "source": [
        "response = simple_rag.query(\"Who are the giant beings that roam across the world?\")"
      ]
    },
    {
      "cell_type": "code",
      "execution_count": 25,
      "metadata": {
        "colab": {
          "base_uri": "https://localhost:8080/",
          "height": 35
        },
        "id": "TEh4yjQzizeV",
        "outputId": "241b4b09-58c3-4d18-ca26-9813b38717e5"
      },
      "outputs": [
        {
          "data": {
            "text/plain": [
              "'The giant beings that roam across the world are sandworms.'"
            ]
          },
          "execution_count": 25,
          "metadata": {},
          "output_type": "execute_result"
        }
      ],
      "source": [
        "response.response"
      ]
    },
    {
      "cell_type": "markdown",
      "metadata": {
        "id": "xOb6eh8_pnaX"
      },
      "source": [
        "We can check the source nodes to see which movies we retrieved."
      ]
    },
    {
      "cell_type": "code",
      "execution_count": 26,
      "metadata": {
        "colab": {
          "base_uri": "https://localhost:8080/"
        },
        "id": "y_qyApFDpPny",
        "outputId": "48041169-1504-4add-cdff-cdea4ffda118"
      },
      "outputs": [
        {
          "name": "stdout",
          "output_type": "stream",
          "text": [
            "['Dune (2021 film)', 'The Lord of the Rings: The Fellowship of the Ring']\n"
          ]
        }
      ],
      "source": [
        "print([x.metadata[\"title\"] for x in response.source_nodes])"
      ]
    },
    {
      "cell_type": "markdown",
      "metadata": {
        "id": "xBEXFmPapZpg"
      },
      "source": [
        "Okay, so in this case - we've gone with \"Sandworms \" from Dune.\n",
        "\n",
        "But there's also the Ents from Lord of the Rings, and it looks like we got documents from Lord of the Rings as well.\n",
        "\n",
        "Let's see if there's a way we can use the title metadata we added to filter the results we get!"
      ]
    },
    {
      "cell_type": "markdown",
      "metadata": {
        "id": "YUa5sHMsSV__"
      },
      "source": [
        "## Auto Retriever Functional Tool\n",
        "\n",
        "This tool will leverage OpenAI's functional endpoint to select the correct metadata filter and query the filtered index - only looking at nodes with the desired metadata.\n",
        "\n",
        "A simplified diagram: ![image](https://i.imgur.com/AICDPav.png)"
      ]
    },
    {
      "cell_type": "markdown",
      "metadata": {
        "id": "Z2HQHY3pSV__"
      },
      "source": [
        "First, we need to create our `VectoreStoreInfo` object which will hold all the relevant metadata we need for each component (in this case title metadata).\n",
        "\n",
        "Notice that you need to include it in a text list."
      ]
    },
    {
      "cell_type": "code",
      "execution_count": 27,
      "metadata": {
        "id": "KoAYxbdsSV__"
      },
      "outputs": [],
      "source": [
        "from llama_index.core.tools import FunctionTool\n",
        "from llama_index.core.vector_stores.types import (\n",
        "    VectorStoreInfo,\n",
        "    MetadataInfo,\n",
        "    ExactMatchFilter,\n",
        "    MetadataFilters,\n",
        ")\n",
        "from llama_index.core.retrievers import VectorIndexRetriever\n",
        "from llama_index.core.query_engine import RetrieverQueryEngine\n",
        "\n",
        "from typing import List, Tuple, Any\n",
        "from pydantic import BaseModel, Field\n",
        "\n",
        "top_k = 3\n",
        "\n",
        "vector_store_info = VectorStoreInfo(\n",
        "    content_info=\"semantic information about movies\",\n",
        "    metadata_info=[MetadataInfo(\n",
        "        name=\"title\",\n",
        "        type=\"str\",\n",
        "        description='title of the movie, one of [\"Dune (2021 film)\", \"Dune: Part Two\", \"The Lord of the Rings: The Fellowship of the Ring\", \"The Lord of the Rings: The Two Towers\"]'\n",
        "        )]\n",
        ")"
      ]
    },
    {
      "cell_type": "markdown",
      "metadata": {
        "id": "NEjK7jcsSV__"
      },
      "source": [
        "Now we'll create our base PyDantic object that we can use to ensure compatability with our application layer. This verifies that the response from the OpenAI endpoint conforms to this schema."
      ]
    },
    {
      "cell_type": "code",
      "execution_count": 28,
      "metadata": {
        "id": "yixkwF8zSV__"
      },
      "outputs": [],
      "source": [
        "class AutoRetrieveModel(BaseModel):\n",
        "    query: str = Field(..., description=\"natural language query string\")\n",
        "    filter_key_list: List[str] = Field(\n",
        "        ..., description=\"List of metadata filter field names\"\n",
        "    )\n",
        "    filter_value_list: List[str] = Field(\n",
        "        ...,\n",
        "        description=(\n",
        "            \"List of metadata filter field values (corresponding to names specified in filter_key_list)\"\n",
        "        )\n",
        "    )"
      ]
    },
    {
      "cell_type": "markdown",
      "metadata": {
        "id": "Ep6ORS3FSV__"
      },
      "source": [
        "Now we can build our function that we will use to query the functional endpoint."
      ]
    },
    {
      "cell_type": "code",
      "execution_count": 29,
      "metadata": {
        "id": "y8sPThxlSV__"
      },
      "outputs": [],
      "source": [
        "def auto_retrieve_fn(\n",
        "    query: str, filter_key_list: List[str], filter_value_list: List[str]\n",
        "):\n",
        "    \"\"\"Auto retrieval function.\n",
        "\n",
        "    Performs auto-retrieval from a vector database, and then applies a set of filters.\n",
        "\n",
        "    \"\"\"\n",
        "    query = query or \"Query\"\n",
        "\n",
        "    exact_match_filters = [\n",
        "        ExactMatchFilter(key=k, value=v)\n",
        "        for k, v in zip(filter_key_list, filter_value_list)\n",
        "    ]\n",
        "    retriever = VectorIndexRetriever(\n",
        "        index, filters=MetadataFilters(filters=exact_match_filters), top_k=top_k\n",
        "    )\n",
        "    query_engine = RetrieverQueryEngine.from_args(retriever)\n",
        "\n",
        "    response = query_engine.query(query)\n",
        "    return str(response)"
      ]
    },
    {
      "cell_type": "markdown",
      "metadata": {
        "id": "Yt4BV6oISV__"
      },
      "source": [
        "Now we need to wrap our system in a tool in order to integrate it into the larger application.\n",
        "\n",
        "Source Code Here:\n",
        "- [`FunctionTool`](https://github.com/jerryjliu/llama_index/blob/d24767b0812ac56104497d8f59095eccbe9f2b08/llama_index/tools/function_tool.py#L21)"
      ]
    },
    {
      "cell_type": "code",
      "execution_count": 30,
      "metadata": {
        "id": "U4lS1NqeSV__"
      },
      "outputs": [],
      "source": [
        "description = f\"\"\"\\\n",
        "Use this tool to look up non-review based information about films.\n",
        "The vector database schema is given below:\n",
        "{vector_store_info.json()}\n",
        "\"\"\"\n",
        "\n",
        "auto_retrieve_tool = FunctionTool.from_defaults(\n",
        "    fn=auto_retrieve_fn,\n",
        "    name=\"semantic-film-info\",\n",
        "    description=description,\n",
        "    fn_schema=AutoRetrieveModel\n",
        ")"
      ]
    },
    {
      "cell_type": "markdown",
      "metadata": {
        "id": "Ka_CDeOHbF-J"
      },
      "source": [
        "####❓ Question #3:\n",
        "\n",
        "Is the text in the description of our `FunctionTool` important or not? Please explain your answer.\n",
        "\n",
        "#### ANSWER: Yes, it tells the LLM model what the format of the vector database schema is so that it can use the tool."
      ]
    },
    {
      "cell_type": "markdown",
      "metadata": {
        "id": "ZblimmXVSV__"
      },
      "source": [
        "All that's left to do is attach the tool to an OpenAIAgent and let it rip!\n",
        "\n",
        "Source Code Here:\n",
        "- [`OpenAIAgent`](https://github.com/jerryjliu/llama_index/blob/d24767b0812ac56104497d8f59095eccbe9f2b08/llama_index/agent/openai_agent.py#L361)"
      ]
    },
    {
      "cell_type": "code",
      "execution_count": 31,
      "metadata": {
        "id": "W2hafCTxSV__"
      },
      "outputs": [],
      "source": [
        "from llama_index.agent.openai import OpenAIAgent\n",
        "\n",
        "agent = OpenAIAgent.from_tools(\n",
        "    tools=[auto_retrieve_tool],\n",
        "    verbose=True,\n",
        ")"
      ]
    },
    {
      "cell_type": "code",
      "execution_count": 32,
      "metadata": {
        "colab": {
          "base_uri": "https://localhost:8080/"
        },
        "id": "DBJWDBK5SV__",
        "outputId": "278355ef-715c-4dcf-deb1-8eff22826a52"
      },
      "outputs": [
        {
          "name": "stdout",
          "output_type": "stream",
          "text": [
            "Added user message to memory: Who starred in the 2021 film?\n",
            "INFO:httpx:HTTP Request: POST https://api.openai.com/v1/chat/completions \"HTTP/1.1 200 OK\"\n",
            "HTTP Request: POST https://api.openai.com/v1/chat/completions \"HTTP/1.1 200 OK\"\n",
            "=== Calling Function ===\n",
            "Calling function: semantic-film-info with args: {\"query\":\"cast of Dune (2021 film)\",\"filter_key_list\":[\"title\"],\"filter_value_list\":[\"Dune (2021 film)\"]}\n",
            "INFO:httpx:HTTP Request: POST https://api.openai.com/v1/embeddings \"HTTP/1.1 200 OK\"\n",
            "HTTP Request: POST https://api.openai.com/v1/embeddings \"HTTP/1.1 200 OK\"\n",
            "INFO:httpx:HTTP Request: POST https://api.openai.com/v1/chat/completions \"HTTP/1.1 200 OK\"\n",
            "HTTP Request: POST https://api.openai.com/v1/chat/completions \"HTTP/1.1 200 OK\"\n",
            "Got output: The cast of Dune (2021 film) includes Timothée Chalamet as Paul Atreides, Rebecca Ferguson as Lady Jessica, Oscar Isaac as Duke Leto Atreides, Josh Brolin as Gurney Halleck, Stellan Skarsgård as Baron Vladimir Harkonnen, Dave Bautista as Glossu Rabban, Sharon Duncan-Brewster as Dr. Liet Kynes, Stephen McKinley Henderson as Thufir Hawat, Zendaya as Chani, Chang Chen as Dr. Wellington Yueh, Charlotte Rampling as Reverend Mother Mohiam, Jason Momoa as Duncan Idaho, Javier Bardem as Stilgar, David Dastmalchian as Piter De Vries, Babs Olusanmokun as Jamis, Golda Rosheuvel as Shadout Mapes, and Roger Yuan as Lieutenant Lanville.\n",
            "========================\n",
            "\n",
            "INFO:httpx:HTTP Request: POST https://api.openai.com/v1/chat/completions \"HTTP/1.1 200 OK\"\n",
            "HTTP Request: POST https://api.openai.com/v1/chat/completions \"HTTP/1.1 200 OK\"\n"
          ]
        },
        {
          "name": "stderr",
          "output_type": "stream",
          "text": [
            "\u001b[34m\u001b[1mwandb\u001b[0m: Logged trace tree to W&B.\n"
          ]
        },
        {
          "name": "stdout",
          "output_type": "stream",
          "text": [
            "The 2021 film \"Dune\" stars Timothée Chalamet, Rebecca Ferguson, Oscar Isaac, Josh Brolin, Stellan Skarsgård, Dave Bautista, Sharon Duncan-Brewster, Stephen McKinley Henderson, Zendaya, Chang Chen, Charlotte Rampling, Jason Momoa, Javier Bardem, David Dastmalchian, Babs Olusanmokun, Golda Rosheuvel, and Roger Yuan.\n"
          ]
        }
      ],
      "source": [
        "response = agent.chat(\"Who starred in the 2021 film?\")\n",
        "print(str(response))"
      ]
    },
    {
      "cell_type": "code",
      "execution_count": 33,
      "metadata": {
        "colab": {
          "base_uri": "https://localhost:8080/"
        },
        "id": "UZzs2PyDuJGX",
        "outputId": "1b195ad9-c3ed-4901-aac8-3be932d42222"
      },
      "outputs": [
        {
          "name": "stdout",
          "output_type": "stream",
          "text": [
            "Added user message to memory: Who are those giant guys from Lord of the Rings that roam around the forest?\n",
            "INFO:httpx:HTTP Request: POST https://api.openai.com/v1/chat/completions \"HTTP/1.1 200 OK\"\n",
            "HTTP Request: POST https://api.openai.com/v1/chat/completions \"HTTP/1.1 200 OK\"\n",
            "=== Calling Function ===\n",
            "Calling function: semantic-film-info with args: {\"query\":\"characters from The Lord of the Rings: The Two Towers\",\"filter_key_list\":[\"title\"],\"filter_value_list\":[\"The Lord of the Rings: The Two Towers\"]}\n",
            "INFO:httpx:HTTP Request: POST https://api.openai.com/v1/embeddings \"HTTP/1.1 200 OK\"\n",
            "HTTP Request: POST https://api.openai.com/v1/embeddings \"HTTP/1.1 200 OK\"\n",
            "INFO:httpx:HTTP Request: POST https://api.openai.com/v1/chat/completions \"HTTP/1.1 200 OK\"\n",
            "HTTP Request: POST https://api.openai.com/v1/chat/completions \"HTTP/1.1 200 OK\"\n",
            "Got output: Frodo Baggins, Gandalf the White, Aragorn, Samwise Gamgee, Gollum, Peregrin Took, Meriadoc Brandybuck, Gimli, Legolas, Théoden, Saruman the White, Elrond, Éowyn, Faramir, Gríma Wormtongue, Éomer, Arwen, Galadriel, Boromir, Haldir, Háma, Gamling, Madril, Ugluk, Denethor.\n",
            "========================\n",
            "\n",
            "INFO:httpx:HTTP Request: POST https://api.openai.com/v1/chat/completions \"HTTP/1.1 200 OK\"\n",
            "HTTP Request: POST https://api.openai.com/v1/chat/completions \"HTTP/1.1 200 OK\"\n"
          ]
        },
        {
          "name": "stderr",
          "output_type": "stream",
          "text": [
            "\u001b[34m\u001b[1mwandb\u001b[0m: Logged trace tree to W&B.\n"
          ]
        },
        {
          "name": "stdout",
          "output_type": "stream",
          "text": [
            "The giant guys from \"The Lord of the Rings: The Two Towers\" are likely the Ents, also known as Treebeard and the Ents of Fangorn Forest. They are ancient tree-like creatures who roam the forest and play a significant role in the story.\n"
          ]
        }
      ],
      "source": [
        "response = agent.chat(\"Who are those giant guys from Lord of the Rings that roam around the forest?\")\n",
        "print(str(response))"
      ]
    },
    {
      "cell_type": "markdown",
      "metadata": {
        "id": "v_GqxFCVbKch"
      },
      "source": [
        "# 🤝 Breakout Room #2"
      ]
    },
    {
      "cell_type": "markdown",
      "metadata": {
        "id": "yJcJL7VXSV__"
      },
      "source": [
        "## Quantitative RAG Pipeline with NL2SQL Tooling\n",
        "\n",
        "We'll walk through the steps of creating a natural language to SQL system in the following section.\n",
        "\n",
        "> NOTICE: This does not have parsing on the inputs or intermediary calls to ensure that users are using safe SQL queries. Use this with caution in a production environment without adding specific guardrails from either side of the application."
      ]
    },
    {
      "cell_type": "markdown",
      "metadata": {
        "id": "SsVcM0-4SV__"
      },
      "source": [
        "The next few steps should be largely straightforward, we'll want to:\n",
        "\n",
        "1. Read in our `.csv` files into `pd.DataFrame` objects\n",
        "2. Create an in-memory `sqlite` powered `sqlalchemy` engine\n",
        "3. Cast our `pd.DataFrame` objects to the SQL engine\n",
        "4. Create an `SQLDatabase` object through LlamaIndex\n",
        "5. Use that to create a `QueryEngineTool` that we can interact with through the `NLSQLTableQueryEngine`!\n",
        "\n",
        "If you get stuck, please consult the documentation."
      ]
    },
    {
      "cell_type": "code",
      "execution_count": 34,
      "metadata": {
        "colab": {
          "base_uri": "https://localhost:8080/"
        },
        "id": "WwWOygTqlNBh",
        "outputId": "ac7633a8-3e17-42e5-8c60-0f29b1927ceb"
      },
      "outputs": [
        {
          "name": "stdout",
          "output_type": "stream",
          "text": [
            "--2024-04-27 13:04:41--  https://raw.githubusercontent.com/AI-Maker-Space/DataRepository/main/dune1.csv\n",
            "Resolving raw.githubusercontent.com (raw.githubusercontent.com)... 185.199.111.133, 185.199.108.133, 185.199.109.133, ...\n",
            "Connecting to raw.githubusercontent.com (raw.githubusercontent.com)|185.199.111.133|:443... connected.\n",
            "HTTP request sent, awaiting response... 200 OK\n",
            "Length: 133391 (130K) [text/plain]\n",
            "Saving to: ‘dune1.csv’\n",
            "\n",
            "dune1.csv           100%[===================>] 130.26K  --.-KB/s    in 0.02s   \n",
            "\n",
            "2024-04-27 13:04:41 (5.51 MB/s) - ‘dune1.csv’ saved [133391/133391]\n",
            "\n"
          ]
        }
      ],
      "source": [
        "!wget https://raw.githubusercontent.com/AI-Maker-Space/DataRepository/main/dune1.csv"
      ]
    },
    {
      "cell_type": "code",
      "execution_count": 35,
      "metadata": {
        "colab": {
          "base_uri": "https://localhost:8080/"
        },
        "id": "TD_9LPL9lTlG",
        "outputId": "664f4689-8f10-4624-e01d-fb15cf381a6a"
      },
      "outputs": [
        {
          "name": "stdout",
          "output_type": "stream",
          "text": [
            "--2024-04-27 13:04:48--  https://raw.githubusercontent.com/AI-Maker-Space/DataRepository/main/dune2.csv\n",
            "Resolving raw.githubusercontent.com (raw.githubusercontent.com)... 185.199.111.133, 185.199.108.133, 185.199.109.133, ...\n",
            "Connecting to raw.githubusercontent.com (raw.githubusercontent.com)|185.199.111.133|:443... connected.\n",
            "HTTP request sent, awaiting response... 200 OK\n",
            "Length: 111843 (109K) [text/plain]\n",
            "Saving to: ‘dune2.csv’\n",
            "\n",
            "dune2.csv           100%[===================>] 109.22K  --.-KB/s    in 0.02s   \n",
            "\n",
            "2024-04-27 13:04:49 (5.75 MB/s) - ‘dune2.csv’ saved [111843/111843]\n",
            "\n"
          ]
        }
      ],
      "source": [
        "!wget https://raw.githubusercontent.com/AI-Maker-Space/DataRepository/main/dune2.csv"
      ]
    },
    {
      "cell_type": "code",
      "execution_count": 36,
      "metadata": {
        "colab": {
          "base_uri": "https://localhost:8080/"
        },
        "id": "QWFWvEdY1inS",
        "outputId": "f827c8d9-82e4-425b-9b04-eca7f8225da6"
      },
      "outputs": [
        {
          "name": "stdout",
          "output_type": "stream",
          "text": [
            "--2024-04-27 13:04:58--  https://raw.githubusercontent.com/AI-Maker-Space/DataRepository/main/lotr_fotr.csv\n",
            "Resolving raw.githubusercontent.com (raw.githubusercontent.com)... 185.199.111.133, 185.199.108.133, 185.199.109.133, ...\n",
            "Connecting to raw.githubusercontent.com (raw.githubusercontent.com)|185.199.111.133|:443... connected.\n",
            "HTTP request sent, awaiting response... 200 OK\n",
            "Length: 172855 (169K) [text/plain]\n",
            "Saving to: ‘lotr_fotr.csv’\n",
            "\n",
            "lotr_fotr.csv       100%[===================>] 168.80K  --.-KB/s    in 0.02s   \n",
            "\n",
            "2024-04-27 13:04:58 (7.25 MB/s) - ‘lotr_fotr.csv’ saved [172855/172855]\n",
            "\n"
          ]
        }
      ],
      "source": [
        "!wget https://raw.githubusercontent.com/AI-Maker-Space/DataRepository/main/lotr_fotr.csv"
      ]
    },
    {
      "cell_type": "code",
      "execution_count": 37,
      "metadata": {
        "colab": {
          "base_uri": "https://localhost:8080/"
        },
        "id": "Nto_jNmN1n-G",
        "outputId": "ee1b2970-2bcf-48f9-e0fd-1eae06f7d162"
      },
      "outputs": [
        {
          "name": "stdout",
          "output_type": "stream",
          "text": [
            "--2024-04-27 13:05:11--  https://raw.githubusercontent.com/AI-Maker-Space/DataRepository/main/lotr_tt.csv\n",
            "Resolving raw.githubusercontent.com (raw.githubusercontent.com)... 185.199.111.133, 185.199.108.133, 185.199.109.133, ...\n",
            "Connecting to raw.githubusercontent.com (raw.githubusercontent.com)|185.199.111.133|:443... connected.\n",
            "HTTP request sent, awaiting response... 200 OK\n",
            "Length: 114598 (112K) [text/plain]\n",
            "Saving to: ‘lotr_tt.csv’\n",
            "\n",
            "lotr_tt.csv         100%[===================>] 111.91K  --.-KB/s    in 0.02s   \n",
            "\n",
            "2024-04-27 13:05:11 (5.49 MB/s) - ‘lotr_tt.csv’ saved [114598/114598]\n",
            "\n"
          ]
        }
      ],
      "source": [
        "!wget https://raw.githubusercontent.com/AI-Maker-Space/DataRepository/main/lotr_tt.csv"
      ]
    },
    {
      "cell_type": "markdown",
      "metadata": {
        "id": "8PUg-ZuTSWAC"
      },
      "source": [
        "#### Read `.csv` Into Pandas"
      ]
    },
    {
      "cell_type": "code",
      "execution_count": 38,
      "metadata": {
        "id": "52Hd8PM4SWAC"
      },
      "outputs": [],
      "source": [
        "import pandas as pd\n",
        "\n",
        "dune1 = pd.read_csv(\"./dune1.csv\")\n",
        "dune2 = pd.read_csv(\"./dune2.csv\")\n",
        "lotr_fotr = pd.read_csv(\"./lotr_fotr.csv\")\n",
        "lotr_tt = pd.read_csv(\"./lotr_tt.csv\")"
      ]
    },
    {
      "cell_type": "markdown",
      "metadata": {
        "id": "fPTNyqmpSWAC"
      },
      "source": [
        "#### Create SQLAlchemy engine with SQLite"
      ]
    },
    {
      "cell_type": "code",
      "execution_count": 39,
      "metadata": {
        "id": "4lfuPKYBSWAC"
      },
      "outputs": [],
      "source": [
        "from sqlalchemy import create_engine\n",
        "\n",
        "engine = create_engine(\"sqlite+pysqlite:///:memory:\")"
      ]
    },
    {
      "cell_type": "markdown",
      "metadata": {
        "id": "iJiYiSuHSWAC"
      },
      "source": [
        "#### Convert `pd.DataFrame` to SQL tables"
      ]
    },
    {
      "cell_type": "code",
      "execution_count": 40,
      "metadata": {
        "colab": {
          "base_uri": "https://localhost:8080/"
        },
        "id": "W-96asUHSWAC",
        "outputId": "d0ac06f5-b828-4347-e6dc-46f6c9811f85"
      },
      "outputs": [
        {
          "data": {
            "text/plain": [
              "274"
            ]
          },
          "execution_count": 40,
          "metadata": {},
          "output_type": "execute_result"
        }
      ],
      "source": [
        "dune1.to_sql(\n",
        "  \"Dune (2021 film)\",\n",
        "  engine\n",
        ")"
      ]
    },
    {
      "cell_type": "code",
      "execution_count": 41,
      "metadata": {
        "colab": {
          "base_uri": "https://localhost:8080/"
        },
        "id": "ZwOi1RE1SWAC",
        "outputId": "c1517e82-1522-4d9e-cd16-bf988b4664c9"
      },
      "outputs": [
        {
          "data": {
            "text/plain": [
              "175"
            ]
          },
          "execution_count": 41,
          "metadata": {},
          "output_type": "execute_result"
        }
      ],
      "source": [
        "dune2.to_sql(\n",
        "  \"Dune: Part Two\",\n",
        "  engine\n",
        ")"
      ]
    },
    {
      "cell_type": "code",
      "execution_count": 42,
      "metadata": {
        "colab": {
          "base_uri": "https://localhost:8080/"
        },
        "id": "3R6FTIki4Q51",
        "outputId": "7d69a127-d1a3-49ae-e8b5-61a876b64d94"
      },
      "outputs": [
        {
          "data": {
            "text/plain": [
              "250"
            ]
          },
          "execution_count": 42,
          "metadata": {},
          "output_type": "execute_result"
        }
      ],
      "source": [
        "lotr_fotr.to_sql(\n",
        "  \"The Lord of the Rings: The Fellowship of the Ring\",\n",
        "  engine\n",
        ")"
      ]
    },
    {
      "cell_type": "code",
      "execution_count": 43,
      "metadata": {
        "colab": {
          "base_uri": "https://localhost:8080/"
        },
        "id": "5CiP8dwV4SFZ",
        "outputId": "1f25f185-ed2c-4e44-be04-583333c20863"
      },
      "outputs": [
        {
          "data": {
            "text/plain": [
              "149"
            ]
          },
          "execution_count": 43,
          "metadata": {},
          "output_type": "execute_result"
        }
      ],
      "source": [
        "lotr_tt.to_sql(\n",
        "  \"The Lord of the Rings: The Two Towers\",\n",
        "  engine\n",
        ")"
      ]
    },
    {
      "cell_type": "markdown",
      "metadata": {
        "id": "pibA9qT7SWAC"
      },
      "source": [
        "#### Construct a `SQLDatabase` index\n",
        "\n",
        "Source Code Here:\n",
        "- [`SQLDatabase`](https://github.com/jerryjliu/llama_index/blob/d24767b0812ac56104497d8f59095eccbe9f2b08/llama_index/langchain_helpers/sql_wrapper.py#L9)"
      ]
    },
    {
      "cell_type": "code",
      "execution_count": 44,
      "metadata": {
        "id": "yeDYpR1LSWAD"
      },
      "outputs": [],
      "source": [
        "from llama_index.core import SQLDatabase\n",
        "\n",
        "sql_database = SQLDatabase(\n",
        "    engine=engine,\n",
        "    include_tables=movie_list\n",
        ")"
      ]
    },
    {
      "cell_type": "markdown",
      "metadata": {
        "id": "-7VfZBenSWAD"
      },
      "source": [
        "#### Create the NLSQLTableQueryEngine interface for all added SQL tables\n",
        "\n",
        "Source Code Here:\n",
        "- [`NLSQLTableQueryEngine`](https://github.com/jerryjliu/llama_index/blob/d24767b0812ac56104497d8f59095eccbe9f2b08/llama_index/indices/struct_store/sql_query.py#L75C1-L75C1)"
      ]
    },
    {
      "cell_type": "code",
      "execution_count": 45,
      "metadata": {
        "id": "zQWSdMtrSWAD"
      },
      "outputs": [],
      "source": [
        "from llama_index.core.indices.struct_store.sql_query import NLSQLTableQueryEngine\n",
        "\n",
        "sql_query_engine = NLSQLTableQueryEngine(\n",
        "    sql_database=sql_database,\n",
        "    tables=movie_list,\n",
        ")"
      ]
    },
    {
      "cell_type": "markdown",
      "metadata": {
        "id": "yu8WfwuTSWAD"
      },
      "source": [
        "#### Wrap It All Up in a `QueryEngineTool`\n",
        "\n",
        "You'll want to ensure you have a descriptive...description!\n",
        "\n",
        "This is what will help the LLM decide which table to use when querying!\n",
        "\n",
        "Sorce Code Here:\n",
        "\n",
        "- [`QueryEngineTool`](https://github.com/jerryjliu/llama_index/blob/d24767b0812ac56104497d8f59095eccbe9f2b08/llama_index/tools/query_engine.py#L13)"
      ]
    },
    {
      "cell_type": "markdown",
      "metadata": {
        "id": "9sjbHnA1bQBG"
      },
      "source": [
        "####🏗️ Activity #1:\n",
        "\n",
        "Please write a Natural Language Description for the tables that we are using today.\n",
        "\n",
        "Here is an example:\n",
        "\n",
        "```\n",
        "This tool should be used to answer any and all review related inquiries by translating a natural language query into a SQL query with access to tables:\n",
        "'Dune (2021 film)' - containing info. about the first movie in the Dune series,\n",
        "'Dune: Part Two'- containing info. about about the second movie in the Dune series,\n",
        "'The Lord of the Rings: The Fellowship of the Ring' - containing info. about the first movie in the Lord of the Ring series,\n",
        "'The Lord of the Rings: The Two Towers' - containing info. the second movie in the Lord of the Ring series,\n",
        "```"
      ]
    },
    {
      "cell_type": "code",
      "execution_count": 46,
      "metadata": {
        "id": "4n567cXVVCtX"
      },
      "outputs": [],
      "source": [
        "DESCRIPTION = \"\"\"\n",
        "This tool should be used to answer any and all review related inquiries by translating a natural language query into a SQL query with access to tables:\n",
        "'Dune (2021 film)' - contains information about the first movie in the Dune series,\n",
        "'Dune: Part Two'- contains information about about the second movie in the Dune series,\n",
        "'The Lord of the Rings: The Fellowship of the Ring' - contains information about the first movie in the Lord of the Ring series,\n",
        "'The Lord of the Rings: The Two Towers' contains information about the second movie in the Lord of the Ring series,\n",
        "\"\"\""
      ]
    },
    {
      "cell_type": "code",
      "execution_count": 47,
      "metadata": {
        "id": "y-mmcBbLSWAD"
      },
      "outputs": [],
      "source": [
        "from llama_index.core.tools.query_engine import QueryEngineTool\n",
        "\n",
        "sql_tool = QueryEngineTool.from_defaults(\n",
        "    query_engine=sql_query_engine,\n",
        "    name=\"sql-query\",\n",
        "    description=DESCRIPTION,\n",
        ")"
      ]
    },
    {
      "cell_type": "code",
      "execution_count": 48,
      "metadata": {
        "id": "feOrlq4XSWAD"
      },
      "outputs": [],
      "source": [
        "agent = OpenAIAgent.from_tools(\n",
        "    tools=[sql_tool],\n",
        "    verbose=True\n",
        ")"
      ]
    },
    {
      "cell_type": "code",
      "execution_count": 49,
      "metadata": {
        "colab": {
          "base_uri": "https://localhost:8080/"
        },
        "id": "iT4G6stBSWAD",
        "outputId": "71ce1dad-d853-40a3-b223-4c84268f1042"
      },
      "outputs": [
        {
          "name": "stdout",
          "output_type": "stream",
          "text": [
            "Added user message to memory: What is the average rating of the 2nd Lord of the Rings movie?\n",
            "INFO:httpx:HTTP Request: POST https://api.openai.com/v1/chat/completions \"HTTP/1.1 200 OK\"\n",
            "HTTP Request: POST https://api.openai.com/v1/chat/completions \"HTTP/1.1 200 OK\"\n",
            "=== Calling Function ===\n",
            "Calling function: sql-query with args: {\"input\":\"average rating of 'The Lord of the Rings: The Two Towers'\"}\n",
            "INFO:llama_index.core.indices.struct_store.sql_retriever:> Table desc str: Table 'Dune (2021 film)' has columns: index (BIGINT), Unnamed: 0 (BIGINT), Review_Date (TEXT), Author (TEXT), Rating (FLOAT), Review_Title (TEXT), Review (TEXT), Review_Url (TEXT), and foreign keys: .\n",
            "\n",
            "Table 'Dune: Part Two' has columns: index (BIGINT), Unnamed: 0 (BIGINT), Review_Date (TEXT), Author (TEXT), Rating (FLOAT), Review_Title (TEXT), Review (TEXT), Review_Url (TEXT), and foreign keys: .\n",
            "\n",
            "Table 'The Lord of the Rings: The Fellowship of the Ring' has columns: index (BIGINT), Unnamed: 0 (BIGINT), Review_Date (TEXT), Author (TEXT), Rating (FLOAT), Review_Title (TEXT), Review (TEXT), Review_Url (TEXT), and foreign keys: .\n",
            "\n",
            "Table 'The Lord of the Rings: The Two Towers' has columns: index (BIGINT), Unnamed: 0 (BIGINT), Review_Date (TEXT), Author (TEXT), Rating (FLOAT), Review_Title (TEXT), Review (TEXT), Review_Url (TEXT), and foreign keys: .\n",
            "> Table desc str: Table 'Dune (2021 film)' has columns: index (BIGINT), Unnamed: 0 (BIGINT), Review_Date (TEXT), Author (TEXT), Rating (FLOAT), Review_Title (TEXT), Review (TEXT), Review_Url (TEXT), and foreign keys: .\n",
            "\n",
            "Table 'Dune: Part Two' has columns: index (BIGINT), Unnamed: 0 (BIGINT), Review_Date (TEXT), Author (TEXT), Rating (FLOAT), Review_Title (TEXT), Review (TEXT), Review_Url (TEXT), and foreign keys: .\n",
            "\n",
            "Table 'The Lord of the Rings: The Fellowship of the Ring' has columns: index (BIGINT), Unnamed: 0 (BIGINT), Review_Date (TEXT), Author (TEXT), Rating (FLOAT), Review_Title (TEXT), Review (TEXT), Review_Url (TEXT), and foreign keys: .\n",
            "\n",
            "Table 'The Lord of the Rings: The Two Towers' has columns: index (BIGINT), Unnamed: 0 (BIGINT), Review_Date (TEXT), Author (TEXT), Rating (FLOAT), Review_Title (TEXT), Review (TEXT), Review_Url (TEXT), and foreign keys: .\n",
            "INFO:httpx:HTTP Request: POST https://api.openai.com/v1/chat/completions \"HTTP/1.1 200 OK\"\n",
            "HTTP Request: POST https://api.openai.com/v1/chat/completions \"HTTP/1.1 200 OK\"\n",
            "INFO:httpx:HTTP Request: POST https://api.openai.com/v1/chat/completions \"HTTP/1.1 200 OK\"\n",
            "HTTP Request: POST https://api.openai.com/v1/chat/completions \"HTTP/1.1 200 OK\"\n",
            "Got output: The average rating of 'The Lord of the Rings: The Two Towers' is 9.18 out of 10.\n",
            "========================\n",
            "\n",
            "INFO:httpx:HTTP Request: POST https://api.openai.com/v1/chat/completions \"HTTP/1.1 200 OK\"\n",
            "HTTP Request: POST https://api.openai.com/v1/chat/completions \"HTTP/1.1 200 OK\"\n"
          ]
        },
        {
          "name": "stderr",
          "output_type": "stream",
          "text": [
            "\u001b[34m\u001b[1mwandb\u001b[0m: Logged trace tree to W&B.\n"
          ]
        }
      ],
      "source": [
        "response = agent.chat(\"What is the average rating of the 2nd Lord of the Rings movie?\")"
      ]
    },
    {
      "cell_type": "code",
      "execution_count": 50,
      "metadata": {
        "colab": {
          "base_uri": "https://localhost:8080/"
        },
        "id": "NhsoxOpkSWAD",
        "outputId": "5309b4dc-6259-42f9-d1de-9ba6cc11325b"
      },
      "outputs": [
        {
          "name": "stdout",
          "output_type": "stream",
          "text": [
            "The average rating of the 2nd Lord of the Rings movie, \"The Lord of the Rings: The Two Towers,\" is 9.18 out of 10.\n"
          ]
        }
      ],
      "source": [
        "print(str(response))"
      ]
    },
    {
      "cell_type": "code",
      "execution_count": 51,
      "metadata": {
        "colab": {
          "base_uri": "https://localhost:8080/"
        },
        "id": "7FiAS6sF7DoJ",
        "outputId": "58798450-508a-43fb-b869-d6ded1d16427"
      },
      "outputs": [
        {
          "name": "stdout",
          "output_type": "stream",
          "text": [
            "Added user message to memory: What movie series has better reviews, Lord of the Rings or Dune?\n",
            "INFO:httpx:HTTP Request: POST https://api.openai.com/v1/chat/completions \"HTTP/1.1 200 OK\"\n",
            "HTTP Request: POST https://api.openai.com/v1/chat/completions \"HTTP/1.1 200 OK\"\n",
            "=== Calling Function ===\n",
            "Calling function: sql-query with args: {\"input\": \"average rating of 'The Lord of the Rings: The Fellowship of the Ring'\"}\n",
            "INFO:llama_index.core.indices.struct_store.sql_retriever:> Table desc str: Table 'Dune (2021 film)' has columns: index (BIGINT), Unnamed: 0 (BIGINT), Review_Date (TEXT), Author (TEXT), Rating (FLOAT), Review_Title (TEXT), Review (TEXT), Review_Url (TEXT), and foreign keys: .\n",
            "\n",
            "Table 'Dune: Part Two' has columns: index (BIGINT), Unnamed: 0 (BIGINT), Review_Date (TEXT), Author (TEXT), Rating (FLOAT), Review_Title (TEXT), Review (TEXT), Review_Url (TEXT), and foreign keys: .\n",
            "\n",
            "Table 'The Lord of the Rings: The Fellowship of the Ring' has columns: index (BIGINT), Unnamed: 0 (BIGINT), Review_Date (TEXT), Author (TEXT), Rating (FLOAT), Review_Title (TEXT), Review (TEXT), Review_Url (TEXT), and foreign keys: .\n",
            "\n",
            "Table 'The Lord of the Rings: The Two Towers' has columns: index (BIGINT), Unnamed: 0 (BIGINT), Review_Date (TEXT), Author (TEXT), Rating (FLOAT), Review_Title (TEXT), Review (TEXT), Review_Url (TEXT), and foreign keys: .\n",
            "> Table desc str: Table 'Dune (2021 film)' has columns: index (BIGINT), Unnamed: 0 (BIGINT), Review_Date (TEXT), Author (TEXT), Rating (FLOAT), Review_Title (TEXT), Review (TEXT), Review_Url (TEXT), and foreign keys: .\n",
            "\n",
            "Table 'Dune: Part Two' has columns: index (BIGINT), Unnamed: 0 (BIGINT), Review_Date (TEXT), Author (TEXT), Rating (FLOAT), Review_Title (TEXT), Review (TEXT), Review_Url (TEXT), and foreign keys: .\n",
            "\n",
            "Table 'The Lord of the Rings: The Fellowship of the Ring' has columns: index (BIGINT), Unnamed: 0 (BIGINT), Review_Date (TEXT), Author (TEXT), Rating (FLOAT), Review_Title (TEXT), Review (TEXT), Review_Url (TEXT), and foreign keys: .\n",
            "\n",
            "Table 'The Lord of the Rings: The Two Towers' has columns: index (BIGINT), Unnamed: 0 (BIGINT), Review_Date (TEXT), Author (TEXT), Rating (FLOAT), Review_Title (TEXT), Review (TEXT), Review_Url (TEXT), and foreign keys: .\n",
            "INFO:httpx:HTTP Request: POST https://api.openai.com/v1/chat/completions \"HTTP/1.1 200 OK\"\n",
            "HTTP Request: POST https://api.openai.com/v1/chat/completions \"HTTP/1.1 200 OK\"\n",
            "INFO:httpx:HTTP Request: POST https://api.openai.com/v1/chat/completions \"HTTP/1.1 200 OK\"\n",
            "HTTP Request: POST https://api.openai.com/v1/chat/completions \"HTTP/1.1 200 OK\"\n",
            "Got output: The average rating of 'The Lord of the Rings: The Fellowship of the Ring' is approximately 9.87 out of 10.\n",
            "========================\n",
            "\n",
            "=== Calling Function ===\n",
            "Calling function: sql-query with args: {\"input\": \"average rating of 'Dune (2021 film)'\"}\n",
            "INFO:llama_index.core.indices.struct_store.sql_retriever:> Table desc str: Table 'Dune (2021 film)' has columns: index (BIGINT), Unnamed: 0 (BIGINT), Review_Date (TEXT), Author (TEXT), Rating (FLOAT), Review_Title (TEXT), Review (TEXT), Review_Url (TEXT), and foreign keys: .\n",
            "\n",
            "Table 'Dune: Part Two' has columns: index (BIGINT), Unnamed: 0 (BIGINT), Review_Date (TEXT), Author (TEXT), Rating (FLOAT), Review_Title (TEXT), Review (TEXT), Review_Url (TEXT), and foreign keys: .\n",
            "\n",
            "Table 'The Lord of the Rings: The Fellowship of the Ring' has columns: index (BIGINT), Unnamed: 0 (BIGINT), Review_Date (TEXT), Author (TEXT), Rating (FLOAT), Review_Title (TEXT), Review (TEXT), Review_Url (TEXT), and foreign keys: .\n",
            "\n",
            "Table 'The Lord of the Rings: The Two Towers' has columns: index (BIGINT), Unnamed: 0 (BIGINT), Review_Date (TEXT), Author (TEXT), Rating (FLOAT), Review_Title (TEXT), Review (TEXT), Review_Url (TEXT), and foreign keys: .\n",
            "> Table desc str: Table 'Dune (2021 film)' has columns: index (BIGINT), Unnamed: 0 (BIGINT), Review_Date (TEXT), Author (TEXT), Rating (FLOAT), Review_Title (TEXT), Review (TEXT), Review_Url (TEXT), and foreign keys: .\n",
            "\n",
            "Table 'Dune: Part Two' has columns: index (BIGINT), Unnamed: 0 (BIGINT), Review_Date (TEXT), Author (TEXT), Rating (FLOAT), Review_Title (TEXT), Review (TEXT), Review_Url (TEXT), and foreign keys: .\n",
            "\n",
            "Table 'The Lord of the Rings: The Fellowship of the Ring' has columns: index (BIGINT), Unnamed: 0 (BIGINT), Review_Date (TEXT), Author (TEXT), Rating (FLOAT), Review_Title (TEXT), Review (TEXT), Review_Url (TEXT), and foreign keys: .\n",
            "\n",
            "Table 'The Lord of the Rings: The Two Towers' has columns: index (BIGINT), Unnamed: 0 (BIGINT), Review_Date (TEXT), Author (TEXT), Rating (FLOAT), Review_Title (TEXT), Review (TEXT), Review_Url (TEXT), and foreign keys: .\n",
            "INFO:httpx:HTTP Request: POST https://api.openai.com/v1/chat/completions \"HTTP/1.1 200 OK\"\n",
            "HTTP Request: POST https://api.openai.com/v1/chat/completions \"HTTP/1.1 200 OK\"\n",
            "INFO:httpx:HTTP Request: POST https://api.openai.com/v1/chat/completions \"HTTP/1.1 200 OK\"\n",
            "HTTP Request: POST https://api.openai.com/v1/chat/completions \"HTTP/1.1 200 OK\"\n",
            "Got output: The average rating of 'Dune (2021 film)' is 8.34 out of 10.\n",
            "========================\n",
            "\n",
            "INFO:httpx:HTTP Request: POST https://api.openai.com/v1/chat/completions \"HTTP/1.1 200 OK\"\n",
            "HTTP Request: POST https://api.openai.com/v1/chat/completions \"HTTP/1.1 200 OK\"\n"
          ]
        },
        {
          "name": "stderr",
          "output_type": "stream",
          "text": [
            "\u001b[34m\u001b[1mwandb\u001b[0m: Logged trace tree to W&B.\n"
          ]
        }
      ],
      "source": [
        "response = agent.chat(\"What movie series has better reviews, Lord of the Rings or Dune?\")"
      ]
    },
    {
      "cell_type": "code",
      "execution_count": 52,
      "metadata": {
        "colab": {
          "base_uri": "https://localhost:8080/"
        },
        "id": "qxDA2Gjm7dDZ",
        "outputId": "277ef033-0fea-486c-be00-1f1d24bc5cbb"
      },
      "outputs": [
        {
          "name": "stdout",
          "output_type": "stream",
          "text": [
            "The Lord of the Rings series has better reviews compared to the Dune series. \n",
            "- The average rating of \"The Lord of the Rings: The Fellowship of the Ring\" is approximately 9.87 out of 10.\n",
            "- The average rating of \"Dune (2021 film)\" is 8.34 out of 10.\n"
          ]
        }
      ],
      "source": [
        "print(str(response))"
      ]
    },
    {
      "cell_type": "markdown",
      "metadata": {
        "id": "-2LOixbcSWAD"
      },
      "source": [
        "### Task 2: Combined RAG Pipeline\n",
        "\n",
        "Now, we can simply add our tools into the `OpenAIAgent`, and off we go!"
      ]
    },
    {
      "cell_type": "code",
      "execution_count": 53,
      "metadata": {
        "id": "uxFHM2l2SWAD"
      },
      "outputs": [],
      "source": [
        "combined_tool_agent = OpenAIAgent.from_tools(\n",
        "    tools=[auto_retrieve_tool, sql_tool],\n",
        "    verbose=True\n",
        ")"
      ]
    },
    {
      "cell_type": "code",
      "execution_count": 54,
      "metadata": {
        "colab": {
          "base_uri": "https://localhost:8080/"
        },
        "id": "mYVHuBf9SWAD",
        "outputId": "80bb8608-a4ea-43ca-d312-d941cb1c7ad8"
      },
      "outputs": [
        {
          "name": "stdout",
          "output_type": "stream",
          "text": [
            "Added user message to memory: Which movie is about a ring, and what is the average rating of the movie?\n",
            "INFO:httpx:HTTP Request: POST https://api.openai.com/v1/chat/completions \"HTTP/1.1 200 OK\"\n",
            "HTTP Request: POST https://api.openai.com/v1/chat/completions \"HTTP/1.1 200 OK\"\n",
            "=== Calling Function ===\n",
            "Calling function: semantic-film-info with args: {\"query\": \"movie about a ring\", \"filter_key_list\": [\"title\"], \"filter_value_list\": [\"The Lord of the Rings: The Fellowship of the Ring\"]}\n",
            "INFO:httpx:HTTP Request: POST https://api.openai.com/v1/embeddings \"HTTP/1.1 200 OK\"\n",
            "HTTP Request: POST https://api.openai.com/v1/embeddings \"HTTP/1.1 200 OK\"\n",
            "INFO:httpx:HTTP Request: POST https://api.openai.com/v1/chat/completions \"HTTP/1.1 200 OK\"\n",
            "HTTP Request: POST https://api.openai.com/v1/chat/completions \"HTTP/1.1 200 OK\"\n",
            "Got output: The Lord of the Rings: The Fellowship of the Ring\n",
            "========================\n",
            "\n",
            "=== Calling Function ===\n",
            "Calling function: sql-query with args: {\"input\": \"average rating of The Lord of the Rings: The Fellowship of the Ring\"}\n",
            "INFO:llama_index.core.indices.struct_store.sql_retriever:> Table desc str: Table 'Dune (2021 film)' has columns: index (BIGINT), Unnamed: 0 (BIGINT), Review_Date (TEXT), Author (TEXT), Rating (FLOAT), Review_Title (TEXT), Review (TEXT), Review_Url (TEXT), and foreign keys: .\n",
            "\n",
            "Table 'Dune: Part Two' has columns: index (BIGINT), Unnamed: 0 (BIGINT), Review_Date (TEXT), Author (TEXT), Rating (FLOAT), Review_Title (TEXT), Review (TEXT), Review_Url (TEXT), and foreign keys: .\n",
            "\n",
            "Table 'The Lord of the Rings: The Fellowship of the Ring' has columns: index (BIGINT), Unnamed: 0 (BIGINT), Review_Date (TEXT), Author (TEXT), Rating (FLOAT), Review_Title (TEXT), Review (TEXT), Review_Url (TEXT), and foreign keys: .\n",
            "\n",
            "Table 'The Lord of the Rings: The Two Towers' has columns: index (BIGINT), Unnamed: 0 (BIGINT), Review_Date (TEXT), Author (TEXT), Rating (FLOAT), Review_Title (TEXT), Review (TEXT), Review_Url (TEXT), and foreign keys: .\n",
            "> Table desc str: Table 'Dune (2021 film)' has columns: index (BIGINT), Unnamed: 0 (BIGINT), Review_Date (TEXT), Author (TEXT), Rating (FLOAT), Review_Title (TEXT), Review (TEXT), Review_Url (TEXT), and foreign keys: .\n",
            "\n",
            "Table 'Dune: Part Two' has columns: index (BIGINT), Unnamed: 0 (BIGINT), Review_Date (TEXT), Author (TEXT), Rating (FLOAT), Review_Title (TEXT), Review (TEXT), Review_Url (TEXT), and foreign keys: .\n",
            "\n",
            "Table 'The Lord of the Rings: The Fellowship of the Ring' has columns: index (BIGINT), Unnamed: 0 (BIGINT), Review_Date (TEXT), Author (TEXT), Rating (FLOAT), Review_Title (TEXT), Review (TEXT), Review_Url (TEXT), and foreign keys: .\n",
            "\n",
            "Table 'The Lord of the Rings: The Two Towers' has columns: index (BIGINT), Unnamed: 0 (BIGINT), Review_Date (TEXT), Author (TEXT), Rating (FLOAT), Review_Title (TEXT), Review (TEXT), Review_Url (TEXT), and foreign keys: .\n",
            "INFO:httpx:HTTP Request: POST https://api.openai.com/v1/chat/completions \"HTTP/1.1 200 OK\"\n",
            "HTTP Request: POST https://api.openai.com/v1/chat/completions \"HTTP/1.1 200 OK\"\n",
            "INFO:httpx:HTTP Request: POST https://api.openai.com/v1/chat/completions \"HTTP/1.1 200 OK\"\n",
            "HTTP Request: POST https://api.openai.com/v1/chat/completions \"HTTP/1.1 200 OK\"\n",
            "Got output: The average rating of The Lord of the Rings: The Fellowship of the Ring is approximately 9.87 out of 10.\n",
            "========================\n",
            "\n",
            "INFO:httpx:HTTP Request: POST https://api.openai.com/v1/chat/completions \"HTTP/1.1 200 OK\"\n",
            "HTTP Request: POST https://api.openai.com/v1/chat/completions \"HTTP/1.1 200 OK\"\n"
          ]
        },
        {
          "name": "stderr",
          "output_type": "stream",
          "text": [
            "\u001b[34m\u001b[1mwandb\u001b[0m: Logged trace tree to W&B.\n"
          ]
        }
      ],
      "source": [
        "response = combined_tool_agent.chat(\"Which movie is about a ring, and what is the average rating of the movie?\")"
      ]
    },
    {
      "cell_type": "code",
      "execution_count": 55,
      "metadata": {
        "colab": {
          "base_uri": "https://localhost:8080/"
        },
        "id": "k0w0VbomSWAD",
        "outputId": "da523a93-4cfd-4e28-ac5a-95f637d730dc"
      },
      "outputs": [
        {
          "name": "stdout",
          "output_type": "stream",
          "text": [
            "The movie about a ring is \"The Lord of the Rings: The Fellowship of the Ring.\" The average rating of the movie is approximately 9.87 out of 10.\n"
          ]
        }
      ],
      "source": [
        "print(str(response))"
      ]
    },
    {
      "cell_type": "code",
      "execution_count": 56,
      "metadata": {
        "colab": {
          "base_uri": "https://localhost:8080/"
        },
        "id": "BJvN-vtJSWAD",
        "outputId": "bb30f3ac-e495-48cc-c892-6f762d962c86"
      },
      "outputs": [
        {
          "name": "stdout",
          "output_type": "stream",
          "text": [
            "Added user message to memory: What worlds do the LoTR, and Dune movies take place in?\n",
            "INFO:httpx:HTTP Request: POST https://api.openai.com/v1/chat/completions \"HTTP/1.1 200 OK\"\n",
            "HTTP Request: POST https://api.openai.com/v1/chat/completions \"HTTP/1.1 200 OK\"\n",
            "=== Calling Function ===\n",
            "Calling function: semantic-film-info with args: {\"query\": \"worlds in LoTR movies\", \"filter_key_list\": [\"title\"], \"filter_value_list\": [\"The Lord of the Rings: The Fellowship of the Ring\", \"The Lord of the Rings: The Two Towers\"]}\n",
            "INFO:httpx:HTTP Request: POST https://api.openai.com/v1/embeddings \"HTTP/1.1 200 OK\"\n",
            "HTTP Request: POST https://api.openai.com/v1/embeddings \"HTTP/1.1 200 OK\"\n",
            "INFO:httpx:HTTP Request: POST https://api.openai.com/v1/chat/completions \"HTTP/1.1 200 OK\"\n",
            "HTTP Request: POST https://api.openai.com/v1/chat/completions \"HTTP/1.1 200 OK\"\n",
            "Got output: Middle-earth\n",
            "========================\n",
            "\n",
            "=== Calling Function ===\n",
            "Calling function: semantic-film-info with args: {\"query\": \"worlds in Dune movies\", \"filter_key_list\": [\"title\"], \"filter_value_list\": [\"Dune (2021 film)\", \"Dune: Part Two\"]}\n",
            "INFO:httpx:HTTP Request: POST https://api.openai.com/v1/embeddings \"HTTP/1.1 200 OK\"\n",
            "HTTP Request: POST https://api.openai.com/v1/embeddings \"HTTP/1.1 200 OK\"\n",
            "INFO:httpx:HTTP Request: POST https://api.openai.com/v1/chat/completions \"HTTP/1.1 200 OK\"\n",
            "HTTP Request: POST https://api.openai.com/v1/chat/completions \"HTTP/1.1 200 OK\"\n",
            "Got output: The Dune movies primarily focus on the worlds of Caladan, Arrakis, and Giedi Prime. These worlds play significant roles in the storyline, with Caladan being the home planet of Duke Leto Atreides, Arrakis being the desert planet central to the plot due to its spice production, and Giedi Prime being associated with the Harkonnen family.\n",
            "========================\n",
            "\n",
            "INFO:httpx:HTTP Request: POST https://api.openai.com/v1/chat/completions \"HTTP/1.1 200 OK\"\n",
            "HTTP Request: POST https://api.openai.com/v1/chat/completions \"HTTP/1.1 200 OK\"\n"
          ]
        },
        {
          "name": "stderr",
          "output_type": "stream",
          "text": [
            "\u001b[34m\u001b[1mwandb\u001b[0m: Logged trace tree to W&B.\n"
          ]
        }
      ],
      "source": [
        "response = combined_tool_agent.chat(\"What worlds do the LoTR, and Dune movies take place in?\")"
      ]
    },
    {
      "cell_type": "code",
      "execution_count": 57,
      "metadata": {
        "colab": {
          "base_uri": "https://localhost:8080/"
        },
        "id": "F74wGv6NSWAD",
        "outputId": "05b9020b-9e8f-41a5-b1ee-602b6668691a"
      },
      "outputs": [
        {
          "name": "stdout",
          "output_type": "stream",
          "text": [
            "The \"Lord of the Rings\" movies take place in the world of Middle-earth.\n",
            "\n",
            "The \"Dune\" movies primarily focus on the worlds of Caladan, Arrakis, and Giedi Prime. Caladan is the home planet of Duke Leto Atreides, Arrakis is the desert planet central to the plot due to its spice production, and Giedi Prime is associated with the Harkonnen family.\n"
          ]
        }
      ],
      "source": [
        "print(str(response))"
      ]
    },
    {
      "cell_type": "code",
      "execution_count": 58,
      "metadata": {
        "colab": {
          "base_uri": "https://localhost:8080/"
        },
        "id": "Lvat4hmkvn3N",
        "outputId": "dd4f7f35-5f8e-4b9b-ac71-cdf73fdb6845"
      },
      "outputs": [
        {
          "name": "stdout",
          "output_type": "stream",
          "text": [
            "Added user message to memory: Which of the following movie series is considered the 'best': Dune, or Lord of the Rings? Base your answer on both reviews, and non-review information.\n",
            "INFO:httpx:HTTP Request: POST https://api.openai.com/v1/chat/completions \"HTTP/1.1 200 OK\"\n",
            "HTTP Request: POST https://api.openai.com/v1/chat/completions \"HTTP/1.1 200 OK\"\n",
            "=== Calling Function ===\n",
            "Calling function: sql-query with args: {\"input\": \"best movie series between Dune and Lord of the Rings\"}\n",
            "INFO:llama_index.core.indices.struct_store.sql_retriever:> Table desc str: Table 'Dune (2021 film)' has columns: index (BIGINT), Unnamed: 0 (BIGINT), Review_Date (TEXT), Author (TEXT), Rating (FLOAT), Review_Title (TEXT), Review (TEXT), Review_Url (TEXT), and foreign keys: .\n",
            "\n",
            "Table 'Dune: Part Two' has columns: index (BIGINT), Unnamed: 0 (BIGINT), Review_Date (TEXT), Author (TEXT), Rating (FLOAT), Review_Title (TEXT), Review (TEXT), Review_Url (TEXT), and foreign keys: .\n",
            "\n",
            "Table 'The Lord of the Rings: The Fellowship of the Ring' has columns: index (BIGINT), Unnamed: 0 (BIGINT), Review_Date (TEXT), Author (TEXT), Rating (FLOAT), Review_Title (TEXT), Review (TEXT), Review_Url (TEXT), and foreign keys: .\n",
            "\n",
            "Table 'The Lord of the Rings: The Two Towers' has columns: index (BIGINT), Unnamed: 0 (BIGINT), Review_Date (TEXT), Author (TEXT), Rating (FLOAT), Review_Title (TEXT), Review (TEXT), Review_Url (TEXT), and foreign keys: .\n",
            "> Table desc str: Table 'Dune (2021 film)' has columns: index (BIGINT), Unnamed: 0 (BIGINT), Review_Date (TEXT), Author (TEXT), Rating (FLOAT), Review_Title (TEXT), Review (TEXT), Review_Url (TEXT), and foreign keys: .\n",
            "\n",
            "Table 'Dune: Part Two' has columns: index (BIGINT), Unnamed: 0 (BIGINT), Review_Date (TEXT), Author (TEXT), Rating (FLOAT), Review_Title (TEXT), Review (TEXT), Review_Url (TEXT), and foreign keys: .\n",
            "\n",
            "Table 'The Lord of the Rings: The Fellowship of the Ring' has columns: index (BIGINT), Unnamed: 0 (BIGINT), Review_Date (TEXT), Author (TEXT), Rating (FLOAT), Review_Title (TEXT), Review (TEXT), Review_Url (TEXT), and foreign keys: .\n",
            "\n",
            "Table 'The Lord of the Rings: The Two Towers' has columns: index (BIGINT), Unnamed: 0 (BIGINT), Review_Date (TEXT), Author (TEXT), Rating (FLOAT), Review_Title (TEXT), Review (TEXT), Review_Url (TEXT), and foreign keys: .\n",
            "INFO:httpx:HTTP Request: POST https://api.openai.com/v1/chat/completions \"HTTP/1.1 200 OK\"\n",
            "HTTP Request: POST https://api.openai.com/v1/chat/completions \"HTTP/1.1 200 OK\"\n",
            "INFO:httpx:HTTP Request: POST https://api.openai.com/v1/chat/completions \"HTTP/1.1 200 OK\"\n",
            "HTTP Request: POST https://api.openai.com/v1/chat/completions \"HTTP/1.1 200 OK\"\n",
            "INFO:httpx:HTTP Request: POST https://api.openai.com/v1/chat/completions \"HTTP/1.1 200 OK\"\n",
            "HTTP Request: POST https://api.openai.com/v1/chat/completions \"HTTP/1.1 200 OK\"\n",
            "INFO:httpx:HTTP Request: POST https://api.openai.com/v1/chat/completions \"HTTP/1.1 200 OK\"\n",
            "HTTP Request: POST https://api.openai.com/v1/chat/completions \"HTTP/1.1 200 OK\"\n",
            "INFO:httpx:HTTP Request: POST https://api.openai.com/v1/chat/completions \"HTTP/1.1 200 OK\"\n",
            "HTTP Request: POST https://api.openai.com/v1/chat/completions \"HTTP/1.1 200 OK\"\n",
            "INFO:httpx:HTTP Request: POST https://api.openai.com/v1/chat/completions \"HTTP/1.1 200 OK\"\n",
            "HTTP Request: POST https://api.openai.com/v1/chat/completions \"HTTP/1.1 200 OK\"\n",
            "INFO:httpx:HTTP Request: POST https://api.openai.com/v1/chat/completions \"HTTP/1.1 200 OK\"\n",
            "HTTP Request: POST https://api.openai.com/v1/chat/completions \"HTTP/1.1 200 OK\"\n",
            "INFO:httpx:HTTP Request: POST https://api.openai.com/v1/chat/completions \"HTTP/1.1 200 OK\"\n",
            "HTTP Request: POST https://api.openai.com/v1/chat/completions \"HTTP/1.1 200 OK\"\n",
            "Got output: Both the Dune movie series and the Lord of the Rings movie series have been hailed as some of the finest film trilogies of all time. While Dune is praised for its modern sci-fi masterpiece status and anticipation for the next installment, the Lord of the Rings series is celebrated as a timeless fantasy epic that set the standard for the genre. The Lord of the Rings series has been described as a glorious vision of Middle Earth, with breathtaking visuals and immersive storytelling that brings Tolkien's imaginary world to life. On the other hand, Dune has been commended for its epic scope and world-building, creating an immersive new world for audiences to explore. Both series have their own unique strengths and appeal to audiences, making them among the best in their respective categories. Additionally, the Lord of the Rings series has been praised for its attention to detail and world-building, while Dune has been noted for its complex themes and political intrigue. Ultimately, both series offer a rich and immersive viewing experience that captivates audiences in different ways.\n",
            "========================\n",
            "\n",
            "=== Calling Function ===\n",
            "Calling function: semantic-film-info with args: {\"query\": \"best movie series between Dune and Lord of the Rings\", \"filter_key_list\": [], \"filter_value_list\": []}\n",
            "INFO:httpx:HTTP Request: POST https://api.openai.com/v1/embeddings \"HTTP/1.1 200 OK\"\n",
            "HTTP Request: POST https://api.openai.com/v1/embeddings \"HTTP/1.1 200 OK\"\n",
            "INFO:httpx:HTTP Request: POST https://api.openai.com/v1/chat/completions \"HTTP/1.1 200 OK\"\n",
            "HTTP Request: POST https://api.openai.com/v1/chat/completions \"HTTP/1.1 200 OK\"\n",
            "Got output: Dune and Lord of the Rings are both highly acclaimed movie series.\n",
            "========================\n",
            "\n",
            "INFO:httpx:HTTP Request: POST https://api.openai.com/v1/chat/completions \"HTTP/1.1 200 OK\"\n",
            "HTTP Request: POST https://api.openai.com/v1/chat/completions \"HTTP/1.1 200 OK\"\n"
          ]
        },
        {
          "name": "stderr",
          "output_type": "stream",
          "text": [
            "\u001b[34m\u001b[1mwandb\u001b[0m: Logged trace tree to W&B.\n"
          ]
        }
      ],
      "source": [
        "response = combined_tool_agent.chat(\"Which of the following movie series is considered the 'best': Dune, or Lord of the Rings? Base your answer on both reviews, and non-review information.\")"
      ]
    },
    {
      "cell_type": "code",
      "execution_count": 59,
      "metadata": {
        "colab": {
          "base_uri": "https://localhost:8080/"
        },
        "id": "BEOpeuAovtZM",
        "outputId": "441769b0-ead5-4eda-efa1-dd81d18e8534"
      },
      "outputs": [
        {
          "name": "stdout",
          "output_type": "stream",
          "text": [
            "Both the Dune movie series and the Lord of the Rings movie series are considered among the best film trilogies of all time. Here are some key points highlighting the strengths of each series:\n",
            "\n",
            "- **Dune Series**: \n",
            "  - Praised for its modern sci-fi masterpiece status and anticipation for the next installment.\n",
            "  - Commended for its epic scope and world-building, creating an immersive new world for audiences to explore.\n",
            "  - Noted for its complex themes and political intrigue.\n",
            "\n",
            "- **Lord of the Rings Series**:\n",
            "  - Celebrated as a timeless fantasy epic that set the standard for the genre.\n",
            "  - Glorious vision of Middle Earth with breathtaking visuals and immersive storytelling that brings Tolkien's imaginary world to life.\n",
            "  - Attention to detail and world-building.\n",
            "\n",
            "Both series offer rich and immersive viewing experiences that captivate audiences in different ways. Ultimately, both Dune and Lord of the Rings are highly acclaimed movie series, each with its own unique strengths and appeal.\n"
          ]
        }
      ],
      "source": [
        "print(str(response))"
      ]
    },
    {
      "cell_type": "markdown",
      "metadata": {
        "id": "e1qaiDJYb1_v"
      },
      "source": [
        "####❓ Question #4:\n",
        "\n",
        "How can you verify which tool was used for which query?\n",
        "\n",
        "\n",
        "#### ANSWER: Go into the logs and search for === Calling Function ==="
      ]
    },
    {
      "cell_type": "code",
      "execution_count": 60,
      "metadata": {
        "id": "D3ELqzOvSWAD"
      },
      "outputs": [],
      "source": [
        "wandb_callback.finish()"
      ]
    }
  ],
  "metadata": {
    "colab": {
      "provenance": []
    },
    "kernelspec": {
      "display_name": "Python 3",
      "language": "python",
      "name": "python3"
    },
    "language_info": {
      "codemirror_mode": {
        "name": "ipython",
        "version": 3
      },
      "file_extension": ".py",
      "mimetype": "text/x-python",
      "name": "python",
      "nbconvert_exporter": "python",
      "pygments_lexer": "ipython3",
      "version": "3.10.14"
    },
    "orig_nbformat": 4
  },
  "nbformat": 4,
  "nbformat_minor": 0
}
