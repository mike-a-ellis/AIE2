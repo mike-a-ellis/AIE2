{
 "cells": [
  {
   "cell_type": "markdown",
   "metadata": {},
   "source": [
    "# Your First RAG Application\n",
    "\n",
    "In this notebook, we'll walk you through each of the components that are involved in a simple RAG application. \n",
    "\n",
    "We won't be leveraging any fancy tools, just the OpenAI Python SDK, Numpy, and some classic Python.\n",
    "\n",
    "> NOTE: This was done with Python 3.11.4."
   ]
  },
  {
   "cell_type": "markdown",
   "metadata": {},
   "source": [
    "## Table of Contents:\n",
    "\n",
    "- Task 1: Imports and Utilities\n",
    "- Task 2: Documents\n",
    "- Task 3: Embeddings and Vectors\n",
    "- Task 4: Prompts\n",
    "- Task 5: Retrieval Augmented Generation\n",
    "- Task 6: Visibility Tooling\n",
    "- Task 7: RAG Evaluation Using GPT-4"
   ]
  },
  {
   "cell_type": "markdown",
   "metadata": {},
   "source": [
    "Let's look at a rather complicated looking visual representation of a basic RAG application.\n",
    "\n",
    "<img src=\"https://i.imgur.com/PvlaIUO.png\" />"
   ]
  },
  {
   "cell_type": "markdown",
   "metadata": {},
   "source": [
    "## Task 1: Imports and Utility \n",
    "\n",
    "We're just doing some imports and enabling `async` to work within the Jupyter environment here, nothing too crazy!"
   ]
  },
  {
   "cell_type": "code",
   "execution_count": 1,
   "metadata": {},
   "outputs": [],
   "source": [
    "%load_ext autoreload\n",
    "%autoreload 2\n",
    "\n",
    "!pip install -q -U numpy matplotlib plotly pandas scipy scikit-learn openai python-dotenv"
   ]
  },
  {
   "cell_type": "code",
   "execution_count": 3,
   "metadata": {},
   "outputs": [
    {
     "name": "stdout",
     "output_type": "stream",
     "text": [
      "Requirement already satisfied: PyPDF2 in /home/bull/anaconda3/envs/w2d1/lib/python3.11/site-packages (3.0.1)\n"
     ]
    }
   ],
   "source": [
    "!pip install PyPDF2"
   ]
  },
  {
   "cell_type": "code",
   "execution_count": 6,
   "metadata": {},
   "outputs": [],
   "source": [
    "from aimakerspace.text_utils import TextFileLoader, CharacterTextSplitter, PDFFileLoader\n",
    "from aimakerspace.vectordatabase import VectorDatabase\n",
    "import asyncio"
   ]
  },
  {
   "cell_type": "code",
   "execution_count": 5,
   "metadata": {},
   "outputs": [],
   "source": [
    "import nest_asyncio\n",
    "nest_asyncio.apply()"
   ]
  },
  {
   "cell_type": "markdown",
   "metadata": {},
   "source": [
    "## Task 2: Documents\n",
    "\n",
    "We'll be concerning ourselves with this part of the flow in the following section:\n",
    "\n",
    "<img src=\"https://i.imgur.com/jTm9gjk.png\" />"
   ]
  },
  {
   "cell_type": "markdown",
   "metadata": {},
   "source": [
    "### Loading Source Documents\n",
    "\n",
    "So, first things first, we need some documents to work with. \n",
    "\n",
    "While we could work directly with the `.txt` files (or whatever file-types you wanted to extend this to) we can instead do some batch processing of those documents at the beginning in order to store them in a more machine compatible format. \n",
    "\n",
    "In this case, we're going to parse our text file into a single document in memory.\n",
    "\n",
    "Let's look at the relevant bits of the `TextFileLoader` class:\n",
    "\n",
    "```python\n",
    "def load_file(self):\n",
    "        with open(self.path, \"r\", encoding=self.encoding) as f:\n",
    "            self.documents.append(f.read())\n",
    "```\n",
    "\n",
    "We're simply loading the document using the built in `open` method, and storing that output in our `self.documents` list.\n"
   ]
  },
  {
   "cell_type": "code",
   "execution_count": 9,
   "metadata": {},
   "outputs": [],
   "source": [
    "#text_loader = TextFileLoader(\"data/KingLear.txt\")\n",
    "#documents = text_loader.load_documents()\n",
    "\n",
    "#use our new pdf loader\n",
    "pdf_loader = PDFFileLoader(\"data/king-lear_PDF_FolgerShakespeare.pdf\")\n",
    "documents = pdf_loader.load_documents()\n"
   ]
  },
  {
   "cell_type": "code",
   "execution_count": 10,
   "metadata": {},
   "outputs": [
    {
     "name": "stdout",
     "output_type": "stream",
     "text": [
      "Get even m\n",
      "204681\n"
     ]
    }
   ],
   "source": [
    "print(documents[0][:10])\n",
    "print(len(documents[0]))"
   ]
  },
  {
   "cell_type": "markdown",
   "metadata": {},
   "source": [
    "### Splitting Text Into Chunks\n",
    "\n",
    "As we can see, there is one document - and it's the entire text of Frakenstein\n",
    "\n",
    "We'll want to chunk the document into smaller parts so it's easier to pass the most relevant snippets to the LLM. \n",
    "\n",
    "There is no fixed way to split/chunk documents - and you'll need to rely on some intuition as well as knowing your data *very* well in order to build the most robust system.\n",
    "\n",
    "For this toy example, we'll just split blindly on length. \n",
    "\n",
    ">There's an opportunity to clear up some terminology here, for this course we will be stick to the following: \n",
    ">\n",
    ">- \"source documents\" : The `.txt`, `.pdf`, `.html`, ..., files that make up the files and information we start with in its raw format\n",
    ">- \"document(s)\" : single (or more) text object(s)\n",
    ">- \"corpus\" : the combination of all of our documents"
   ]
  },
  {
   "cell_type": "markdown",
   "metadata": {},
   "source": [
    "Let's take a peek visually at what we're doing here - and why it might be useful:\n",
    "\n",
    "<img src=\"https://i.imgur.com/rtM6Ci6.png\" />"
   ]
  },
  {
   "cell_type": "markdown",
   "metadata": {},
   "source": [
    "As you can see (though it's not specifically true in this toy example) the idea of splitting documents is to break them into managable sized chunks that retain the most relevant local context."
   ]
  },
  {
   "cell_type": "code",
   "execution_count": 12,
   "metadata": {},
   "outputs": [
    {
     "data": {
      "text/plain": [
       "256"
      ]
     },
     "execution_count": 12,
     "metadata": {},
     "output_type": "execute_result"
    }
   ],
   "source": [
    "text_splitter = CharacterTextSplitter()\n",
    "split_documents = text_splitter.split_texts(documents)\n",
    "len(split_documents)"
   ]
  },
  {
   "cell_type": "markdown",
   "metadata": {},
   "source": [
    "Let's take a look at some of the documents we've managed to split."
   ]
  },
  {
   "cell_type": "code",
   "execution_count": 14,
   "metadata": {},
   "outputs": [
    {
     "data": {
      "text/plain": [
       "['Get even mor e from the Folger\\nYou can get your own copy of this text to keep. Purchase a full copy\\nto get the text, plus explanatory notes, illustrations, and more.\\n Buy a copyFolger Shakespeare Library\\nhttps://shakespeare.folger.edu/\\nFront\\nMatterFrom the Director of the Folger Shakespeare\\nLibrary\\nTextual Introduction\\nSynopsis\\nCharacters in the Play\\nACT 1Scene 1\\nScene 2\\nScene 3\\nScene 4\\nScene 5\\nACT 2Scene 1\\nScene 2\\nScene 3\\nScene 4\\nACT 3Scene 1\\nScene 2\\nScene 3\\nScene 4\\nScene 5\\nScene 6\\nScene 7\\nACT 4Scene 1\\nScene 2\\nScene 3\\nScene 4\\nScene 5\\nScene 6\\nScene 7\\nACT 5Scene 1\\nScene 2\\nScene 3Contents\\nMichael Witmore\\nDirector, Folger Shakespeare LibraryIt is hard to imagine a world without Shakespeare. Since their\\ncomposition four hundred years ago, Shakespeare’s plays and poems\\nhave traveled the globe, inviting those who see and read his works to\\nmake them their own.\\nReaders of the New Folger Editions are part of this ongoing process\\nof “taking up Shakespeare,” finding our own thoughts and feelings\\n']"
      ]
     },
     "execution_count": 14,
     "metadata": {},
     "output_type": "execute_result"
    }
   ],
   "source": [
    "# split_documents[0:1]\n",
    "split_documents[0:1]"
   ]
  },
  {
   "cell_type": "markdown",
   "metadata": {},
   "source": [
    "## Task 3: Embeddings and Vectors\n",
    "\n",
    "Next, we have to convert our corpus into a \"machine readable\" format. \n",
    "\n",
    "Loosely, this means turning the text into numbers. \n",
    "\n",
    "There are plenty of resources that talk about this process in great detail - I'll leave this [blog](https://txt.cohere.com/sentence-word-embeddings/) from Cohere.AI as a resource if you want to deep dive a bit. \n",
    "\n",
    "Today, we're going to talk about the actual process of creating, and then storing, these embeddings, and how we can leverage that to intelligently add context to our queries."
   ]
  },
  {
   "cell_type": "markdown",
   "metadata": {},
   "source": [
    "While this is all baked into 1 call - let's look at some of the code that powers this process:\n",
    "\n",
    "Let's look at our `VectorDatabase().__init__()`:\n",
    "\n",
    "```python\n",
    "def __init__(self, embedding_model: EmbeddingModel = None):\n",
    "        self.vectors = defaultdict(np.array)\n",
    "        self.embedding_model = embedding_model or EmbeddingModel()\n",
    "```\n",
    "\n",
    "As you can see - our vectors are merely stored as a dictionary of `np.array` objects.\n",
    "\n",
    "Secondly, our `VectorDatabase()` has a default `EmbeddingModel()` which is a wrapper for OpenAI's `text-embedding-3-small` model. \n",
    "\n",
    "> **Quick Info About `text-embedding-3-small`**:\n",
    "> - It has a context window of **8191** tokens\n",
    "> - It returns vectors with dimension **1536**"
   ]
  },
  {
   "cell_type": "markdown",
   "metadata": {},
   "source": [
    "#### ❓QUESTION:\n",
    "\n",
    "Though 1536 is the default dimension of `text-embedding-3-small`, you can pass a dimension parameter and shorten the vector - what method does OpenAI use to achieve this shortening?\n",
    "\n",
    "#### ANSWER:\n",
    "\n",
    "OpenAI uses principal component analysis to reduce the number of dimensions.  PCA takes a number of vectors or features and reduces the dimensionality to the specified dimension parameter while preserving as much of the variance (information) as possible.  It uses a bunch of math to do this :D and is a well known concept from pre-LLM machine learning.\n",
    "\n",
    "There is a chart at this link : https://openai.com/blog/new-embedding-models-and-api-updates\n",
    "\n",
    "that shows by reducing the dimensions from 1536 to 512 we lose less than 1% on the average MTEB score.  62.3% to 61.6%.  One would think it would be much more!\n"
   ]
  },
  {
   "cell_type": "code",
   "execution_count": 11,
   "metadata": {},
   "outputs": [],
   "source": [
    "import os\n",
    "import openai\n",
    "from getpass import getpass\n",
    "\n",
    "openai.api_key = getpass(\"OpenAI API Key: \")\n",
    "os.environ[\"OPENAI_API_KEY\"] = openai.api_key"
   ]
  },
  {
   "cell_type": "markdown",
   "metadata": {},
   "source": [
    "We can call the `async_get_embeddings` method of our `EmbeddingModel()` on a list of `str` and receive a list of `float` back!\n",
    "\n",
    "```python\n",
    "async def async_get_embeddings(self, list_of_text: List[str]) -> List[List[float]]:\n",
    "        return await aget_embeddings(\n",
    "            list_of_text=list_of_text, engine=self.embeddings_model_name\n",
    "        )\n",
    "```"
   ]
  },
  {
   "cell_type": "markdown",
   "metadata": {},
   "source": [
    "We cast those to `np.array` when we build our `VectorDatabase()`:\n",
    "\n",
    "```python\n",
    "async def abuild_from_list(self, list_of_text: List[str]) -> \"VectorDatabase\":\n",
    "        embeddings = await self.embedding_model.async_get_embeddings(list_of_text)\n",
    "        for text, embedding in zip(list_of_text, embeddings):\n",
    "            self.insert(text, np.array(embedding))\n",
    "        return self\n",
    "```\n",
    "\n",
    "And that's all we need to do!"
   ]
  },
  {
   "cell_type": "code",
   "execution_count": 15,
   "metadata": {},
   "outputs": [
    {
     "name": "stdout",
     "output_type": "stream",
     "text": [
      "Async version took 1.6505680084228516 seconds\n"
     ]
    }
   ],
   "source": [
    "import time\n",
    "\n",
    "vector_db = VectorDatabase()\n",
    "astart_time = time.time()\n",
    "vector_db = asyncio.run(vector_db.abuild_from_list(split_documents))\n",
    "aend_time = time.time()\n",
    "aduration = aend_time - astart_time\n",
    "print(f\"Async version took {aduration} seconds\")"
   ]
  },
  {
   "cell_type": "code",
   "execution_count": 12,
   "metadata": {},
   "outputs": [
    {
     "name": "stdout",
     "output_type": "stream",
     "text": [
      "Normal version took 1.2558674812316895 seconds\n"
     ]
    }
   ],
   "source": [
    "vector_db = VectorDatabase()\n",
    "start_time = time.time()\n",
    "vector_db = vector_db.build_from_list(split_documents)\n",
    "end_time = time.time()\n",
    "duration = end_time - start_time\n",
    "print(f\"Normal version took {duration} seconds\")"
   ]
  },
  {
   "cell_type": "markdown",
   "metadata": {},
   "source": [
    "#### ❓QUESTION:\n",
    "\n",
    "What advantage does an async implementation provide for us?\n",
    "\n",
    "#### ANSWER:\n",
    "\n",
    "The advantage is other parts of our program can continue running while the async code completes.  The classic example, in the context of a thick application, is you want your long running processing code on a different thread than your GUI code, so your program does not freeze while you wait for processing.\n",
    "\n",
    "Network operations like above can take a few seconds or longer to complete and we don't want our program to lock up while it is running.  The Async library gives us a conveniant way of implementing this behavior.\n",
    "\n",
    "Initially I thought it was sending each element of our string array seperately to OpenAI for processing, but after I implemented a synchronous version of the code and saw it took the same amount of time, I dug deeper into the code and saw it sends over the entire list at once.\n"
   ]
  },
  {
   "cell_type": "markdown",
   "metadata": {},
   "source": [
    "So, to review what we've done so far in natural language:\n",
    "\n",
    "1. We load source documents\n",
    "2. We split those source documents into smaller chunks (documents)\n",
    "3. We send each of those documents to the `text-embedding-3-small` OpenAI API endpoint\n",
    "4. We store each of the text representations with the vector representations as keys/values in a dictionary"
   ]
  },
  {
   "cell_type": "markdown",
   "metadata": {},
   "source": [
    "### Semantic Similarity\n",
    "\n",
    "The next step is to be able to query our `VectorDatabase()` with a `str` and have it return to us vectors and text that is most relevant from our corpus. \n",
    "\n",
    "We're going to use the following process to achieve this in our toy example:\n",
    "\n",
    "1. We need to embed our query with the same `EmbeddingModel()` as we used to construct our `VectorDatabase()`\n",
    "2. We loop through every vector in our `VectorDatabase()` and use a distance measure to compare how related they are\n",
    "3. We return a list of the top `k` closest vectors, with their text representations\n",
    "\n",
    "There's some very heavy optimization that can be done at each of these steps - but let's just focus on the basic pattern in this notebook.\n",
    "\n",
    "> We are using [cosine similarity](https://www.engati.com/glossary/cosine-similarity) as a distance metric in this example - but there are many many distance metrics you could use - like [these](https://flavien-vidal.medium.com/similarity-distances-for-natural-language-processing-16f63cd5ba55)\n",
    "\n",
    "> We are using a rather inefficient way of calculating relative distance between the query vector and all other vectors - there are more advanced approaches that are much more efficient, like [ANN](https://towardsdatascience.com/comprehensive-guide-to-approximate-nearest-neighbors-algorithms-8b94f057d6b6)"
   ]
  },
  {
   "cell_type": "code",
   "execution_count": 16,
   "metadata": {},
   "outputs": [
    {
     "data": {
      "text/plain": [
       "[('s your servant Caius?\\n \\n He’s a good fellow, I can tell you that.\\n He’ll strike and quickly too. He’s dead and rotten.\\n \\n No, my good lord, I am the very man—FTLN 3568\\nFTLN 3569\\nFTLN 3570 320\\nFTLN 3571\\nFTLN 3572\\nFTLN 3573\\nFTLN 3574\\nFTLN 3575 325\\nFTLN 3576\\nFTLN 3577\\nFTLN 3578\\nFTLN 3579\\nFTLN 3580 330\\nFTLN 3581\\nFTLN 3582\\nFTLN 3583\\nFTLN 3584\\nFTLN 3585 335\\nFTLN 3586\\nFTLN 3587\\nFTLN 3588\\nFTLN 3589\\nFTLN 3590 340\\nFTLN 3591\\nFTLN 3592\\nFTLN 3593\\nFTLN 3594\\nFTLN 3595 345\\n259 King LearACT 5. SC. 3\\nLEAR\\nKENT\\nLEAR\\nKENT\\nLEAR\\nALBANY\\nEDGAR\\nMESSENGER\\nALBANY\\nLEAR\\nHe dies.  I’ll see that straight.\\n \\n That from your first of difference and decay\\n Have followed your sad steps.\\n   You are welcome\\n hither.\\n \\n Nor no man else. All’s cheerless, dark, and deadly.\\n Your eldest daughters have fordone themselves,\\n And desperately are dead.\\n   Ay, so I think.\\n \\n He knows not what he says, and vain is it\\n That we present us to him.\\n   Very bootless.\\nEnter a Messenger.\\n  Edmund is dead, my lord.\\n  That’s but a trifle her',\n",
       "  0.5323621272221531),\n",
       " (' sorrows\\n That ever I have felt.\\n   O, my good master—\\n \\n Prithee, away.\\n   ’Tis noble Kent, your friend.\\n \\n A plague upon you, murderers, traitors all!\\n I might have saved her. Now she’s gone forever.—\\n Cordelia, Cordelia, stay a little. Ha!\\n What is ’t thou sayst?—Her voice was ever soft,\\n Gentle, and low, an excellent thing in woman.\\n I killed the slave that was a-hanging thee.\\n \\n ’Tis true, my lords, he did.\\n   Did I not, fellow?\\n I have seen the day, with my good biting falchion\\n I would have made him skip. I am old now,\\n And these same crosses spoil me.  To Kent. Who\\n are you?\\n Mine eyes are not o’ th’ best. I’ll tell you straight.\\n \\n If Fortune brag of two she loved and hated,\\n One of them we behold.\\n \\n This is a dull sight. Are you not Kent?\\n   The same,\\n Your servant Kent. Where is your servant Caius?\\n \\n He’s a good fellow, I can tell you that.\\n He’ll strike and quickly too. He’s dead and rotten.\\n \\n No, my good lord, I am the very man—FTLN 3568\\nFTLN 3569\\nFTLN 3570 320\\nFTLN 357',\n",
       "  0.5163035312906925),\n",
       " ('For which I razed my likeness. Now, banished Kent,\\n If thou canst serve where thou dost stand\\n condemned,\\n So may it come thy master, whom thou lov’st,\\n Shall find thee full of labors.\\nHorns within. Enter Lear, Knights, and Attendants.\\n  Let me not stay a jot for dinner. Go get it ready.\\n How now, what art thou?\\n  A man, sir.\\n  What dost thou profess? What wouldst thou with\\n us?\\n  I do profess to be no less than I seem, to serve\\n him truly that will put me in trust, to love him that\\n is honest, to converse with him that is wise and says\\n little, to fear judgment, to fight when I cannot\\n choose, and to eat no fish.\\n  What art thou?\\n  A very honest-hearted fellow, and as poor as the\\n King.\\n  If thou be’st as poor for a subject as he’s for a\\n king, thou art poor enough. What wouldst thou?\\n  Service.\\n  Who wouldst thou serve?\\n  You.\\n  Dost thou know me, fellow?\\n  No, sir, but you have that in your countenance\\n which I would fain call master.Scene 4\\nFTLN 0577\\nFTLN 0578\\nFTLN 0579\\nFTLN 0580\\nF',\n",
       "  0.4325472216292061)]"
      ]
     },
     "execution_count": 16,
     "metadata": {},
     "output_type": "execute_result"
    }
   ],
   "source": [
    "vector_db.search_by_text(\"Your servant Kent. Where is your servant Caius?\", k=3)"
   ]
  },
  {
   "cell_type": "markdown",
   "metadata": {},
   "source": [
    "## Task 4: Prompts\n",
    "\n",
    "In the following section, we'll be looking at the role of prompts - and how they help us to guide our application in the right direction.\n",
    "\n",
    "In this notebook, we're going to rely on the idea of \"zero-shot in-context learning\".\n",
    "\n",
    "This is a lot of words to say: \"We will ask it to perform our desired task in the prompt, and provide no examples.\""
   ]
  },
  {
   "cell_type": "markdown",
   "metadata": {},
   "source": [
    "### XYZRolePrompt\n",
    "\n",
    "Before we do that, let's stop and think a bit about how OpenAI's chat models work. \n",
    "\n",
    "We know they have roles - as is indicated in the following API [documentation](https://platform.openai.com/docs/api-reference/chat/create#chat/create-messages)\n",
    "\n",
    "There are three roles, and they function as follows (taken directly from [OpenAI](https://platform.openai.com/docs/guides/gpt/chat-completions-api)): \n",
    "\n",
    "- `{\"role\" : \"system\"}` : The system message helps set the behavior of the assistant. For example, you can modify the personality of the assistant or provide specific instructions about how it should behave throughout the conversation. However note that the system message is optional and the model’s behavior without a system message is likely to be similar to using a generic message such as \"You are a helpful assistant.\"\n",
    "- `{\"role\" : \"user\"}` : The user messages provide requests or comments for the assistant to respond to.\n",
    "- `{\"role\" : \"assistant\"}` : Assistant messages store previous assistant responses, but can also be written by you to give examples of desired behavior.\n",
    "\n",
    "The main idea is this: \n",
    "\n",
    "1. You start with a system message that outlines how the LLM should respond, what kind of behaviours you can expect from it, and more\n",
    "2. Then, you can provide a few examples in the form of \"assistant\"/\"user\" pairs\n",
    "3. Then, you prompt the model with the true \"user\" message.\n",
    "\n",
    "In this example, we'll be forgoing the 2nd step for simplicities sake."
   ]
  },
  {
   "cell_type": "markdown",
   "metadata": {},
   "source": [
    "#### Utility Functions\n",
    "\n",
    "You'll notice that we're using some utility functions from the `aimakerspace` module - let's take a peek at these and see what they're doing!"
   ]
  },
  {
   "cell_type": "markdown",
   "metadata": {},
   "source": [
    "##### XYZRolePrompt"
   ]
  },
  {
   "cell_type": "markdown",
   "metadata": {},
   "source": [
    "Here we have our `system`, `user`, and `assistant` role prompts. \n",
    "\n",
    "Let's take a peek at what they look like:\n",
    "\n",
    "```python\n",
    "class BasePrompt:\n",
    "    def __init__(self, prompt):\n",
    "        \"\"\"\n",
    "        Initializes the BasePrompt object with a prompt template.\n",
    "\n",
    "        :param prompt: A string that can contain placeholders within curly braces\n",
    "        \"\"\"\n",
    "        self.prompt = prompt\n",
    "        self._pattern = re.compile(r\"\\{([^}]+)\\}\")\n",
    "\n",
    "    def format_prompt(self, **kwargs):\n",
    "        \"\"\"\n",
    "        Formats the prompt string using the keyword arguments provided.\n",
    "\n",
    "        :param kwargs: The values to substitute into the prompt string\n",
    "        :return: The formatted prompt string\n",
    "        \"\"\"\n",
    "        matches = self._pattern.findall(self.prompt)\n",
    "        return self.prompt.format(**{match: kwargs.get(match, \"\") for match in matches})\n",
    "\n",
    "    def get_input_variables(self):\n",
    "        \"\"\"\n",
    "        Gets the list of input variable names from the prompt string.\n",
    "\n",
    "        :return: List of input variable names\n",
    "        \"\"\"\n",
    "        return self._pattern.findall(self.prompt)\n",
    "```\n",
    "\n",
    "Then we have our `RolePrompt` which laser focuses us on the role pattern found in most API endpoints for LLMs.\n",
    "\n",
    "```python\n",
    "class RolePrompt(BasePrompt):\n",
    "    def __init__(self, prompt, role: str):\n",
    "        \"\"\"\n",
    "        Initializes the RolePrompt object with a prompt template and a role.\n",
    "\n",
    "        :param prompt: A string that can contain placeholders within curly braces\n",
    "        :param role: The role for the message ('system', 'user', or 'assistant')\n",
    "        \"\"\"\n",
    "        super().__init__(prompt)\n",
    "        self.role = role\n",
    "\n",
    "    def create_message(self, **kwargs):\n",
    "        \"\"\"\n",
    "        Creates a message dictionary with a role and a formatted message.\n",
    "\n",
    "        :param kwargs: The values to substitute into the prompt string\n",
    "        :return: Dictionary containing the role and the formatted message\n",
    "        \"\"\"\n",
    "        return {\"role\": self.role, \"content\": self.format_prompt(**kwargs)}\n",
    "```\n",
    "\n",
    "We'll look at how the `SystemRolePrompt` is constructed to get a better idea of how that extension works:\n",
    "\n",
    "```python\n",
    "class SystemRolePrompt(RolePrompt):\n",
    "    def __init__(self, prompt: str):\n",
    "        super().__init__(prompt, \"system\")\n",
    "```\n",
    "\n",
    "That pattern is repeated for our `UserRolePrompt` and our `AssistantRolePrompt` as well."
   ]
  },
  {
   "cell_type": "markdown",
   "metadata": {},
   "source": [
    "##### ChatOpenAI"
   ]
  },
  {
   "cell_type": "markdown",
   "metadata": {},
   "source": [
    "Next we have our model, which is converted to a format analagous to libraries like LangChain and LlamaIndex.\n",
    "\n",
    "Let's take a peek at how that is constructed:\n",
    "\n",
    "```python\n",
    "class ChatOpenAI:\n",
    "    def __init__(self, model_name: str = \"gpt-3.5-turbo\"):\n",
    "        self.model_name = model_name\n",
    "        self.openai_api_key = os.getenv(\"OPENAI_API_KEY\")\n",
    "        if self.openai_api_key is None:\n",
    "            raise ValueError(\"OPENAI_API_KEY is not set\")\n",
    "\n",
    "    def run(self, messages, text_only: bool = True):\n",
    "        if not isinstance(messages, list):\n",
    "            raise ValueError(\"messages must be a list\")\n",
    "\n",
    "        openai.api_key = self.openai_api_key\n",
    "        response = openai.ChatCompletion.create(\n",
    "            model=self.model_name, messages=messages\n",
    "        )\n",
    "\n",
    "        if text_only:\n",
    "            return response.choices[0].message.content\n",
    "\n",
    "        return response\n",
    "```"
   ]
  },
  {
   "cell_type": "markdown",
   "metadata": {},
   "source": [
    "#### ❓QUESTION:\n",
    "\n",
    "How could we ensure our LLM always responded the same way to our inputs?\n",
    "\n",
    "#### ANSWER:\n",
    "\n",
    "Generally, make sure your system prompt is the same.\n",
    "\n",
    "Specifically, you could make use of the seed input parameter, the system_fingerprint response parameter, temperature (turn it down to 0) parameter, or top_p parameter all found here : https://platform.openai.com/docs/api-reference/chat/create#chat/create-messages\n",
    "\n",
    "These are all different mechanisms for trying to force the LLM to give you the same response to the same query."
   ]
  },
  {
   "cell_type": "markdown",
   "metadata": {},
   "source": [
    "### Creating and Prompting OpenAI's `gpt-3.5-turbo`!\n",
    "\n",
    "Let's tie all these together and use it to prompt `gpt-3.5-turbo`!"
   ]
  },
  {
   "cell_type": "code",
   "execution_count": 18,
   "metadata": {},
   "outputs": [],
   "source": [
    "from aimakerspace.openai_utils.prompts import (\n",
    "    UserRolePrompt,\n",
    "    SystemRolePrompt,\n",
    "    AssistantRolePrompt,\n",
    ")\n",
    "\n",
    "from aimakerspace.openai_utils.chatmodel import ChatOpenAI\n",
    "\n",
    "chat_openai = ChatOpenAI()\n",
    "user_prompt_template = \"{content}\"\n",
    "user_role_prompt = UserRolePrompt(user_prompt_template)\n",
    "system_prompt_template = (\n",
    "    \"You are an expert in {expertise}, you always answer in a kind way.\"\n",
    ")\n",
    "system_role_prompt = SystemRolePrompt(system_prompt_template)\n",
    "\n",
    "messages = [\n",
    "    user_role_prompt.create_message(\n",
    "        content=\"What is the best way to write a loop?\"\n",
    "    ),\n",
    "    system_role_prompt.create_message(expertise=\"Python\"),\n",
    "]\n",
    "\n",
    "response = chat_openai.run(messages)"
   ]
  },
  {
   "cell_type": "code",
   "execution_count": 19,
   "metadata": {},
   "outputs": [
    {
     "name": "stdout",
     "output_type": "stream",
     "text": [
      "The best way to write a loop in Python is to use a for loop if you know the exact number of iterations needed, or a while loop if the number of iterations is dependent on a certain condition. Here is an example of each:\n",
      "\n",
      "For loop:\n",
      "```python\n",
      "for i in range(5):\n",
      "    print(i)\n",
      "```\n",
      "\n",
      "While loop:\n",
      "```python\n",
      "i = 0\n",
      "while i < 5:\n",
      "    print(i)\n",
      "    i += 1\n",
      "```\n",
      "\n",
      "Remember to make sure your loop has a clear exit condition to prevent infinite loops. Happy coding!\n"
     ]
    }
   ],
   "source": [
    "print(response)"
   ]
  },
  {
   "cell_type": "markdown",
   "metadata": {},
   "source": [
    "## Task 5: Retrieval Augmented Generation\n",
    "\n",
    "Now we can create a RAG prompt - which will help our system behave in a way that makes sense!\n",
    "\n",
    "There is much you could do here, many tweaks and improvements to be made!"
   ]
  },
  {
   "cell_type": "code",
   "execution_count": 20,
   "metadata": {},
   "outputs": [],
   "source": [
    "RAG_PROMPT_TEMPLATE = \"\"\" \\\n",
    "Use the provided context to answer the user's query. \n",
    "\n",
    "You may not answer the user's query unless there is specific context in the following text.\n",
    "\n",
    "If you do not know the answer, or cannot answer, please respond with \"I don't know\".\n",
    "\"\"\"\n",
    "\n",
    "rag_prompt = SystemRolePrompt(RAG_PROMPT_TEMPLATE)\n",
    "\n",
    "USER_PROMPT_TEMPLATE = \"\"\" \\\n",
    "Context:\n",
    "{context}\n",
    "\n",
    "User Query:\n",
    "{user_query}\n",
    "\"\"\"\n",
    "\n",
    "\n",
    "user_prompt = UserRolePrompt(USER_PROMPT_TEMPLATE)\n",
    "\n",
    "class RetrievalAugmentedQAPipeline:\n",
    "    def __init__(self, llm: ChatOpenAI(), vector_db_retriever: VectorDatabase) -> None:\n",
    "        self.llm = llm\n",
    "        self.vector_db_retriever = vector_db_retriever\n",
    "\n",
    "    def run_pipeline(self, user_query: str) -> str:\n",
    "        context_list = self.vector_db_retriever.search_by_text(user_query, k=4)\n",
    "        \n",
    "        context_prompt = \"\"\n",
    "        for context in context_list:\n",
    "            context_prompt += context[0] + \"\\n\"\n",
    "\n",
    "        formatted_system_prompt = rag_prompt.create_message()\n",
    "\n",
    "        formatted_user_prompt = user_prompt.create_message(user_query=user_query, context=context_prompt)\n",
    "        \n",
    "        return {\"response\" : self.llm.run([formatted_user_prompt, formatted_system_prompt]), \"context\" : context_list}"
   ]
  },
  {
   "cell_type": "markdown",
   "metadata": {},
   "source": [
    "#### ❓QUESTION:\n",
    "\n",
    "What changes could you make that would encourage the LLM to have a more well thought out and verbose response?\n",
    "\n",
    "What is this method called?\n",
    "\n",
    "#### ANSWER:\n",
    "\n",
    "You could write a better prompt engineered system prompt, such as \"To ensure a comprehensive and detailed response, please review relevant data sources before generating the answer. Focus on gathering a wide range of facts, examples, and perspectives related to the query. Synthesize this information to provide a verbose and well-rounded response that not only answers the direct question but also offers contextual understanding, historical relevance, and potential implications. Aim to address any related subtopics that could provide additional insight or clarity to the user.\"\n",
    "\n",
    "This is called chain of thought prompting."
   ]
  },
  {
   "cell_type": "code",
   "execution_count": 21,
   "metadata": {},
   "outputs": [],
   "source": [
    "retrieval_augmented_qa_pipeline = RetrievalAugmentedQAPipeline(\n",
    "    vector_db_retriever=vector_db,\n",
    "    llm=chat_openai\n",
    ")"
   ]
  },
  {
   "cell_type": "code",
   "execution_count": 23,
   "metadata": {},
   "outputs": [
    {
     "data": {
      "text/plain": [
       "{'response': 'The library mentioned in the text is the Folger Shakespeare Library, located in Washington, DC.',\n",
       " 'context': [('Get even mor e from the Folger\\nYou can get your own copy of this text to keep. Purchase a full copy\\nto get the text, plus explanatory notes, illustrations, and more.\\n Buy a copyFolger Shakespeare Library\\nhttps://shakespeare.folger.edu/\\nFront\\nMatterFrom the Director of the Folger Shakespeare\\nLibrary\\nTextual Introduction\\nSynopsis\\nCharacters in the Play\\nACT 1Scene 1\\nScene 2\\nScene 3\\nScene 4\\nScene 5\\nACT 2Scene 1\\nScene 2\\nScene 3\\nScene 4\\nACT 3Scene 1\\nScene 2\\nScene 3\\nScene 4\\nScene 5\\nScene 6\\nScene 7\\nACT 4Scene 1\\nScene 2\\nScene 3\\nScene 4\\nScene 5\\nScene 6\\nScene 7\\nACT 5Scene 1\\nScene 2\\nScene 3Contents\\nMichael Witmore\\nDirector, Folger Shakespeare LibraryIt is hard to imagine a world without Shakespeare. Since their\\ncomposition four hundred years ago, Shakespeare’s plays and poems\\nhave traveled the globe, inviting those who see and read his works to\\nmake them their own.\\nReaders of the New Folger Editions are part of this ongoing process\\nof “taking up Shakespeare,” finding our own thoughts and feelings\\n',\n",
       "   0.2639552038071974),\n",
       "  ('for the texts realized here in digital form, are special because of their\\norigin. The Folger Shakespeare Library in Washington, DC, is the\\nsingle greatest documentary source of Shakespeare’s works. An\\nunparalleled collection of early modern books, manuscripts, and\\nartwork connected to Shakespeare, the Folger’s holdings have been\\nconsulted extensively in the preparation of these texts. The Editions\\nalso reflect the expertise gained through the regular performance of\\nShakespeare’s works in the Folger’s Elizabethan Theatre.\\nI want to express my deep thanks to editors Barbara Mowat and Paul\\nWerstine for creating these indispensable editions of Shakespeare’s\\nworks, which incorporate the best of textual scholarship with a\\nrichness of commentary that is both inspired and engaging. Readers\\nwho want to know more about Shakespeare and his plays can follow\\nthe paths these distinguished scholars have tread by visiting the\\nFolger either in-person or online, where a range of physical and\\ndigital res',\n",
       "   0.2631639293111712),\n",
       "  (' the Folger\\nShakespeare texts depend, make this editorial process as nearly\\ntransparent as is possible, in contrast to older texts, like the Moby™,\\nwhich hide editorial interventions. The reader of the Folger\\nShakespeare knows where the text has been altered because editorial\\ninterventions are signaled by square brackets (for example, from\\nOthello: “If she in chains of magic were not bound,”), half-square\\nbrackets (for example, from Henry V: “With blood and sword and\\nfire to win your right,”), or angle brackets (for example, fromTextual Introduction\\nBy Barbara Mowat and Paul Werstine\\n\\nHamlet: “O farewell, honest soldier. Who hath relieved/you?”). At\\nany point in the text, you can hover your cursor over a bracket for\\nmore information.\\nBecause the Folger Shakespeare texts are edited in accord with\\ntwenty-first century knowledge about Shakespeare’s texts, the Folger\\nhere provides them to readers, scholars, teachers, actors, directors,\\nand students, free of charge, confident of their quali',\n",
       "   0.24836304000363282),\n",
       "  ('his is some fellow\\n Who, having been praised for bluntness, doth affect\\n A saucy roughness and constrains the garb\\n Quite from his nature. He cannot flatter, he.\\n An honest mind and plain, he must speak truth!\\n An they will take it, so; if not, he’s plain.\\n These kind of knaves I know, which in this\\n plainness\\n Harbor more craft and more corrupter ends\\n Than twenty silly-ducking observants\\n That stretch their duties nicely.\\n \\n Sir, in good faith, in sincere verity,\\n Under th’ allowance of your great aspect,\\n Whose influence, like the wreath of radiant fire\\n On flick’ring Phoebus’ front—FTLN 1234\\nFTLN 1235 85\\nFTLN 1236\\nFTLN 1237\\nFTLN 1238\\nFTLN 1239\\nFTLN 1240 90\\nFTLN 1241\\nFTLN 1242\\nFTLN 1243\\nFTLN 1244\\nFTLN 1245 95\\nFTLN 1246\\nFTLN 1247\\nFTLN 1248\\nFTLN 1249\\nFTLN 1250 100\\nFTLN 1251\\nFTLN 1252\\nFTLN 1253\\nFTLN 1254\\nFTLN 1255 105\\nFTLN 1256\\nFTLN 1257\\nFTLN 1258\\nFTLN 1259\\nFTLN 1260 110\\nFTLN 1261\\nFTLN 1262\\nFTLN 1263\\nFTLN 1264\\n\\n91 King LearACT 2. SC. 2\\nCORNWALL\\nKENT\\nCORNWALL\\nOSWALD\\nKENT\\nCORNWALL\\nKENT\\nC',\n",
       "   0.24812336793166756)]}"
      ]
     },
     "execution_count": 23,
     "metadata": {},
     "output_type": "execute_result"
    }
   ],
   "source": [
    "retrieval_augmented_qa_pipeline.run_pipeline(\"What library is this from ?\")"
   ]
  },
  {
   "cell_type": "code",
   "execution_count": 22,
   "metadata": {},
   "outputs": [
    {
     "data": {
      "text/plain": [
       "{'response': 'There is a mention of a queen in the context provided. The Queen referred to is not specified by name, but she is described as being moved to tears by the contents of the letters she received.',\n",
       " 'context': [(' her,\\n Or cease your quest of love?\\n   Most royal Majesty,\\n I crave no more than hath your Highness offered,\\n Nor will you tender less.\\n   Right noble Burgundy,\\n When she was dear to us, we did hold her so,\\n But now her price is fallen. Sir, there she stands.\\n If aught within that little seeming substance,\\n Or all of it, with our displeasure pieced\\n And nothing more, may fitly like your Grace,\\n She’s there, and she is yours.\\n   I know no answer.\\n \\n Will you, with those infirmities she owes,\\n Unfriended, new-adopted to our hate,\\n Dowered with our curse and strangered with our\\n oath,\\n Take her or leave her?\\n   Pardon me, royal sir,\\n Election makes not up in such conditions.\\n \\n Then leave her, sir, for by the power that made me\\n I tell you all her wealth.—For you, great king,\\n I would not from your love make such a stray\\n To match you where I hate. Therefore beseech you\\n T’ avert your liking a more worthier way\\n Than on a wretch whom Nature is ashamed\\n Almost t’ acknowledge hers.\\n   This ',\n",
       "   0.308962424861322),\n",
       "  (' But down!\\n  Cry to it, nuncle, as the cockney did to the eels\\n when she put ’em i’ th’ paste alive. She knapped\\n ’em o’ th’ coxcombs with a stick and cried “Down,\\n wantons, down!” ’Twas her brother that in pure\\n kindness to his horse buttered his hay.\\nEnter Cornwall, Regan, Gloucester, Servants.\\n  Good morrow to you both.\\n  Hail to your Grace.\\n  I am glad to see your Highness.\\n \\n Regan, I think you are. I know what reason\\n I have to think so: if thou shouldst not be glad,\\n I would divorce me from thy mother’s tomb,FTLN 1477\\nFTLN 1478\\nFTLN 1479\\nFTLN 1480 120\\nFTLN 1481\\nFTLN 1482\\nFTLN 1483\\nFTLN 1484\\nFTLN 1485 125\\nFTLN 1486\\nFTLN 1487\\nFTLN 1488\\nFTLN 1489\\nFTLN 1490 130\\nFTLN 1491\\nFTLN 1492\\nFTLN 1493\\nFTLN 1494\\nFTLN 1495 135\\nFTLN 1496\\nFTLN 1497\\nFTLN 1498\\nFTLN 1499\\nFTLN 1500 140\\nFTLN 1501\\nFTLN 1502\\nFTLN 1503\\nFTLN 1504\\nFTLN 1505 145\\nFTLN 1506\\n\\n107 King LearACT 2. SC. 4\\nREGAN\\nLEAR\\nREGAN\\nLEAR\\nREGAN\\nLEAR\\nHe kneels.\\nREGAN Sepulch’ring an adult’ress.  To Kent. O, are you\\n free?\\n Some other time for t',\n",
       "   0.2770315096140375),\n",
       "  ('y good lord.\\n  So young and so untender?\\n  So young, my lord, and true.FTLN 0088\\nFTLN 0089\\nFTLN 0090 90\\nFTLN 0091\\nFTLN 0092\\nFTLN 0093\\nFTLN 0094\\nFTLN 0095 95\\nFTLN 0096\\nFTLN 0097\\nFTLN 0098\\nFTLN 0099\\nFTLN 0100 100\\nFTLN 0101\\nFTLN 0102\\nFTLN 0103\\nFTLN 0104\\nFTLN 0105 105\\nFTLN 0106\\nFTLN 0107\\nFTLN 0108\\nFTLN 0109\\nFTLN 0110 110\\nFTLN 0111\\nFTLN 0112\\nFTLN 0113\\nFTLN 0114\\nFTLN 0115 115\\nFTLN 0116\\nFTLN 0117\\nFTLN 0118\\nFTLN 0119\\n15 King LearACT 1. SC. 1\\nLEAR\\nKENT\\nLEAR \\n Let it be so. Thy truth, then, be thy dower,\\n For by the sacred radiance of the sun,\\n The mysteries of Hecate and the night,\\n By all the operation of the orbs\\n From whom we do exist and cease to be,\\n Here I disclaim all my paternal care,\\n Propinquity, and property of blood,\\n And as a stranger to my heart and me\\n Hold thee from this forever. The barbarous\\n Scythian,\\n Or he that makes his generation messes\\n To gorge his appetite, shall to my bosom\\n Be as well neighbored, pitied, and relieved\\n As thou my sometime daughter.\\n   Good my liege—\\n ',\n",
       "   0.25896661610221483),\n",
       "  (' danger\\n that his personal return was most required and\\n necessary.\\n  Who hath he left behind him general?\\n  The Marshal of France, Monsieur La Far.\\n  Did your letters pierce the Queen to any demonstration\\n of grief?\\n \\n Ay, sir, she took them, read them in my\\n presence,\\n And now and then an ample tear trilled down\\n Her delicate cheek. It seemed she was a queen\\n Over her passion, who, most rebel-like,\\n Fought to be king o’er her.\\n   O, then it moved her.FTLN 2580\\nFTLN 2581 110\\nFTLN 2582\\nFTLN 2583\\nFTLN 2584\\nFTLN 2585\\nFTLN 2586 115\\nFTLN 2587\\nFTLN 2588\\nFTLN 2589\\nScene 3\\nFTLN 2590\\nFTLN 2591\\nFTLN 2592\\nFTLN 2593\\nFTLN 2594 5\\nFTLN 2595\\nFTLN 2596\\nFTLN 2597\\nFTLN 2598\\nFTLN 2599 10\\nFTLN 2600\\nFTLN 2601\\nFTLN 2602\\nFTLN 2603\\nFTLN 2604 15\\nFTLN 2605\\nFTLN 2606\\nFTLN 2607\\n187 King LearACT 4. SC. 3\\nGENTLEMAN\\nKENT\\nGENTLEMAN\\nKENT\\nGENTLEMAN\\nKENT\\nGENTLEMAN\\nKENT\\nGENTLEMAN \\n Not to a rage. Patience and sorrow strove\\n Who should express her goodliest. You have seen\\n Sunshine and rain at once; her smiles and tears\\n ',\n",
       "   0.2574135986734435)]}"
      ]
     },
     "execution_count": 22,
     "metadata": {},
     "output_type": "execute_result"
    }
   ],
   "source": [
    "retrieval_augmented_qa_pipeline.run_pipeline(\"Is there a queen? if so who is it\")"
   ]
  },
  {
   "cell_type": "markdown",
   "metadata": {},
   "source": [
    "## Task 6: Visibility Tooling\n",
    "\n",
    "This is great, but what if we wanted to add some visibility to our pipeline?\n",
    "\n",
    "Let's use Weights and Biases as a visibility tool!\n",
    "\n",
    "The first thing we'll need to do is create a Weights and Biases account and get an API key. \n",
    "\n",
    "You can follow the process outlined [here](https://docs.wandb.ai/quickstart) to do exactly that!"
   ]
  },
  {
   "cell_type": "markdown",
   "metadata": {},
   "source": [
    "Now we can get the Weights and Biases dependency and add our key to our env. to begin!"
   ]
  },
  {
   "cell_type": "code",
   "execution_count": 24,
   "metadata": {},
   "outputs": [],
   "source": [
    "!pip install -q -U wandb"
   ]
  },
  {
   "cell_type": "code",
   "execution_count": 25,
   "metadata": {},
   "outputs": [],
   "source": [
    "wandb_key = getpass(\"Weights and Biases API Key: \")\n",
    "os.environ[\"WANDB_API_KEY\"] = wandb_key"
   ]
  },
  {
   "cell_type": "code",
   "execution_count": 26,
   "metadata": {},
   "outputs": [
    {
     "name": "stderr",
     "output_type": "stream",
     "text": [
      "\u001b[34m\u001b[1mwandb\u001b[0m: Currently logged in as: \u001b[33mbullyellis\u001b[0m. Use \u001b[1m`wandb login --relogin`\u001b[0m to force relogin\n"
     ]
    },
    {
     "data": {
      "text/html": [
       "Tracking run with wandb version 0.16.6"
      ],
      "text/plain": [
       "<IPython.core.display.HTML object>"
      ]
     },
     "metadata": {},
     "output_type": "display_data"
    },
    {
     "data": {
      "text/html": [
       "Run data is saved locally in <code>/mnt/c/code/AIE2/Week 2/Day 1/wandb/run-20240413_201507-2xp62ttt</code>"
      ],
      "text/plain": [
       "<IPython.core.display.HTML object>"
      ]
     },
     "metadata": {},
     "output_type": "display_data"
    },
    {
     "data": {
      "text/html": [
       "Syncing run <strong><a href='https://wandb.ai/bullyellis/Visibility%20Example%20Customized/runs/2xp62ttt' target=\"_blank\">crisp-yogurt-1</a></strong> to <a href='https://wandb.ai/bullyellis/Visibility%20Example%20Customized' target=\"_blank\">Weights & Biases</a> (<a href='https://wandb.me/run' target=\"_blank\">docs</a>)<br/>"
      ],
      "text/plain": [
       "<IPython.core.display.HTML object>"
      ]
     },
     "metadata": {},
     "output_type": "display_data"
    },
    {
     "data": {
      "text/html": [
       " View project at <a href='https://wandb.ai/bullyellis/Visibility%20Example%20Customized' target=\"_blank\">https://wandb.ai/bullyellis/Visibility%20Example%20Customized</a>"
      ],
      "text/plain": [
       "<IPython.core.display.HTML object>"
      ]
     },
     "metadata": {},
     "output_type": "display_data"
    },
    {
     "data": {
      "text/html": [
       " View run at <a href='https://wandb.ai/bullyellis/Visibility%20Example%20Customized/runs/2xp62ttt' target=\"_blank\">https://wandb.ai/bullyellis/Visibility%20Example%20Customized/runs/2xp62ttt</a>"
      ],
      "text/plain": [
       "<IPython.core.display.HTML object>"
      ]
     },
     "metadata": {},
     "output_type": "display_data"
    },
    {
     "data": {
      "text/html": [
       "<button onClick=\"this.nextSibling.style.display='block';this.style.display='none';\">Display W&B run</button><iframe src='https://wandb.ai/bullyellis/Visibility%20Example%20Customized/runs/2xp62ttt?jupyter=true' style='border:none;width:100%;height:420px;display:none;'></iframe>"
      ],
      "text/plain": [
       "<wandb.sdk.wandb_run.Run at 0x7ff3cf6adb90>"
      ]
     },
     "execution_count": 26,
     "metadata": {},
     "output_type": "execute_result"
    }
   ],
   "source": [
    "import wandb\n",
    "\n",
    "os.environ[\"WANDB_NOTEBOOK_NAME\"] = \"./Pythonic RAG Assignment.ipynb\"\n",
    "wandb.init(project=\"Visibility Example Customized\")"
   ]
  },
  {
   "cell_type": "markdown",
   "metadata": {},
   "source": [
    "Now we can integrate Weights and Biases into our `RetrievalAugmentedQAPipeline`.\n",
    "\n",
    "```python\n",
    "if self.wandb_project:\n",
    "            root_span = Trace(\n",
    "                name=\"root_span\",\n",
    "                kind=\"llm\",\n",
    "                status_code=status,\n",
    "                status_message=status_message,\n",
    "                start_time_ms=start_time,\n",
    "                end_time_ms=end_time,\n",
    "                metadata={\n",
    "                    \"token_usage\" : token_usage\n",
    "                },\n",
    "                inputs= {\"system_prompt\" : formatted_system_prompt, \"user_prompt\" : formatted_user_prompt},\n",
    "                outputs= {\"response\" : response_text}\n",
    "            )\n",
    "\n",
    "            root_span.log(name=\"openai_trace\")\n",
    "```\n",
    "\n",
    "The main things to consider here are how to populate the various fields to make sure we're tracking useful information. \n",
    "\n",
    "We'll use the `text_only` flag to ensure we can get detailed information about our LLM call!\n",
    "\n",
    "You can check out all the parameters for Weights and Biases `Trace` [here](https://github.com/wandb/wandb/blob/653015a014281f45770aaf43627f64d9c4f04a32/wandb/sdk/data_types/trace_tree.py#L166)"
   ]
  },
  {
   "cell_type": "markdown",
   "metadata": {},
   "source": []
  },
  {
   "cell_type": "code",
   "execution_count": 27,
   "metadata": {},
   "outputs": [],
   "source": [
    "import datetime\n",
    "from wandb.sdk.data_types.trace_tree import Trace\n",
    "\n",
    "class RetrievalAugmentedGenerationPipeline:\n",
    "    def __init__(self, llm: ChatOpenAI(), vector_db_retriever: VectorDatabase, wandb_project = None) -> None:\n",
    "        self.llm = llm\n",
    "        self.vector_db_retriever = vector_db_retriever\n",
    "        self.wandb_project = wandb_project\n",
    "\n",
    "    def run_pipeline(self, user_query: str) -> str:\n",
    "        context_list = self.vector_db_retriever.search_by_text(user_query, k=4)\n",
    "        \n",
    "        context_prompt = \"\"\n",
    "        for context in context_list:\n",
    "            context_prompt += context[0] + \"\\n\"\n",
    "\n",
    "        formatted_system_prompt = rag_prompt.create_message()\n",
    "\n",
    "        formatted_user_prompt = user_prompt.create_message(user_query=user_query, context=context_prompt)\n",
    "\n",
    "        \n",
    "        start_time = datetime.datetime.now().timestamp() * 1000\n",
    "\n",
    "        try:\n",
    "            openai_response = self.llm.run([formatted_system_prompt, formatted_user_prompt], text_only=False)\n",
    "            end_time = datetime.datetime.now().timestamp() * 1000\n",
    "            status = \"success\"\n",
    "            status_message = (None, )\n",
    "            response_text = openai_response.choices[0].message.content\n",
    "            token_usage = dict(openai_response.usage)\n",
    "            model = openai_response.model\n",
    "\n",
    "        except Exception as e:\n",
    "            end_time = datetime.datetime.now().timestamp() * 1000\n",
    "            status = \"error\"\n",
    "            status_message = str(e)\n",
    "            response_text = \"\"\n",
    "            token_usage = {}\n",
    "            model = \"\"\n",
    "\n",
    "        if self.wandb_project:\n",
    "            root_span = Trace(\n",
    "                name=\"root_span\",\n",
    "                kind=\"llm\",\n",
    "                status_code=status,\n",
    "                status_message=status_message,\n",
    "                start_time_ms=start_time,\n",
    "                end_time_ms=end_time,\n",
    "                metadata={\n",
    "                    \"token_usage\" : token_usage,\n",
    "                    \"model_name\" : model\n",
    "                },\n",
    "                inputs= {\"system_prompt\" : formatted_system_prompt, \"user_prompt\" : formatted_user_prompt},\n",
    "                outputs= {\"response\" : response_text}\n",
    "            )\n",
    "\n",
    "            root_span.log(name=\"openai_trace\")\n",
    "        \n",
    "        return {\"response\" : self.llm.run([formatted_user_prompt, formatted_system_prompt]), \"context\" : context_list} if response_text else \"We ran into an error. Please try again later. Full Error Message: \" + status_message"
   ]
  },
  {
   "cell_type": "code",
   "execution_count": 28,
   "metadata": {},
   "outputs": [],
   "source": [
    "retrieval_augmented_qa_pipeline = RetrievalAugmentedGenerationPipeline(\n",
    "    vector_db_retriever=vector_db,\n",
    "    llm=chat_openai,\n",
    "    wandb_project=\"LLM Visibility Example Customized\"\n",
    ")"
   ]
  },
  {
   "cell_type": "code",
   "execution_count": 29,
   "metadata": {},
   "outputs": [
    {
     "data": {
      "text/plain": [
       "{'response': \"I don't know.\",\n",
       " 'context': [(' you are hid.\\n You have now the good advantage of the night.\\n Have you not spoken ’gainst the Duke of Cornwall?\\n He’s coming hither, now, i’ th’ night, i’ th’ haste,\\n And Regan with him. Have you nothing said\\n Upon his party ’gainst the Duke of Albany?\\n Advise yourself.\\n   I am sure on ’t, not a word.\\n \\n I hear my father coming. Pardon me.\\n In cunning I must draw my sword upon you.\\n Draw. Seem to defend yourself. Now, quit you\\n well. \\n Yield! Come before my father! Light, hoa, here!\\n  Aside to Edgar. Fly, brother.—Torches, torches!\\n —So, farewell. \\n Some blood drawn on me would beget opinion\\n Of my more fierce endeavor. I have seen drunkards\\n Do more than this in sport. \\n Father, father!\\n Stop, stop! No help?\\nEnter Gloucester, and Servants with torches.\\n   Now, Edmund, where’s the\\n villain?\\n \\n Here stood he in the dark, his sharp sword out,\\n Mumbling of wicked charms, conjuring the moon\\n To stand auspicious mistress.\\n   But where is he?\\n \\n Look, sir, I bleed.\\n   Where is the villain,\\n ',\n",
       "   0.24451623109328421),\n",
       "  ('712\\nFTLN 1713\\nKENT\\nGENTLEMAN\\nKENT\\nGENTLEMAN\\nKENT\\nGENTLEMANStorm still. Enter Kent in disguise, and a Gentleman,\\nseverally.\\n  Who’s there, besides foul weather?\\n \\n One minded like the weather, most unquietly.\\n  I know you. Where’s the King?\\n \\n Contending with the fretful elements;\\n Bids the wind blow the earth into the sea\\n Or swell the curlèd waters ’bove the main,\\n That things might change or cease; tears his white\\n hair,\\n Which the impetuous blasts with eyeless rage\\n Catch in their fury and make nothing of;\\n Strives in his little world of man to outscorn\\n The to-and-fro conflicting wind and rain.\\n This night, wherein the cub-drawn bear would\\n couch,\\n The lion and the belly-pinchèd wolf\\n Keep their fur dry, unbonneted he runs\\n And bids what will take all.\\n   But who is with him?\\n \\n None but the Fool, who labors to outjest\\n His heart-struck injuries.\\n123ACT 3\\nScene 1\\nFTLN 1714\\nFTLN 1715\\nFTLN 1716\\nFTLN 1717\\nFTLN 1718 5\\nFTLN 1719\\nFTLN 1720\\nFTLN 1721\\nFTLN 1722\\nFTLN 1723 10\\nFTLN 1724\\nFTLN ',\n",
       "   0.21898887679776066),\n",
       "  ('cides did all the thunder bend,\\n Spoke with how manifold and strong a bond\\n The child was bound to th’ father—sir, in fine,\\n Seeing how loathly opposite I stood\\n To his unnatural purpose, in fell motion\\n With his preparèd sword he charges home\\n My unprovided body, lanced mine arm;\\n And when he saw my best alarumed spirits,\\n Bold in the quarrel’s right, roused to th’ encounter,\\n Or whether ghasted by the noise I made,\\n Full suddenly he fled.\\n   Let him fly far!\\n Not in this land shall he remain uncaught,\\n And found—dispatch. The noble duke my master,\\n My worthy arch and patron, comes tonight.\\n By his authority I will proclaim it\\n That he which finds him shall deserve our thanks,\\n Bringing the murderous coward to the stake;\\n He that conceals him, death.\\n \\n When I dissuaded him from his intent\\n And found him pight to do it, with curst speech\\n I threatened to discover him. He replied\\n “Thou unpossessing bastard, dost thou think\\n If I would stand against thee, would the reposal\\n Of any trus',\n",
       "   0.21447416617617074),\n",
       "  (' mongrel bitch; one whom I will beat into\\n clamorous whining if thou deny’st the least syllable\\n of thy addition.\\n  Why, what a monstrous fellow art thou thus\\n to rail on one that is neither known of thee nor\\n knows thee!\\n  What a brazen-faced varlet art thou to deny thou\\n knowest me! Is it two days ago since I tripped up\\n thy heels and beat thee before the King?  He draws\\n his sword.  Draw, you rogue, for though it be night,\\n yet the moon shines. I’ll make a sop o’ th’ moonshine\\n of you, you whoreson, cullionly barbermonger.\\n Draw!\\n  Away! I have nothing to do with thee.\\n  Draw, you rascal! You come with letters against\\n the King and take Vanity the puppet’s part against\\n the royalty of her father. Draw, you rogue, or I’ll so\\n carbonado your shanks! Draw, you rascal! Come\\n your ways.\\n  Help, ho! Murder! Help!\\n  Strike, you slave! Stand, rogue! Stand, you neat\\n slave! Strike! \\n  Help, ho! Murder, murder!\\nEnter Bastard Edmund, with his rapier drawn,\\nCornwall, Regan, Gloucester, Servants',\n",
       "   0.21045980668337053)]}"
      ]
     },
     "execution_count": 29,
     "metadata": {},
     "output_type": "execute_result"
    }
   ],
   "source": [
    "retrieval_augmented_qa_pipeline.run_pipeline(\"Who is Batman?\")"
   ]
  },
  {
   "cell_type": "code",
   "execution_count": 30,
   "metadata": {},
   "outputs": [
    {
     "data": {
      "text/plain": [
       "{'response': 'Cordelia is tragically hanged in prison, with the blame being laid upon her own despair. Lear, in despair, laments her death, expressing his profound grief and sorrow.',\n",
       " 'context': [('e.\\n Beyond all manner of so much I love you.\\n, aside \\n What shall Cordelia speak? Love, and be silent.\\n, pointing to the map \\n Of all these bounds, even from this line to this,\\n With shadowy forests and with champains riched,\\n With plenteous rivers and wide-skirted meads,\\n We make thee lady. To thine and Albany’s issue\\n Be this perpetual.—What says our second\\n daughter,\\n Our dearest Regan, wife of Cornwall? Speak.\\n \\n I am made of that self mettle as my sister\\n And prize me at her worth. In my true heart\\n I find she names my very deed of love;\\n Only she comes too short, that I profess\\n Myself an enemy to all other joys\\n Which the most precious square of sense\\n possesses,\\n And find I am alone felicitate\\n In your dear Highness’ love.\\n, aside   Then poor Cordelia!\\n And yet not so, since I am sure my love’s\\n More ponderous than my tongue.FTLN 0055 55\\nFTLN 0056\\nFTLN 0057\\nFTLN 0058\\nFTLN 0059\\nFTLN 0060 60\\nFTLN 0061\\nFTLN 0062\\nFTLN 0063\\nFTLN 0064\\nFTLN 0065 65\\nFTLN 0066\\nFTLN 0067\\nFTLN 0068\\nFTLN 0',\n",
       "   0.5240977474964221),\n",
       "  ('t’rish Burgundy\\n Can buy this unprized precious maid of me.—\\n Bid them farewell, Cordelia, though unkind.\\n Thou losest here a better where to find.\\n \\n Thou hast her, France. Let her be thine, for we\\n Have no such daughter, nor shall ever see\\n That face of hers again.  To Cordelia. Therefore\\n begone\\n Without our grace, our love, our benison.—\\n Come, noble Burgundy.\\n  Bid farewell to your sisters.\\n \\n The jewels of our father, with washed eyes\\n Cordelia leaves you. I know you what you are,\\n And like a sister am most loath to call\\nFTLN 0284\\nFTLN 0285 285\\nFTLN 0286\\nFTLN 0287\\nFTLN 0288\\nFTLN 0289\\nFTLN 0290 290\\nFTLN 0291\\nFTLN 0292\\nFTLN 0293\\nFTLN 0294\\nFTLN 0295 295\\nFTLN 0296\\nFTLN 0297\\nFTLN 0298\\nFTLN 0299\\nFTLN 0300 300\\nFTLN 0301\\nFTLN 0302\\nFTLN 0303\\nFTLN 0304\\nFTLN 0305 305\\nFTLN 0306\\nFTLN 0307\\nFTLN 0308\\nFTLN 0309\\nFTLN 0310 310\\nFTLN 0311\\nFTLN 0312\\nFTLN 0313\\n27 King LearACT 1. SC. 1\\nREGAN\\nGONERIL\\nCORDELIA\\nFRANCE\\nFrance and Cordelia exit.\\nGONERIL\\nREGAN\\nGONERIL\\nREGAN\\nGONERIL Your faults as they are na',\n",
       "   0.49518676085863833),\n",
       "  ('LearACT 5. SC. 3\\nALBANY\\nEDGAR\\nEDMUND\\nEDGAR\\nThe Soldier exits with Edmund’s sword.\\nEDMUND\\nALBANY\\nEdmund is carried off.\\nLEAR\\nKENT\\nEDGAR Despite of mine own nature. Quickly send—\\n Be brief in it—to th’ castle, for my writ\\n Is on the life of Lear, and on Cordelia.\\n Nay, send in time.\\n   Run, run, O, run!\\n \\n To who, my lord?  To Edmund. Who has the office?\\n Send\\n Thy token of reprieve.\\n \\n Well thought on. Take my sword. Give it the\\n Captain.\\n, to a Soldier  Haste thee for thy life.\\n, to Albany \\n He hath commission from thy wife and me\\n To hang Cordelia in the prison, and\\n To lay the blame upon her own despair,\\n That she fordid herself.\\n \\n The gods defend her!—Bear him hence awhile.\\nEnter Lear with Cordelia in his arms,\\nfollowed by a Gentleman.\\n \\n Howl, howl, howl! O, you are men of stones!\\n Had I your tongues and eyes, I’d use them so\\n That heaven’s vault should crack. She’s gone\\n forever.\\n I know when one is dead and when one lives.\\n She’s dead as earth.—Lend me a looking glass.\\n If that ',\n",
       "   0.49202842862623636),\n",
       "  ('08\\nFTLN 0309\\nFTLN 0310 310\\nFTLN 0311\\nFTLN 0312\\nFTLN 0313\\n27 King LearACT 1. SC. 1\\nREGAN\\nGONERIL\\nCORDELIA\\nFRANCE\\nFrance and Cordelia exit.\\nGONERIL\\nREGAN\\nGONERIL\\nREGAN\\nGONERIL Your faults as they are named. Love well our\\n father.\\n To your professèd bosoms I commit him;\\n But yet, alas, stood I within his grace,\\n I would prefer him to a better place.\\n So farewell to you both.\\n \\n Prescribe not us our duty.\\n   Let your study\\n Be to content your lord, who hath received you\\n At Fortune’s alms. You have obedience scanted\\n And well are worth the want that you have wanted.\\n \\n Time shall unfold what plighted cunning hides,\\n Who covers faults at last with shame derides.\\n Well may you prosper.\\n   Come, my fair Cordelia.\\n  Sister, it is not little I have to say of what\\n most nearly appertains to us both. I think our\\n father will hence tonight.\\n  That’s most certain, and with you; next month\\n with us.\\n  You see how full of changes his age is; the\\n observation we have made of it hath not been\\n little. ',\n",
       "   0.4821065194167806)]}"
      ]
     },
     "execution_count": 30,
     "metadata": {},
     "output_type": "execute_result"
    }
   ],
   "source": [
    "retrieval_augmented_qa_pipeline.run_pipeline(\"What happens to Cordelia?\")"
   ]
  },
  {
   "cell_type": "markdown",
   "metadata": {},
   "source": [
    "Navigate to the Weights and Biases \"run\" link to see how your LLM is performing!\n",
    "\n",
    "```\n",
    "View run at YOUR LINK HERE\n",
    "```"
   ]
  },
  {
   "cell_type": "markdown",
   "metadata": {},
   "source": [
    "#### ❓QUESTION:\n",
    "\n",
    "What is the `model_name` from the WandB `root_span` trace?\n",
    "\n",
    "\n",
    "#### ANSWER:\n",
    "gpt-3.5-turbo-0125"
   ]
  },
  {
   "cell_type": "markdown",
   "metadata": {},
   "source": [
    "## Task 7: RAG Evaluation Using GPT-4\n",
    "\n"
   ]
  },
  {
   "cell_type": "code",
   "execution_count": 31,
   "metadata": {},
   "outputs": [
    {
     "name": "stdout",
     "output_type": "stream",
     "text": [
      "Cordelia is one of the daughters of King Lear in the play. She is described as being made of the same mettle as her sister and values herself highly. She expresses her love for the king but believes her love is more substantial than words can express. Despite her genuine love, she is ultimately mistreated by her father and sisters.\n"
     ]
    },
    {
     "data": {
      "text/plain": [
       "'{\"clarity\": \"9\", \"faithfulness\": \"9\", \"correctness\": \"9\"}'"
      ]
     },
     "execution_count": 31,
     "metadata": {},
     "output_type": "execute_result"
    }
   ],
   "source": [
    "query = \"Who is Cordelia?\"\n",
    "\n",
    "response = retrieval_augmented_qa_pipeline.run_pipeline(query)\n",
    "\n",
    "print(response[\"response\"])\n",
    "\n",
    "evaluator_system_template = \"\"\"You are an expert in analyzing the quality of a response.\n",
    "\n",
    "You should be hyper-critical.\n",
    "\n",
    "Provide scores (out of 10) for the following attributes:\n",
    "\n",
    "1. Clarity - how clear is the response\n",
    "2. Faithfulness - how related to the original query is the response and the provided context\n",
    "3. Correctness - was the response correct?\n",
    "\n",
    "Please take your time, and think through each item step-by-step, when you are done - please provide your response in the following JSON format:\n",
    "\n",
    "{\"clarity\" : \"score_out_of_10\", \"faithfulness\" : \"score_out_of_10\", \"correctness\" : \"score_out_of_10\"}\"\"\"\n",
    "\n",
    "evaluation_template = \"\"\"Query: {input}\n",
    "Context: {context}\n",
    "Response: {response}\"\"\"\n",
    "\n",
    "try:\n",
    "    chat_openai = ChatOpenAI(model_name=\"gpt-4-turbo\")\n",
    "except:\n",
    "    chat_openai = ChatOpenAI()\n",
    "\n",
    "evaluator_system_prompt = SystemRolePrompt(evaluator_system_template)\n",
    "evaluation_prompt = UserRolePrompt(evaluation_template)\n",
    "\n",
    "messages = [\n",
    "    evaluator_system_prompt.create_message(format=False),\n",
    "    evaluation_prompt.create_message(\n",
    "        input=query,\n",
    "        context=\"\\n\".join([context[0] for context in response[\"context\"]]),\n",
    "        response=response[\"response\"]\n",
    "    ),\n",
    "]\n",
    "\n",
    "chat_openai.run(messages, response_format={\"type\" : \"json_object\"})"
   ]
  },
  {
   "cell_type": "markdown",
   "metadata": {},
   "source": [
    "# Conclusion\n",
    "\n",
    "In this notebook, we've gone through the steps required to create your own simple RAQA application!\n",
    "\n",
    "Please feel free to extend this as much as you'd like. "
   ]
  },
  {
   "cell_type": "code",
   "execution_count": 32,
   "metadata": {},
   "outputs": [
    {
     "data": {
      "application/vnd.jupyter.widget-view+json": {
       "model_id": "eae8b2a35b7145c3a516d98d066beeaa",
       "version_major": 2,
       "version_minor": 0
      },
      "text/plain": [
       "VBox(children=(Label(value='0.002 MB of 0.002 MB uploaded\\r'), FloatProgress(value=1.0, max=1.0)))"
      ]
     },
     "metadata": {},
     "output_type": "display_data"
    },
    {
     "data": {
      "text/html": [
       " View run <strong style=\"color:#cdcd00\">crisp-yogurt-1</strong> at: <a href='https://wandb.ai/bullyellis/Visibility%20Example%20Customized/runs/2xp62ttt' target=\"_blank\">https://wandb.ai/bullyellis/Visibility%20Example%20Customized/runs/2xp62ttt</a><br/> View project at: <a href='https://wandb.ai/bullyellis/Visibility%20Example%20Customized' target=\"_blank\">https://wandb.ai/bullyellis/Visibility%20Example%20Customized</a><br/>Synced 6 W&B file(s), 0 media file(s), 2 artifact file(s) and 0 other file(s)"
      ],
      "text/plain": [
       "<IPython.core.display.HTML object>"
      ]
     },
     "metadata": {},
     "output_type": "display_data"
    },
    {
     "data": {
      "text/html": [
       "Find logs at: <code>./wandb/run-20240413_201507-2xp62ttt/logs</code>"
      ],
      "text/plain": [
       "<IPython.core.display.HTML object>"
      ]
     },
     "metadata": {},
     "output_type": "display_data"
    }
   ],
   "source": [
    "wandb.finish()"
   ]
  },
  {
   "cell_type": "code",
   "execution_count": null,
   "metadata": {},
   "outputs": [],
   "source": []
  }
 ],
 "metadata": {
  "kernelspec": {
   "display_name": "buildyourownlangchain",
   "language": "python",
   "name": "python3"
  },
  "language_info": {
   "codemirror_mode": {
    "name": "ipython",
    "version": 3
   },
   "file_extension": ".py",
   "mimetype": "text/x-python",
   "name": "python",
   "nbconvert_exporter": "python",
   "pygments_lexer": "ipython3",
   "version": "3.11.8"
  },
  "orig_nbformat": 4
 },
 "nbformat": 4,
 "nbformat_minor": 2
}
