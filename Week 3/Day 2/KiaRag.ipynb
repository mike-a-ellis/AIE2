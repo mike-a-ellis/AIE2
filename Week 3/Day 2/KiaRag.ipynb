{
 "cells": [
  {
   "cell_type": "code",
   "execution_count": 20,
   "metadata": {},
   "outputs": [],
   "source": [
    "!pip install -qU langchain langchain-core langchain-community langchain-openai"
   ]
  },
  {
   "cell_type": "code",
   "execution_count": 2,
   "metadata": {},
   "outputs": [],
   "source": [
    "!pip install -qU qdrant-client"
   ]
  },
  {
   "cell_type": "code",
   "execution_count": 3,
   "metadata": {},
   "outputs": [],
   "source": [
    "!pip install -qU tiktoken"
   ]
  },
  {
   "cell_type": "code",
   "execution_count": 6,
   "metadata": {},
   "outputs": [
    {
     "name": "stdout",
     "output_type": "stream",
     "text": [
      "Collecting jq\n",
      "  Downloading jq-1.7.0-cp39-cp39-manylinux_2_17_x86_64.manylinux2014_x86_64.whl.metadata (6.8 kB)\n",
      "Downloading jq-1.7.0-cp39-cp39-manylinux_2_17_x86_64.manylinux2014_x86_64.whl (662 kB)\n",
      "\u001b[2K   \u001b[90m━━━━━━━━━━━━━━━━━━━━━━━━━━━━━━━━━━━━━━━━\u001b[0m \u001b[32m662.1/662.1 kB\u001b[0m \u001b[31m9.3 MB/s\u001b[0m eta \u001b[36m0:00:00\u001b[0m:00:01\u001b[0m0:01\u001b[0m\n",
      "\u001b[?25hInstalling collected packages: jq\n",
      "Successfully installed jq-1.7.0\n"
     ]
    }
   ],
   "source": [
    "!pip install jq"
   ]
  },
  {
   "cell_type": "code",
   "execution_count": 2,
   "metadata": {},
   "outputs": [],
   "source": [
    "import os\n",
    "import getpass\n",
    "\n",
    "os.environ[\"OPENAI_API_KEY\"] = getpass.getpass(\"OpenAI API Key:\")"
   ]
  },
  {
   "cell_type": "code",
   "execution_count": 3,
   "metadata": {},
   "outputs": [],
   "source": [
    "import os\n",
    "import json\n",
    "import sys\n",
    "from typing import Iterable\n",
    "from langchain.schema import Document\n",
    "from langchain.text_splitter import RecursiveCharacterTextSplitter\n",
    "import tiktoken\n",
    "from langchain_openai.embeddings import OpenAIEmbeddings\n",
    "from langchain_community.vectorstores import Qdrant\n",
    "\n",
    "def load_json_files(directory: str):\n",
    "    # Loop through JSON files in directory\n",
    "    result = []\n",
    "    for file_name in os.listdir(directory):\n",
    "        if file_name.endswith('.json'):\n",
    "            json_path = os.path.join(directory, file_name)\n",
    "            result.append(load_docs_from_jsonl(json_path))\n",
    "    return result\n",
    "\n",
    "def load_docs_from_jsonl(file_path: str) -> Iterable[Document]:\n",
    "    array = []\n",
    "    with open(file_path, 'r') as jsonl_file:\n",
    "        for line in jsonl_file:\n",
    "            data = json.loads(line)\n",
    "            obj = Document(**data)\n",
    "            array.append(obj)\n",
    "    return array\n",
    "\n",
    "all_documents = load_json_files('./data/')\n",
    "\n",
    "# Split documents into chunks\n",
    "def tiktoken_len(text):\n",
    "    tokens = tiktoken.encoding_for_model(\"gpt-4-turbo\").encode(\n",
    "        text,\n",
    "    )\n",
    "    return len(tokens)\n",
    "\n",
    "text_splitter = RecursiveCharacterTextSplitter(\n",
    "    chunk_size = 1000,\n",
    "    chunk_overlap = 200,\n",
    "    length_function = tiktoken_len,\n",
    ")\n",
    "\n",
    "splits = []\n",
    "\n",
    "for document in all_documents:\n",
    "    document_splits = text_splitter.split_documents(document)\n",
    "    splits.extend(document_splits)\n",
    "\n",
    "embedding_model = OpenAIEmbeddings(model=\"text-embedding-3-small\")\n",
    "\n",
    "qdrant_vectorstore = Qdrant.from_documents(\n",
    "    splits, \n",
    "    embedding_model, \n",
    "    path=\"./data/embeddings\",\n",
    "    collection_name=\"my_documents\",\n",
    ")\n",
    "\n",
    "qdrant_retriever = qdrant_vectorstore.as_retriever()"
   ]
  },
  {
   "cell_type": "code",
   "execution_count": 4,
   "metadata": {},
   "outputs": [],
   "source": [
    "from langchain_core.prompts import ChatPromptTemplate\n",
    "\n",
    "RAG_PROMPT = \"\"\"\n",
    "CONTEXT:\n",
    "{context}\n",
    "\n",
    "QUERY:\n",
    "{question}\n",
    "\n",
    "your primary mission is to provide precise and contextually relevant answers to queries posed by users. For each query, you must diligently analyze the provided context to determine if it holds the necessary information pertinent to the query. Should the query align with the context, you are to retrieve the appropriate knowledge and generate a concise, accurate response. However, if the query does not pertain to the context given or if the context lacks sufficient information to formulate a reliable answer, you must gracefully decline to respond, indicating that the query falls outside the scope of the provided context. Your responses should uphold the principles of relevance and accuracy, ensuring each answer serves the user's need for specific and contextual information.  If you don't know the answer, respond I DO NOT KNOW THE ANSWER.\"\n",
    "\"\"\"\n",
    "\n",
    "rag_prompt = ChatPromptTemplate.from_template(RAG_PROMPT)"
   ]
  },
  {
   "cell_type": "code",
   "execution_count": 5,
   "metadata": {},
   "outputs": [],
   "source": [
    "from langchain_openai import ChatOpenAI\n",
    "\n",
    "openai_chat_model = ChatOpenAI(model=\"gpt-4-turbo\")"
   ]
  },
  {
   "cell_type": "code",
   "execution_count": 6,
   "metadata": {},
   "outputs": [],
   "source": [
    "from operator import itemgetter\n",
    "from langchain.schema.output_parser import StrOutputParser\n",
    "from langchain.schema.runnable import RunnablePassthrough\n",
    "\n",
    "retrieval_augmented_qa_chain = (\n",
    "    # INVOKE CHAIN WITH: {\"question\" : \"<<SOME USER QUESTION>>\"}\n",
    "    # \"question\" : populated by getting the value of the \"question\" key\n",
    "    # \"context\"  : populated by getting the value of the \"question\" key and chaining it into the base_retriever\n",
    "    {\"context\": itemgetter(\"question\") | qdrant_retriever, \"question\": itemgetter(\"question\")}\n",
    "    # \"context\"  : is assigned to a RunnablePassthrough object (will not be called or considered in the next step)\n",
    "    #              by getting the value of the \"context\" key from the previous step\n",
    "    | RunnablePassthrough.assign(context=itemgetter(\"context\"))\n",
    "    # \"response\" : the \"context\" and \"question\" values are used to format our prompt object and then piped\n",
    "    #              into the LLM and stored in a key called \"response\"\n",
    "    # \"context\"  : populated by getting the value of the \"context\" key from the previous step\n",
    "    | {\"response\": rag_prompt | openai_chat_model, \"context\": itemgetter(\"context\")}\n",
    ")"
   ]
  },
  {
   "cell_type": "code",
   "execution_count": 10,
   "metadata": {},
   "outputs": [],
   "source": [
    "response = retrieval_augmented_qa_chain.invoke({\"question\" : \"What are the driving assist options?\"})"
   ]
  },
  {
   "cell_type": "code",
   "execution_count": 11,
   "metadata": {},
   "outputs": [
    {
     "data": {
      "text/plain": [
       "'The driving assist options detailed in the provided documents are:\\n\\n1. **Highway Driving Assist (HDA)**: This system is designed to adjust the speed of the vehicle automatically based on the current speed limits of the highway the vehicle is traveling on. It operates under certain conditions such as the vehicle traveling below 95 mph, driving on federal highways, Smart Cruise Control (SCC) being active and set to the current highway speed.\\n\\n2. **Lane Following Assist (LFA)**: This feature helps to ensure that the vehicle stays centered in its lane by monitoring the detected lane markings ahead and adjusting the steering accordingly. It operates only when the vehicle is traveling slower than 120 mph and recognizes both sides of the lane markers.\\n\\nThese systems are part of the Advanced Driver Assistance Systems (ADAS) and are designed to enhance driving safety and convenience. However, they are not substitutes for attentive driving and have specific operational limitations as described.'"
      ]
     },
     "execution_count": 11,
     "metadata": {},
     "output_type": "execute_result"
    }
   ],
   "source": [
    "response[\"response\"].content"
   ]
  },
  {
   "cell_type": "code",
   "execution_count": 12,
   "metadata": {},
   "outputs": [
    {
     "name": "stdout",
     "output_type": "stream",
     "text": [
      "Context:\n",
      "page_content=\"ADVANCED DRIVER ASSISTANCE SYSTEMS (ADAS) Highway Driving Assist (HDA) + 4 Highway Driving Assist (HDA) is designed to adjust the speed of the vehicle when driving on limited/controlled access highways/freeways. The system can adjust the vehicle's speed based on available highway speed information. The automatic speed setting mode is designed to set the speed automatically by adjusting to the current speed limits of the highway the vehicle is traveling on. QR CODE Highway Driving Assist (HDA) Video To turn HDA on, go to User Settings # A in the Instrument Cluster or the Vehicle Settings* in the audio head unit. Go to Driver Assistance > Driving Assist > Highway Driving Assist and press the OK button B on the Steering Wheel. ADAS To activate HDA, turn Smart Cruise Control (SCC) on by pressing the Driving Assist CRUISE button on the Steering Wheel controls C. Refer to the inside front cover for more information on QR codes. www.youtube.com/KiaFeatureVideos A MODE CRUISE C A V 0 + RES < K B > SET D CANCEL HDA will operate only when these conditions are met: · The vehicle is traveling slower than 95 mph · When driving on federal highways · When the SCC is on and operating · When the SCC speed is set to current federal highway speed When HDA is activated and the conditions are met, the Instrument Cluster indicator light D will illuminate green. If the conditions are not met, HDA will be in standby mode and the indicator light D will illuminate white. When in operation, and if both lanes are recognized, a display E will show the lanes illuminated white and the steering wheel indicator illuminated green. D HDA --- mph E HDA F HDA If HDA is activated, conditions are met and the SCC speed is set by the driver (at the posted highway speed limit or slower), HDA will enter the automatic speed setting mode. The set speed and AUTO will be displayed ® in green and an audible alert will sound. 60 mph AUTO REMINDERS: · Current highway speeds and controlled or limited access road information may vary. Future navigation updates may change this information · If the driver changes the speed while in automatic speed setting mode, it deactivates and enters a manual mode · When the ignition is cycled, the system returns to its previous state, on or off Highway Driving Assist is not a substitute for safe driving, may not detect all objects around the vehicle, and only functions on certain federal highways. Always drive safely and use caution. See the Owner's Manual for more detailed information, limitations and conditions. Images are for illustrative purposes only and may not reflect actual feature or operation. See section 5 in the Owner's Manual for more information. 22 L TELLURIDE FEATURES & FUNCTIONS GUIDE +LEGAL DISCLAIMERS ON BACK INSIDE COVER *IF EQUIPPED\" metadata={'source': 'docs/MY22 Telluride FFG r7 Reference.pdf', 'page': 24, '_id': '7a942a550283404a9c3bbaf98d19d0a0', '_collection_name': 'my_documents'}\n",
      "----\n",
      "Context:\n",
      "page_content=\"ADVANCED DRIVER ASSISTANCE SYSTEMS (ADAS) Highway Driving Assist (HDA) + 4 Highway Driving Assist (HDA) is designed to adjust the speed of the vehicle when driving on limited/controlled access highways/freeways. The system can adjust the vehicle's speed based on available highway speed information. The automatic speed setting mode is designed to set the speed automatically by adjusting to the current speed limits of the highway the vehicle is traveling on. QR CODE Highway Driving Assist (HDA) Video To turn HDA on, go to User Settings # A in the Instrument Cluster or the Vehicle Settings* in the audio head unit. Go to Driver Assistance > Driving Assist > Highway Driving Assist and press the OK button B on the Steering Wheel. ADAS To activate HDA, turn Smart Cruise Control (SCC) on by pressing the Driving Assist CRUISE button on the Steering Wheel controls C. Refer to the inside front cover for more information on QR codes. www.youtube.com/KiaFeatureVideos A MODE CRUISE C A V 0 + RES < K B > SET D CANCEL HDA will operate only when these conditions are met: · The vehicle is traveling slower than 95 mph · When driving on federal highways · When the SCC is on and operating · When the SCC speed is set to current federal highway speed When HDA is activated and the conditions are met, the Instrument Cluster indicator light D will illuminate green. If the conditions are not met, HDA will be in standby mode and the indicator light D will illuminate white. When in operation, and if both lanes are recognized, a display E will show the lanes illuminated white and the steering wheel indicator illuminated green. D HDA --- mph E HDA F HDA If HDA is activated, conditions are met and the SCC speed is set by the driver (at the posted highway speed limit or slower), HDA will enter the automatic speed setting mode. The set speed and AUTO will be displayed ® in green and an audible alert will sound. 60 mph AUTO REMINDERS: · Current highway speeds and controlled or limited access road information may vary. Future navigation updates may change this information · If the driver changes the speed while in automatic speed setting mode, it deactivates and enters a manual mode · When the ignition is cycled, the system returns to its previous state, on or off Highway Driving Assist is not a substitute for safe driving, may not detect all objects around the vehicle, and only functions on certain federal highways. Always drive safely and use caution. See the Owner's Manual for more detailed information, limitations and conditions. Images are for illustrative purposes only and may not reflect actual feature or operation. See section 5 in the Owner's Manual for more information. 22 L TELLURIDE FEATURES & FUNCTIONS GUIDE +LEGAL DISCLAIMERS ON BACK INSIDE COVER *IF EQUIPPED\" metadata={'source': 'docs/MY22 Telluride FFG r7 Reference.pdf', 'page': 24, '_id': 'cd88024a67cd4c74b90216637a145893', '_collection_name': 'my_documents'}\n",
      "----\n",
      "Context:\n",
      "page_content=\"ADVANCED DRIVER ASSISTANCE SYSTEMS (ADAS) Lane Following Assist (LFA) + 4 Lane Following Assist is designed to help ensure that the vehicle stays centered in its lane A by monitoring the detected lane markings ahead and adjust the steering. When driving, LFA can be switched on and off by pressing the Driving Assist button B. When turned on, the instrument cluster indicator will initially illuminate white when turned ON. It will remain white when the system does not detect the lane markers. When LFA detects the lane markers and can assist the steering, the LFA icon will illuminate green C. QR CODE Lane Following Assist (LFA) Video LFA will operate only when these conditions are met: ADAS · LFA recognizes both sides of the lane markers the vehicle is traveling in · The vehicle is traveling slower than 120 mph Refer to the inside front cover for more information on QR codes. www.youtube.com/KiaFeatureVideos LFA User Settings: · To go to User Settings @ in the Instrument Cluster, press the Mode button ED on the Steering Wheel when the vehicle is at a standstill, gear shift is in Park and with the ignition on or the Engine Start/Stop button* in the ON position, and select User Settings · To enable LFA, when in User Settings, press the Move (OK) button & up/down and Select Driver Assistance then Driving Assist, and select Lane Following Assist. Press the OK button E . Some models access settings through the Vehicle Settings in the audio head unit. Press the Setup hard key on the audio head unit, then VEHICLE To on the screen to enter Vehicle Settings . Some vehicles have a Lane Driving Assist / Lane Safety button* on the Driver's Panel or the Steering Wheel /O\\\\ B. Press to activate Lane Following Assist CRUISE 60 MPH A D CRUISE E OK + RES SET 71 ºF /\\\\@ C B 838 CANCEL (Button layout on right of steering wheel) REMINDER: LFA is not a substitute for safe and proper driving. Always drive safely and use caution. Images are for illustrative purposes only and may not reflect actual feature or operation. LFA is supplemental. Do not solely rely on this system and always pay attention to the road and its conditions. See section 5 in the Owner's Manual for more detailed information, limitations and conditions. ALWAYS CHECK THE OWNER'S MANUAL FOR COMPLETE OPERATING INFORMATION AND SAFETY WARNINGS. 21 +LEGAL DISCLAIMERS ON BACK INSIDE COVER *IF EQUIPPED\" metadata={'source': 'docs/MY22 Telluride FFG r7 Reference.pdf', 'page': 23, '_id': 'a846453284714bdd8c09a9ddd6d17a30', '_collection_name': 'my_documents'}\n",
      "----\n",
      "Context:\n",
      "page_content=\"ADVANCED DRIVER ASSISTANCE SYSTEMS (ADAS) Lane Following Assist (LFA) + 4 Lane Following Assist is designed to help ensure that the vehicle stays centered in its lane A by monitoring the detected lane markings ahead and adjust the steering. When driving, LFA can be switched on and off by pressing the Driving Assist button B. When turned on, the instrument cluster indicator will initially illuminate white when turned ON. It will remain white when the system does not detect the lane markers. When LFA detects the lane markers and can assist the steering, the LFA icon will illuminate green C. QR CODE Lane Following Assist (LFA) Video LFA will operate only when these conditions are met: ADAS · LFA recognizes both sides of the lane markers the vehicle is traveling in · The vehicle is traveling slower than 120 mph Refer to the inside front cover for more information on QR codes. www.youtube.com/KiaFeatureVideos LFA User Settings: · To go to User Settings @ in the Instrument Cluster, press the Mode button ED on the Steering Wheel when the vehicle is at a standstill, gear shift is in Park and with the ignition on or the Engine Start/Stop button* in the ON position, and select User Settings · To enable LFA, when in User Settings, press the Move (OK) button & up/down and Select Driver Assistance then Driving Assist, and select Lane Following Assist. Press the OK button E . Some models access settings through the Vehicle Settings in the audio head unit. Press the Setup hard key on the audio head unit, then VEHICLE To on the screen to enter Vehicle Settings . Some vehicles have a Lane Driving Assist / Lane Safety button* on the Driver's Panel or the Steering Wheel /O\\\\ B. Press to activate Lane Following Assist CRUISE 60 MPH A D CRUISE E OK + RES SET 71 ºF /\\\\@ C B 838 CANCEL (Button layout on right of steering wheel) REMINDER: LFA is not a substitute for safe and proper driving. Always drive safely and use caution. Images are for illustrative purposes only and may not reflect actual feature or operation. LFA is supplemental. Do not solely rely on this system and always pay attention to the road and its conditions. See section 5 in the Owner's Manual for more detailed information, limitations and conditions. ALWAYS CHECK THE OWNER'S MANUAL FOR COMPLETE OPERATING INFORMATION AND SAFETY WARNINGS. 21 +LEGAL DISCLAIMERS ON BACK INSIDE COVER *IF EQUIPPED\" metadata={'source': 'docs/MY22 Telluride FFG r7 Reference.pdf', 'page': 23, '_id': 'cc72b2a2366a4a6397bb305a487c5c67', '_collection_name': 'my_documents'}\n",
      "----\n"
     ]
    }
   ],
   "source": [
    "for context in response[\"context\"]:\n",
    "  print(\"Context:\")\n",
    "  print(context)\n",
    "  print(\"----\")"
   ]
  },
  {
   "cell_type": "code",
   "execution_count": null,
   "metadata": {},
   "outputs": [],
   "source": []
  }
 ],
 "metadata": {
  "kernelspec": {
   "display_name": "KiaRag",
   "language": "python",
   "name": "python3"
  },
  "language_info": {
   "codemirror_mode": {
    "name": "ipython",
    "version": 3
   },
   "file_extension": ".py",
   "mimetype": "text/x-python",
   "name": "python",
   "nbconvert_exporter": "python",
   "pygments_lexer": "ipython3",
   "version": "3.9.19"
  }
 },
 "nbformat": 4,
 "nbformat_minor": 2
}
